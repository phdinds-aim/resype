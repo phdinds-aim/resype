{
 "cells": [
  {
   "cell_type": "code",
   "execution_count": 1,
   "id": "c8110e07",
   "metadata": {
    "ExecuteTime": {
     "end_time": "2021-09-24T05:19:03.450001Z",
     "start_time": "2021-09-24T05:19:03.445608Z"
    }
   },
   "outputs": [],
   "source": [
    "fname = 'Data/user_movie.csv'\n",
    "state = 1337\n",
    "drop_cols = ['userId']"
   ]
  },
  {
   "cell_type": "markdown",
   "id": "eca93967",
   "metadata": {},
   "source": [
    "# User Clustering"
   ]
  },
  {
   "cell_type": "code",
   "execution_count": 2,
   "id": "633af2a3",
   "metadata": {
    "ExecuteTime": {
     "end_time": "2021-09-24T05:19:03.464207Z",
     "start_time": "2021-09-24T05:19:03.452644Z"
    }
   },
   "outputs": [],
   "source": [
    "def u_cluster(fname, model_fname, model, drop_cols=drop_cols):\n",
    "    \"\"\"\n",
    "    Perform user-wise clustering and assign each user to a cluster.\n",
    "    \n",
    "    Paramters\n",
    "    ---------\n",
    "    fname        : pandas DataFrame or string\n",
    "                   The initial utility matrix with each row corresponding \n",
    "                   to a user and the columns as their rating of each item\n",
    "                   \n",
    "    model_fname  : string\n",
    "                   The name of the model's pickle file when saved.\n",
    "                   \n",
    "    model        : an sklearn model object\n",
    "                   An object with a fit_predict method. Used to cluster the\n",
    "                   users into groups with similar ratings of items.\n",
    "\n",
    "    drop_cols    : list\n",
    "                   Columns to be dropped in fname\n",
    "\n",
    "    Returns\n",
    "    -------\n",
    "    model         : an sklearn model object\n",
    "                    The fitted version of the model input used to predict the\n",
    "                    clusters of users from fname\n",
    "    \n",
    "    result        : dict\n",
    "                    A mapping of each user's cluster with the keys being the\n",
    "                    user_id and the values their cluster membership\n",
    "    \n",
    "    df            : pandas DataFrame\n",
    "                    Utility matrix derived from fname with the final column\n",
    "                    corresponding to the cluster membership of that user\n",
    "    \"\"\"\n",
    "    import pandas as pd\n",
    "    import numpy as np\n",
    "    from sklearn.cluster import (KMeans, SpectralClustering,\n",
    "                                 AgglomerativeClustering, DBSCAN, OPTICS,\n",
    "                                 cluster_optics_dbscan, Birch)\n",
    "    import pickle\n",
    "    # Aggregation through tables\n",
    "\n",
    "    if isinstance(fname, str):\n",
    "        df = pd.read_csv(fname)\n",
    "    else:\n",
    "        df = fname\n",
    "\n",
    "    if drop_cols != None:\n",
    "        df = df.drop(columns=drop_cols)\n",
    "        \n",
    "    u_clusterer = model\n",
    "\n",
    "    u_predict = u_clusterer.fit_predict(df)\n",
    "    df['u_cluster'] = u_predict\n",
    "\n",
    "    model = u_clusterer\n",
    "    result = dict(df['u_cluster'])\n",
    "    with open(model_fname,'wb') as f:\n",
    "        pickle.dump(model, f)\n",
    "    return model, result, df"
   ]
  },
  {
   "cell_type": "code",
   "execution_count": null,
   "id": "390be343",
   "metadata": {},
   "outputs": [],
   "source": []
  }
 ],
 "metadata": {
  "kernelspec": {
   "display_name": "Python 3 (ipykernel)",
   "language": "python",
   "name": "python3"
  },
  "language_info": {
   "codemirror_mode": {
    "name": "ipython",
    "version": 3
   },
   "file_extension": ".py",
   "mimetype": "text/x-python",
   "name": "python",
   "nbconvert_exporter": "python",
   "pygments_lexer": "ipython3",
   "version": "3.9.5"
  },
  "latex_envs": {
   "LaTeX_envs_menu_present": true,
   "autoclose": false,
   "autocomplete": true,
   "bibliofile": "biblio.bib",
   "cite_by": "apalike",
   "current_citInitial": 1,
   "eqLabelWithNumbers": true,
   "eqNumInitial": 1,
   "hotkeys": {
    "equation": "Ctrl-E",
    "itemize": "Ctrl-I"
   },
   "labels_anchors": false,
   "latex_user_defs": false,
   "report_style_numbering": false,
   "user_envs_cfg": false
  }
 },
 "nbformat": 4,
 "nbformat_minor": 5
}
