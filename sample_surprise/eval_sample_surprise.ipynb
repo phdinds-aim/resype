{
 "cells": [
  {
   "cell_type": "markdown",
   "id": "f38040fe",
   "metadata": {},
   "source": [
    "# Sample Evaluation in Surprise"
   ]
  },
  {
   "cell_type": "markdown",
   "id": "91408ce5",
   "metadata": {},
   "source": [
    "## Install Surprise"
   ]
  },
  {
   "cell_type": "markdown",
   "id": "94bb8175",
   "metadata": {},
   "source": [
    "``` shell\n",
    "$ pip install scikit-surprise\n",
    "```"
   ]
  },
  {
   "cell_type": "markdown",
   "id": "4019b78a",
   "metadata": {},
   "source": [
    "## Using fit() method after train-test split"
   ]
  },
  {
   "cell_type": "code",
   "execution_count": 1,
   "id": "2eb28de2",
   "metadata": {},
   "outputs": [
    {
     "name": "stdout",
     "output_type": "stream",
     "text": [
      "RMSE: 0.9321\n"
     ]
    },
    {
     "data": {
      "text/plain": [
       "0.9321051878380916"
      ]
     },
     "execution_count": 1,
     "metadata": {},
     "output_type": "execute_result"
    }
   ],
   "source": [
    "from surprise import SVD\n",
    "from surprise import Dataset\n",
    "from surprise import accuracy\n",
    "from surprise.model_selection import train_test_split\n",
    "\n",
    "# Load the movielens-100k dataset (download it if needed),\n",
    "data = Dataset.load_builtin('ml-100k')\n",
    "\n",
    "# sample random trainset and testset\n",
    "# test set is made of 25% of the ratings.\n",
    "trainset, testset = train_test_split(data, test_size=.25)\n",
    "\n",
    "# We'll use the famous SVD algorithm.\n",
    "algo = SVD()\n",
    "\n",
    "# Train the algorithm on the trainset, and predict ratings for the testset\n",
    "algo.fit(trainset)\n",
    "predictions = algo.test(testset)\n",
    "\n",
    "# Then compute RMSE\n",
    "accuracy.rmse(predictions)"
   ]
  },
  {
   "cell_type": "markdown",
   "id": "68840d3f",
   "metadata": {},
   "source": [
    "Other available prediction algorithms are:\n",
    "\n",
    "| Algorithm       | Description                                                                                                        |\n",
    "|:----------------|:-------------------------------------------------------------------------------------------------------------------|\n",
    "| `NormalPredictor` | Algorithm predicting a random rating based on the distribution of the training set, which is assumed to be normal. |\n",
    "| `BaselineOnly`    | Algorithm predicting the baseline estimate for given user and item.                                                |\n",
    "| `KNNBasic`        | A basic collaborative filtering algorithm.                                                                         |\n",
    "| `KNNWithMeans`    | A basic collaborative filtering algorithm, taking into account the mean ratings of each user.                      |\n",
    "| `KNNWithZScore`   | A basic collaborative filtering algorithm, taking into account the z-score normalization of each user.             |\n",
    "| `KNNBaseline`     | A basic collaborative filtering algorithm taking into account a baseline rating.                                   |\n",
    "| `SVDpp`           | The SVD++ algorithm, an extension of `SVD` taking into account implicit ratings.                                     |\n",
    "| `NMF`             | A collaborative filtering algorithm based on Non-negative Matrix Factorization.                                    |\n",
    "| `SlopeOne`        | A simple yet accurate collaborative filtering algorithm.                                                           |\n",
    "| `CoClustering`    | A collaborative filtering algorithm based on co-clustering.                                                        |"
   ]
  },
  {
   "cell_type": "markdown",
   "id": "15be44bd",
   "metadata": {},
   "source": [
    "Other available accuracy metrics are `mse`, `mae`, and `fcp` (Fraction of Concordant Pairs)."
   ]
  },
  {
   "cell_type": "markdown",
   "id": "b949f31a",
   "metadata": {},
   "source": [
    "### Base Surprise Evaluation"
   ]
  },
  {
   "cell_type": "code",
   "execution_count": 2,
   "id": "0148f06c",
   "metadata": {},
   "outputs": [],
   "source": [
    "from surprise import (NormalPredictor, BaselineOnly, KNNBasic, KNNWithMeans,\n",
    "                      KNNWithZScore, KNNBaseline, NMF, SlopeOne, CoClustering)\n",
    "import pandas as pd\n",
    "import numpy as np"
   ]
  },
  {
   "cell_type": "code",
   "execution_count": 3,
   "id": "294f597a",
   "metadata": {},
   "outputs": [],
   "source": [
    "algos = [NormalPredictor(), BaselineOnly(), KNNBasic(), KNNWithMeans(), \n",
    "         KNNWithZScore(), KNNBaseline(), SVD(), NMF(), SlopeOne(),\n",
    "         CoClustering()]\n",
    "algo_names = [\"NormalPredictor\", \"BaselineOnly\", \"KNNBasic\", \"KNNWithMeans\",\n",
    "              \"KNNWithZScore\", \"KNNBaseline\", \"SVD\", \"NMF\", \"SlopeOne\",\n",
    "              \"CoClustering\"]"
   ]
  },
  {
   "cell_type": "code",
   "execution_count": 4,
   "id": "2189ca64",
   "metadata": {},
   "outputs": [
    {
     "name": "stdout",
     "output_type": "stream",
     "text": [
      "NormalPredictor\n",
      "BaselineOnly\n",
      "Estimating biases using als...\n",
      "KNNBasic\n",
      "Computing the msd similarity matrix...\n",
      "Done computing similarity matrix.\n",
      "KNNWithMeans\n",
      "Computing the msd similarity matrix...\n",
      "Done computing similarity matrix.\n",
      "KNNWithZScore\n",
      "Computing the msd similarity matrix...\n",
      "Done computing similarity matrix.\n",
      "KNNBaseline\n",
      "Estimating biases using als...\n",
      "Computing the msd similarity matrix...\n",
      "Done computing similarity matrix.\n",
      "SVD\n",
      "NMF\n",
      "SlopeOne\n"
     ]
    },
    {
     "name": "stderr",
     "output_type": "stream",
     "text": [
      "<ipython-input-4-e82625e22493>:7: DeprecationWarning: `np.int` is a deprecated alias for the builtin `int`. To silence this warning, use `int` by itself. Doing this will not modify any behavior and is safe. When replacing `np.int`, you may wish to use e.g. `np.int64` or `np.int32` to specify the precision. If you wish to review your current use, check the release note link for additional information.\n",
      "Deprecated in NumPy 1.20; for more details and guidance: https://numpy.org/devdocs/release/1.20.0-notes.html#deprecations\n",
      "  algo.fit(trainset)\n"
     ]
    },
    {
     "name": "stdout",
     "output_type": "stream",
     "text": [
      "CoClustering\n"
     ]
    }
   ],
   "source": [
    "i = 0\n",
    "rmses = np.zeros(len(algos))\n",
    "maes = np.zeros(len(algos))\n",
    "\n",
    "for algo in algos:\n",
    "    print(algo_names[i])\n",
    "    algo.fit(trainset)\n",
    "    predictions = algo.test(testset)\n",
    "    rmses[i] = accuracy.rmse(predictions, verbose=False)\n",
    "    maes[i] = accuracy.mae(predictions, verbose=False)\n",
    "    i += 1"
   ]
  },
  {
   "cell_type": "code",
   "execution_count": 5,
   "id": "c7a66a4e",
   "metadata": {},
   "outputs": [],
   "source": [
    "cols = ['Prediction Algorithm', 'RMSE', 'MAE']\n",
    "df = pd.DataFrame(columns=cols)"
   ]
  },
  {
   "cell_type": "code",
   "execution_count": 6,
   "id": "280b6e46",
   "metadata": {},
   "outputs": [
    {
     "data": {
      "text/html": [
       "<div>\n",
       "<style scoped>\n",
       "    .dataframe tbody tr th:only-of-type {\n",
       "        vertical-align: middle;\n",
       "    }\n",
       "\n",
       "    .dataframe tbody tr th {\n",
       "        vertical-align: top;\n",
       "    }\n",
       "\n",
       "    .dataframe thead th {\n",
       "        text-align: right;\n",
       "    }\n",
       "</style>\n",
       "<table border=\"1\" class=\"dataframe\">\n",
       "  <thead>\n",
       "    <tr style=\"text-align: right;\">\n",
       "      <th></th>\n",
       "      <th>Prediction Algorithm</th>\n",
       "      <th>RMSE</th>\n",
       "      <th>MAE</th>\n",
       "    </tr>\n",
       "  </thead>\n",
       "  <tbody>\n",
       "    <tr>\n",
       "      <th>0</th>\n",
       "      <td>NormalPredictor</td>\n",
       "      <td>1.517755</td>\n",
       "      <td>1.217249</td>\n",
       "    </tr>\n",
       "    <tr>\n",
       "      <th>1</th>\n",
       "      <td>BaselineOnly</td>\n",
       "      <td>0.941380</td>\n",
       "      <td>0.745818</td>\n",
       "    </tr>\n",
       "    <tr>\n",
       "      <th>2</th>\n",
       "      <td>KNNBasic</td>\n",
       "      <td>0.978443</td>\n",
       "      <td>0.771277</td>\n",
       "    </tr>\n",
       "    <tr>\n",
       "      <th>3</th>\n",
       "      <td>KNNWithMeans</td>\n",
       "      <td>0.948054</td>\n",
       "      <td>0.747284</td>\n",
       "    </tr>\n",
       "    <tr>\n",
       "      <th>4</th>\n",
       "      <td>KNNWithZScore</td>\n",
       "      <td>0.948948</td>\n",
       "      <td>0.744540</td>\n",
       "    </tr>\n",
       "    <tr>\n",
       "      <th>5</th>\n",
       "      <td>KNNBaseline</td>\n",
       "      <td>0.927418</td>\n",
       "      <td>0.730104</td>\n",
       "    </tr>\n",
       "    <tr>\n",
       "      <th>6</th>\n",
       "      <td>SVD</td>\n",
       "      <td>0.933118</td>\n",
       "      <td>0.735697</td>\n",
       "    </tr>\n",
       "    <tr>\n",
       "      <th>7</th>\n",
       "      <td>NMF</td>\n",
       "      <td>0.960820</td>\n",
       "      <td>0.755339</td>\n",
       "    </tr>\n",
       "    <tr>\n",
       "      <th>8</th>\n",
       "      <td>SlopeOne</td>\n",
       "      <td>0.939599</td>\n",
       "      <td>0.738244</td>\n",
       "    </tr>\n",
       "    <tr>\n",
       "      <th>9</th>\n",
       "      <td>CoClustering</td>\n",
       "      <td>0.963961</td>\n",
       "      <td>0.754460</td>\n",
       "    </tr>\n",
       "  </tbody>\n",
       "</table>\n",
       "</div>"
      ],
      "text/plain": [
       "  Prediction Algorithm      RMSE       MAE\n",
       "0      NormalPredictor  1.517755  1.217249\n",
       "1         BaselineOnly  0.941380  0.745818\n",
       "2             KNNBasic  0.978443  0.771277\n",
       "3         KNNWithMeans  0.948054  0.747284\n",
       "4        KNNWithZScore  0.948948  0.744540\n",
       "5          KNNBaseline  0.927418  0.730104\n",
       "6                  SVD  0.933118  0.735697\n",
       "7                  NMF  0.960820  0.755339\n",
       "8             SlopeOne  0.939599  0.738244\n",
       "9         CoClustering  0.963961  0.754460"
      ]
     },
     "execution_count": 6,
     "metadata": {},
     "output_type": "execute_result"
    }
   ],
   "source": [
    "df['Prediction Algorithm'] = algo_names\n",
    "df['RMSE'] = rmses\n",
    "df['MAE'] = maes\n",
    "df"
   ]
  },
  {
   "cell_type": "markdown",
   "id": "bfae6838",
   "metadata": {},
   "source": [
    "## Using predict() method after training on a whole trainset"
   ]
  },
  {
   "cell_type": "code",
   "execution_count": 7,
   "id": "b844fbb7",
   "metadata": {},
   "outputs": [
    {
     "name": "stdout",
     "output_type": "stream",
     "text": [
      "Computing the msd similarity matrix...\n",
      "Done computing similarity matrix.\n"
     ]
    },
    {
     "data": {
      "text/plain": [
       "<surprise.prediction_algorithms.knns.KNNBasic at 0x7f9090894ca0>"
      ]
     },
     "execution_count": 7,
     "metadata": {},
     "output_type": "execute_result"
    }
   ],
   "source": [
    "from surprise import KNNBasic\n",
    "\n",
    "# Retrieve the trainset.\n",
    "trainset = data.build_full_trainset()\n",
    "\n",
    "# Build an algorithm, and train it.\n",
    "algo = KNNBasic()\n",
    "algo.fit(trainset)"
   ]
  },
  {
   "cell_type": "markdown",
   "id": "f263cd53",
   "metadata": {},
   "source": [
    "To predict rating for user 196 and item 302 (true rating $r_{ui} = 4$): "
   ]
  },
  {
   "cell_type": "code",
   "execution_count": 8,
   "id": "b7c120c5",
   "metadata": {},
   "outputs": [
    {
     "name": "stdout",
     "output_type": "stream",
     "text": [
      "user: 196        item: 302        r_ui = 4.00   est = 4.06   {'actual_k': 40, 'was_impossible': False}\n"
     ]
    }
   ],
   "source": [
    "uid = str(196)  # raw user id (as in the ratings file). They are **strings**!\n",
    "iid = str(302)  # raw item id (as in the ratings file). They are **strings**!\n",
    "\n",
    "# get a prediction for specific users and items.\n",
    "pred = algo.predict(uid, iid, r_ui=4, verbose=True)"
   ]
  },
  {
   "cell_type": "code",
   "execution_count": null,
   "id": "66668b09",
   "metadata": {},
   "outputs": [],
   "source": []
  }
 ],
 "metadata": {
  "kernelspec": {
   "display_name": "Python 3",
   "language": "python",
   "name": "python3"
  },
  "language_info": {
   "codemirror_mode": {
    "name": "ipython",
    "version": 3
   },
   "file_extension": ".py",
   "mimetype": "text/x-python",
   "name": "python",
   "nbconvert_exporter": "python",
   "pygments_lexer": "ipython3",
   "version": "3.8.8"
  }
 },
 "nbformat": 4,
 "nbformat_minor": 5
}
