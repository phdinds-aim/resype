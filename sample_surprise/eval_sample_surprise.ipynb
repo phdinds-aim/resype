{
 "cells": [
  {
   "cell_type": "markdown",
   "id": "f38040fe",
   "metadata": {},
   "source": [
    "# Sample Evaluation in Surprise"
   ]
  },
  {
   "cell_type": "markdown",
   "id": "91408ce5",
   "metadata": {},
   "source": [
    "## Install Surprise"
   ]
  },
  {
   "cell_type": "markdown",
   "id": "94bb8175",
   "metadata": {},
   "source": [
    "``` shell\n",
    "$ pip install scikit-surprise\n",
    "```"
   ]
  },
  {
   "cell_type": "markdown",
   "id": "4019b78a",
   "metadata": {},
   "source": [
    "## Using fit() method after train-test split"
   ]
  },
  {
   "cell_type": "code",
   "execution_count": 1,
   "id": "2eb28de2",
   "metadata": {},
   "outputs": [
    {
     "name": "stdout",
     "output_type": "stream",
     "text": [
      "RMSE: 0.9385\n"
     ]
    },
    {
     "data": {
      "text/plain": [
       "0.9385478556368653"
      ]
     },
     "execution_count": 1,
     "metadata": {},
     "output_type": "execute_result"
    }
   ],
   "source": [
    "from surprise import SVD\n",
    "from surprise import Dataset\n",
    "from surprise import accuracy\n",
    "from surprise.model_selection import train_test_split\n",
    "\n",
    "# Load the movielens-100k dataset (download it if needed),\n",
    "data = Dataset.load_builtin('ml-100k')\n",
    "\n",
    "# sample random trainset and testset\n",
    "# test set is made of 25% of the ratings.\n",
    "trainset, testset = train_test_split(data, test_size=.25)\n",
    "\n",
    "# We'll use the famous SVD algorithm.\n",
    "algo = SVD()\n",
    "\n",
    "# Train the algorithm on the trainset, and predict ratings for the testset\n",
    "algo.fit(trainset)\n",
    "predictions = algo.test(testset)\n",
    "\n",
    "# Then compute RMSE\n",
    "accuracy.rmse(predictions)"
   ]
  },
  {
   "cell_type": "markdown",
   "id": "15be44bd",
   "metadata": {},
   "source": [
    "Other available accuracy metrics are `mse`, `mae`, and `fcp` (Fraction of Concordant Pairs)."
   ]
  },
  {
   "cell_type": "markdown",
   "id": "bfae6838",
   "metadata": {},
   "source": [
    "## Using predict() method after training on a whole trainset"
   ]
  },
  {
   "cell_type": "code",
   "execution_count": 2,
   "id": "b844fbb7",
   "metadata": {},
   "outputs": [
    {
     "name": "stdout",
     "output_type": "stream",
     "text": [
      "Computing the msd similarity matrix...\n",
      "Done computing similarity matrix.\n"
     ]
    },
    {
     "data": {
      "text/plain": [
       "<surprise.prediction_algorithms.knns.KNNBasic at 0x7f805e0966d0>"
      ]
     },
     "execution_count": 2,
     "metadata": {},
     "output_type": "execute_result"
    }
   ],
   "source": [
    "from surprise import KNNBasic\n",
    "\n",
    "\n",
    "# Retrieve the trainset.\n",
    "trainset = data.build_full_trainset()\n",
    "\n",
    "# Build an algorithm, and train it.\n",
    "algo = KNNBasic()\n",
    "algo.fit(trainset)"
   ]
  },
  {
   "cell_type": "markdown",
   "id": "f263cd53",
   "metadata": {},
   "source": [
    "To predict rating for user 196 and item 302 (true rating $r_{ui} = 4$): "
   ]
  },
  {
   "cell_type": "code",
   "execution_count": 3,
   "id": "b7c120c5",
   "metadata": {},
   "outputs": [
    {
     "name": "stdout",
     "output_type": "stream",
     "text": [
      "user: 196        item: 302        r_ui = 4.00   est = 4.06   {'actual_k': 40, 'was_impossible': False}\n"
     ]
    }
   ],
   "source": [
    "uid = str(196)  # raw user id (as in the ratings file). They are **strings**!\n",
    "iid = str(302)  # raw item id (as in the ratings file). They are **strings**!\n",
    "\n",
    "# get a prediction for specific users and items.\n",
    "pred = algo.predict(uid, iid, r_ui=4, verbose=True)"
   ]
  },
  {
   "cell_type": "code",
   "execution_count": null,
   "id": "66668b09",
   "metadata": {},
   "outputs": [],
   "source": []
  }
 ],
 "metadata": {
  "kernelspec": {
   "display_name": "Python 3",
   "language": "python",
   "name": "python3"
  },
  "language_info": {
   "codemirror_mode": {
    "name": "ipython",
    "version": 3
   },
   "file_extension": ".py",
   "mimetype": "text/x-python",
   "name": "python",
   "nbconvert_exporter": "python",
   "pygments_lexer": "ipython3",
   "version": "3.8.8"
  }
 },
 "nbformat": 4,
 "nbformat_minor": 5
}
