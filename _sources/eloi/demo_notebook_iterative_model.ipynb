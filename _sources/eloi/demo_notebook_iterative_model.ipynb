{
 "cells": [
  {
   "cell_type": "markdown",
   "metadata": {},
   "source": [
    "# Demo: Iterative Approach to ML-based Item-wise Collaborative Filtering"
   ]
  },
  {
   "cell_type": "code",
   "execution_count": 1,
   "metadata": {
    "ExecuteTime": {
     "end_time": "2021-10-09T15:07:18.179511Z",
     "start_time": "2021-10-09T15:07:17.741694Z"
    }
   },
   "outputs": [],
   "source": [
    "import pandas as pd\n",
    "import numpy as np\n",
    "import sys\n",
    "sys.path.insert(1, '../resype')\n",
    "%load_ext autoreload\n",
    "%autoreload 2 "
   ]
  },
  {
   "cell_type": "markdown",
   "metadata": {},
   "source": [
    "## Prepare data"
   ]
  },
  {
   "cell_type": "code",
   "execution_count": 2,
   "metadata": {
    "ExecuteTime": {
     "end_time": "2021-10-09T15:07:18.216751Z",
     "start_time": "2021-10-09T15:07:18.182117Z"
    }
   },
   "outputs": [
    {
     "data": {
      "text/html": [
       "<div>\n",
       "<style scoped>\n",
       "    .dataframe tbody tr th:only-of-type {\n",
       "        vertical-align: middle;\n",
       "    }\n",
       "\n",
       "    .dataframe tbody tr th {\n",
       "        vertical-align: top;\n",
       "    }\n",
       "\n",
       "    .dataframe thead th {\n",
       "        text-align: right;\n",
       "    }\n",
       "</style>\n",
       "<table border=\"1\" class=\"dataframe\">\n",
       "  <thead>\n",
       "    <tr style=\"text-align: right;\">\n",
       "      <th></th>\n",
       "      <th>M1</th>\n",
       "      <th>M2</th>\n",
       "      <th>M3</th>\n",
       "      <th>M4</th>\n",
       "    </tr>\n",
       "  </thead>\n",
       "  <tbody>\n",
       "    <tr>\n",
       "      <th>U1</th>\n",
       "      <td>2.0</td>\n",
       "      <td>NaN</td>\n",
       "      <td>5.0</td>\n",
       "      <td>5.0</td>\n",
       "    </tr>\n",
       "    <tr>\n",
       "      <th>U2</th>\n",
       "      <td>NaN</td>\n",
       "      <td>1.0</td>\n",
       "      <td>4.0</td>\n",
       "      <td>4.0</td>\n",
       "    </tr>\n",
       "    <tr>\n",
       "      <th>U3</th>\n",
       "      <td>3.0</td>\n",
       "      <td>NaN</td>\n",
       "      <td>1.0</td>\n",
       "      <td>NaN</td>\n",
       "    </tr>\n",
       "    <tr>\n",
       "      <th>U4</th>\n",
       "      <td>NaN</td>\n",
       "      <td>5.0</td>\n",
       "      <td>1.0</td>\n",
       "      <td>NaN</td>\n",
       "    </tr>\n",
       "    <tr>\n",
       "      <th>U5</th>\n",
       "      <td>1.0</td>\n",
       "      <td>1.0</td>\n",
       "      <td>4.0</td>\n",
       "      <td>NaN</td>\n",
       "    </tr>\n",
       "    <tr>\n",
       "      <th>U6</th>\n",
       "      <td>5.0</td>\n",
       "      <td>NaN</td>\n",
       "      <td>NaN</td>\n",
       "      <td>1.0</td>\n",
       "    </tr>\n",
       "  </tbody>\n",
       "</table>\n",
       "</div>"
      ],
      "text/plain": [
       "     M1   M2   M3   M4\n",
       "U1  2.0  NaN  5.0  5.0\n",
       "U2  NaN  1.0  4.0  4.0\n",
       "U3  3.0  NaN  1.0  NaN\n",
       "U4  NaN  5.0  1.0  NaN\n",
       "U5  1.0  1.0  4.0  NaN\n",
       "U6  5.0  NaN  NaN  1.0"
      ]
     },
     "execution_count": 2,
     "metadata": {},
     "output_type": "execute_result"
    }
   ],
   "source": [
    "movies_df = pd.DataFrame({'M1': [2, None, 3, None, 1, 5],\n",
    "                          'M2': [None, 1, None, 5, 1, None],\n",
    "                          'M3': [5, 4, 1, 1, 4, None],\n",
    "                          'M4': [5, 4, None, None, None, 1]},\n",
    "                         index=[f'U{i+1}' for i in range(6)])\n",
    "movies_df"
   ]
  },
  {
   "cell_type": "code",
   "execution_count": 3,
   "metadata": {
    "ExecuteTime": {
     "end_time": "2021-10-09T15:07:18.247547Z",
     "start_time": "2021-10-09T15:07:18.219304Z"
    }
   },
   "outputs": [],
   "source": [
    "movie_transactions = pd.melt(\n",
    "    movies_df.reset_index(), id_vars=['index'], \n",
    "    value_vars=movies_df.columns).dropna().reset_index(drop=True)\n",
    "movie_transactions.columns = [\"user_id\", 'item_id', 'rating']"
   ]
  },
  {
   "cell_type": "code",
   "execution_count": 4,
   "metadata": {
    "ExecuteTime": {
     "end_time": "2021-10-09T15:07:18.272111Z",
     "start_time": "2021-10-09T15:07:18.250051Z"
    }
   },
   "outputs": [
    {
     "data": {
      "text/html": [
       "<div>\n",
       "<style scoped>\n",
       "    .dataframe tbody tr th:only-of-type {\n",
       "        vertical-align: middle;\n",
       "    }\n",
       "\n",
       "    .dataframe tbody tr th {\n",
       "        vertical-align: top;\n",
       "    }\n",
       "\n",
       "    .dataframe thead th {\n",
       "        text-align: right;\n",
       "    }\n",
       "</style>\n",
       "<table border=\"1\" class=\"dataframe\">\n",
       "  <thead>\n",
       "    <tr style=\"text-align: right;\">\n",
       "      <th></th>\n",
       "      <th>user_id</th>\n",
       "      <th>item_id</th>\n",
       "      <th>rating</th>\n",
       "    </tr>\n",
       "  </thead>\n",
       "  <tbody>\n",
       "    <tr>\n",
       "      <th>0</th>\n",
       "      <td>U1</td>\n",
       "      <td>M1</td>\n",
       "      <td>2.0</td>\n",
       "    </tr>\n",
       "    <tr>\n",
       "      <th>1</th>\n",
       "      <td>U3</td>\n",
       "      <td>M1</td>\n",
       "      <td>3.0</td>\n",
       "    </tr>\n",
       "    <tr>\n",
       "      <th>2</th>\n",
       "      <td>U5</td>\n",
       "      <td>M1</td>\n",
       "      <td>1.0</td>\n",
       "    </tr>\n",
       "    <tr>\n",
       "      <th>3</th>\n",
       "      <td>U6</td>\n",
       "      <td>M1</td>\n",
       "      <td>5.0</td>\n",
       "    </tr>\n",
       "    <tr>\n",
       "      <th>4</th>\n",
       "      <td>U2</td>\n",
       "      <td>M2</td>\n",
       "      <td>1.0</td>\n",
       "    </tr>\n",
       "    <tr>\n",
       "      <th>5</th>\n",
       "      <td>U4</td>\n",
       "      <td>M2</td>\n",
       "      <td>5.0</td>\n",
       "    </tr>\n",
       "    <tr>\n",
       "      <th>6</th>\n",
       "      <td>U5</td>\n",
       "      <td>M2</td>\n",
       "      <td>1.0</td>\n",
       "    </tr>\n",
       "    <tr>\n",
       "      <th>7</th>\n",
       "      <td>U1</td>\n",
       "      <td>M3</td>\n",
       "      <td>5.0</td>\n",
       "    </tr>\n",
       "    <tr>\n",
       "      <th>8</th>\n",
       "      <td>U2</td>\n",
       "      <td>M3</td>\n",
       "      <td>4.0</td>\n",
       "    </tr>\n",
       "    <tr>\n",
       "      <th>9</th>\n",
       "      <td>U3</td>\n",
       "      <td>M3</td>\n",
       "      <td>1.0</td>\n",
       "    </tr>\n",
       "    <tr>\n",
       "      <th>10</th>\n",
       "      <td>U4</td>\n",
       "      <td>M3</td>\n",
       "      <td>1.0</td>\n",
       "    </tr>\n",
       "    <tr>\n",
       "      <th>11</th>\n",
       "      <td>U5</td>\n",
       "      <td>M3</td>\n",
       "      <td>4.0</td>\n",
       "    </tr>\n",
       "    <tr>\n",
       "      <th>12</th>\n",
       "      <td>U1</td>\n",
       "      <td>M4</td>\n",
       "      <td>5.0</td>\n",
       "    </tr>\n",
       "    <tr>\n",
       "      <th>13</th>\n",
       "      <td>U2</td>\n",
       "      <td>M4</td>\n",
       "      <td>4.0</td>\n",
       "    </tr>\n",
       "    <tr>\n",
       "      <th>14</th>\n",
       "      <td>U6</td>\n",
       "      <td>M4</td>\n",
       "      <td>1.0</td>\n",
       "    </tr>\n",
       "  </tbody>\n",
       "</table>\n",
       "</div>"
      ],
      "text/plain": [
       "   user_id item_id  rating\n",
       "0       U1      M1     2.0\n",
       "1       U3      M1     3.0\n",
       "2       U5      M1     1.0\n",
       "3       U6      M1     5.0\n",
       "4       U2      M2     1.0\n",
       "5       U4      M2     5.0\n",
       "6       U5      M2     1.0\n",
       "7       U1      M3     5.0\n",
       "8       U2      M3     4.0\n",
       "9       U3      M3     1.0\n",
       "10      U4      M3     1.0\n",
       "11      U5      M3     4.0\n",
       "12      U1      M4     5.0\n",
       "13      U2      M4     4.0\n",
       "14      U6      M4     1.0"
      ]
     },
     "execution_count": 4,
     "metadata": {},
     "output_type": "execute_result"
    }
   ],
   "source": [
    "movie_transactions"
   ]
  },
  {
   "cell_type": "markdown",
   "metadata": {},
   "source": [
    "## Load resype"
   ]
  },
  {
   "cell_type": "code",
   "execution_count": 5,
   "metadata": {
    "ExecuteTime": {
     "end_time": "2021-10-09T15:07:18.650775Z",
     "start_time": "2021-10-09T15:07:18.273992Z"
    }
   },
   "outputs": [],
   "source": [
    "from collab_filtering import CollabFilteringModel\n",
    "re = CollabFilteringModel(movie_transactions)"
   ]
  },
  {
   "cell_type": "code",
   "execution_count": 6,
   "metadata": {
    "ExecuteTime": {
     "end_time": "2021-10-09T15:07:18.681490Z",
     "start_time": "2021-10-09T15:07:18.652892Z"
    }
   },
   "outputs": [
    {
     "data": {
      "text/html": [
       "<div>\n",
       "<style scoped>\n",
       "    .dataframe tbody tr th:only-of-type {\n",
       "        vertical-align: middle;\n",
       "    }\n",
       "\n",
       "    .dataframe tbody tr th {\n",
       "        vertical-align: top;\n",
       "    }\n",
       "\n",
       "    .dataframe thead th {\n",
       "        text-align: right;\n",
       "    }\n",
       "</style>\n",
       "<table border=\"1\" class=\"dataframe\">\n",
       "  <thead>\n",
       "    <tr style=\"text-align: right;\">\n",
       "      <th>item_id</th>\n",
       "      <th>M1</th>\n",
       "      <th>M2</th>\n",
       "      <th>M3</th>\n",
       "      <th>M4</th>\n",
       "    </tr>\n",
       "    <tr>\n",
       "      <th>user_id</th>\n",
       "      <th></th>\n",
       "      <th></th>\n",
       "      <th></th>\n",
       "      <th></th>\n",
       "    </tr>\n",
       "  </thead>\n",
       "  <tbody>\n",
       "    <tr>\n",
       "      <th>U1</th>\n",
       "      <td>2.0</td>\n",
       "      <td>NaN</td>\n",
       "      <td>5.0</td>\n",
       "      <td>5.0</td>\n",
       "    </tr>\n",
       "    <tr>\n",
       "      <th>U2</th>\n",
       "      <td>NaN</td>\n",
       "      <td>1.0</td>\n",
       "      <td>4.0</td>\n",
       "      <td>4.0</td>\n",
       "    </tr>\n",
       "    <tr>\n",
       "      <th>U3</th>\n",
       "      <td>3.0</td>\n",
       "      <td>NaN</td>\n",
       "      <td>1.0</td>\n",
       "      <td>NaN</td>\n",
       "    </tr>\n",
       "    <tr>\n",
       "      <th>U4</th>\n",
       "      <td>NaN</td>\n",
       "      <td>5.0</td>\n",
       "      <td>1.0</td>\n",
       "      <td>NaN</td>\n",
       "    </tr>\n",
       "    <tr>\n",
       "      <th>U5</th>\n",
       "      <td>1.0</td>\n",
       "      <td>1.0</td>\n",
       "      <td>4.0</td>\n",
       "      <td>NaN</td>\n",
       "    </tr>\n",
       "    <tr>\n",
       "      <th>U6</th>\n",
       "      <td>5.0</td>\n",
       "      <td>NaN</td>\n",
       "      <td>NaN</td>\n",
       "      <td>1.0</td>\n",
       "    </tr>\n",
       "  </tbody>\n",
       "</table>\n",
       "</div>"
      ],
      "text/plain": [
       "item_id   M1   M2   M3   M4\n",
       "user_id                    \n",
       "U1       2.0  NaN  5.0  5.0\n",
       "U2       NaN  1.0  4.0  4.0\n",
       "U3       3.0  NaN  1.0  NaN\n",
       "U4       NaN  5.0  1.0  NaN\n",
       "U5       1.0  1.0  4.0  NaN\n",
       "U6       5.0  NaN  NaN  1.0"
      ]
     },
     "execution_count": 6,
     "metadata": {},
     "output_type": "execute_result"
    }
   ],
   "source": [
    "utility_matrix = re.construct_utility_matrix()\n",
    "utility_matrix"
   ]
  },
  {
   "cell_type": "markdown",
   "metadata": {},
   "source": [
    "## Train iterative model using `train_model_iterative`"
   ]
  },
  {
   "cell_type": "markdown",
   "metadata": {},
   "source": [
    "#### Create model object (load from sklearn)"
   ]
  },
  {
   "cell_type": "code",
   "execution_count": 7,
   "metadata": {
    "ExecuteTime": {
     "end_time": "2021-10-09T15:07:18.745536Z",
     "start_time": "2021-10-09T15:07:18.683288Z"
    }
   },
   "outputs": [],
   "source": [
    "from sklearn.ensemble import RandomForestRegressor\n",
    "rs_model1 = RandomForestRegressor(random_state=202109)"
   ]
  },
  {
   "cell_type": "markdown",
   "metadata": {},
   "source": [
    "#### Train model"
   ]
  },
  {
   "cell_type": "code",
   "execution_count": 8,
   "metadata": {
    "ExecuteTime": {
     "end_time": "2021-10-09T15:07:18.773774Z",
     "start_time": "2021-10-09T15:07:18.747679Z"
    }
   },
   "outputs": [
    {
     "data": {
      "text/html": [
       "<div>\n",
       "<style scoped>\n",
       "    .dataframe tbody tr th:only-of-type {\n",
       "        vertical-align: middle;\n",
       "    }\n",
       "\n",
       "    .dataframe tbody tr th {\n",
       "        vertical-align: top;\n",
       "    }\n",
       "\n",
       "    .dataframe thead th {\n",
       "        text-align: right;\n",
       "    }\n",
       "</style>\n",
       "<table border=\"1\" class=\"dataframe\">\n",
       "  <thead>\n",
       "    <tr style=\"text-align: right;\">\n",
       "      <th>item_id</th>\n",
       "      <th>M1</th>\n",
       "      <th>M2</th>\n",
       "      <th>M3</th>\n",
       "      <th>M4</th>\n",
       "    </tr>\n",
       "    <tr>\n",
       "      <th>user_id</th>\n",
       "      <th></th>\n",
       "      <th></th>\n",
       "      <th></th>\n",
       "      <th></th>\n",
       "    </tr>\n",
       "  </thead>\n",
       "  <tbody>\n",
       "    <tr>\n",
       "      <th>U1</th>\n",
       "      <td>2.0</td>\n",
       "      <td>NaN</td>\n",
       "      <td>5.0</td>\n",
       "      <td>5.0</td>\n",
       "    </tr>\n",
       "    <tr>\n",
       "      <th>U2</th>\n",
       "      <td>NaN</td>\n",
       "      <td>1.0</td>\n",
       "      <td>4.0</td>\n",
       "      <td>4.0</td>\n",
       "    </tr>\n",
       "    <tr>\n",
       "      <th>U3</th>\n",
       "      <td>3.0</td>\n",
       "      <td>NaN</td>\n",
       "      <td>1.0</td>\n",
       "      <td>NaN</td>\n",
       "    </tr>\n",
       "    <tr>\n",
       "      <th>U4</th>\n",
       "      <td>NaN</td>\n",
       "      <td>5.0</td>\n",
       "      <td>1.0</td>\n",
       "      <td>NaN</td>\n",
       "    </tr>\n",
       "    <tr>\n",
       "      <th>U5</th>\n",
       "      <td>1.0</td>\n",
       "      <td>1.0</td>\n",
       "      <td>4.0</td>\n",
       "      <td>NaN</td>\n",
       "    </tr>\n",
       "    <tr>\n",
       "      <th>U6</th>\n",
       "      <td>5.0</td>\n",
       "      <td>NaN</td>\n",
       "      <td>NaN</td>\n",
       "      <td>1.0</td>\n",
       "    </tr>\n",
       "  </tbody>\n",
       "</table>\n",
       "</div>"
      ],
      "text/plain": [
       "item_id   M1   M2   M3   M4\n",
       "user_id                    \n",
       "U1       2.0  NaN  5.0  5.0\n",
       "U2       NaN  1.0  4.0  4.0\n",
       "U3       3.0  NaN  1.0  NaN\n",
       "U4       NaN  5.0  1.0  NaN\n",
       "U5       1.0  1.0  4.0  NaN\n",
       "U6       5.0  NaN  NaN  1.0"
      ]
     },
     "execution_count": 8,
     "metadata": {},
     "output_type": "execute_result"
    }
   ],
   "source": [
    "re.utility_matrix"
   ]
  },
  {
   "cell_type": "code",
   "execution_count": 9,
   "metadata": {
    "ExecuteTime": {
     "end_time": "2021-10-09T15:07:19.726885Z",
     "start_time": "2021-10-09T15:07:18.775364Z"
    }
   },
   "outputs": [],
   "source": [
    "utility_matrix_imputed, metrics, trained_model = re.train_model_iterative(\n",
    "    re.utility_matrix, rs_model1, return_models=True)"
   ]
  },
  {
   "cell_type": "markdown",
   "metadata": {},
   "source": [
    "#### Prediction"
   ]
  },
  {
   "cell_type": "code",
   "execution_count": 10,
   "metadata": {
    "ExecuteTime": {
     "end_time": "2021-10-09T15:07:19.760203Z",
     "start_time": "2021-10-09T15:07:19.730082Z"
    }
   },
   "outputs": [
    {
     "data": {
      "text/html": [
       "<div>\n",
       "<style scoped>\n",
       "    .dataframe tbody tr th:only-of-type {\n",
       "        vertical-align: middle;\n",
       "    }\n",
       "\n",
       "    .dataframe tbody tr th {\n",
       "        vertical-align: top;\n",
       "    }\n",
       "\n",
       "    .dataframe thead th {\n",
       "        text-align: right;\n",
       "    }\n",
       "</style>\n",
       "<table border=\"1\" class=\"dataframe\">\n",
       "  <thead>\n",
       "    <tr style=\"text-align: right;\">\n",
       "      <th>item_id</th>\n",
       "      <th>M1</th>\n",
       "      <th>M2</th>\n",
       "      <th>M3</th>\n",
       "      <th>M4</th>\n",
       "    </tr>\n",
       "    <tr>\n",
       "      <th>user_id</th>\n",
       "      <th></th>\n",
       "      <th></th>\n",
       "      <th></th>\n",
       "      <th></th>\n",
       "    </tr>\n",
       "  </thead>\n",
       "  <tbody>\n",
       "    <tr>\n",
       "      <th>U1</th>\n",
       "      <td>-2.00</td>\n",
       "      <td>-1.45</td>\n",
       "      <td>1.00</td>\n",
       "      <td>1.00</td>\n",
       "    </tr>\n",
       "    <tr>\n",
       "      <th>U2</th>\n",
       "      <td>-1.45</td>\n",
       "      <td>-2.00</td>\n",
       "      <td>1.00</td>\n",
       "      <td>1.00</td>\n",
       "    </tr>\n",
       "    <tr>\n",
       "      <th>U3</th>\n",
       "      <td>1.00</td>\n",
       "      <td>1.14</td>\n",
       "      <td>-1.00</td>\n",
       "      <td>-1.16</td>\n",
       "    </tr>\n",
       "    <tr>\n",
       "      <th>U4</th>\n",
       "      <td>1.22</td>\n",
       "      <td>2.00</td>\n",
       "      <td>-2.00</td>\n",
       "      <td>-1.16</td>\n",
       "    </tr>\n",
       "    <tr>\n",
       "      <th>U5</th>\n",
       "      <td>-1.00</td>\n",
       "      <td>-1.00</td>\n",
       "      <td>2.00</td>\n",
       "      <td>0.91</td>\n",
       "    </tr>\n",
       "    <tr>\n",
       "      <th>U6</th>\n",
       "      <td>2.00</td>\n",
       "      <td>1.14</td>\n",
       "      <td>-1.15</td>\n",
       "      <td>-2.00</td>\n",
       "    </tr>\n",
       "  </tbody>\n",
       "</table>\n",
       "</div>"
      ],
      "text/plain": [
       "item_id    M1    M2    M3    M4\n",
       "user_id                        \n",
       "U1      -2.00 -1.45  1.00  1.00\n",
       "U2      -1.45 -2.00  1.00  1.00\n",
       "U3       1.00  1.14 -1.00 -1.16\n",
       "U4       1.22  2.00 -2.00 -1.16\n",
       "U5      -1.00 -1.00  2.00  0.91\n",
       "U6       2.00  1.14 -1.15 -2.00"
      ]
     },
     "execution_count": 10,
     "metadata": {},
     "output_type": "execute_result"
    }
   ],
   "source": [
    "utility_matrix_imputed"
   ]
  },
  {
   "cell_type": "markdown",
   "metadata": {},
   "source": [
    "#### Convert to scale of original ratings"
   ]
  },
  {
   "cell_type": "code",
   "execution_count": 11,
   "metadata": {
    "ExecuteTime": {
     "end_time": "2021-10-09T15:07:19.796566Z",
     "start_time": "2021-10-09T15:07:19.762324Z"
    }
   },
   "outputs": [
    {
     "data": {
      "text/html": [
       "<div>\n",
       "<style scoped>\n",
       "    .dataframe tbody tr th:only-of-type {\n",
       "        vertical-align: middle;\n",
       "    }\n",
       "\n",
       "    .dataframe tbody tr th {\n",
       "        vertical-align: top;\n",
       "    }\n",
       "\n",
       "    .dataframe thead th {\n",
       "        text-align: right;\n",
       "    }\n",
       "</style>\n",
       "<table border=\"1\" class=\"dataframe\">\n",
       "  <thead>\n",
       "    <tr style=\"text-align: right;\">\n",
       "      <th>item_id</th>\n",
       "      <th>M1</th>\n",
       "      <th>M2</th>\n",
       "      <th>M3</th>\n",
       "      <th>M4</th>\n",
       "    </tr>\n",
       "    <tr>\n",
       "      <th>user_id</th>\n",
       "      <th></th>\n",
       "      <th></th>\n",
       "      <th></th>\n",
       "      <th></th>\n",
       "    </tr>\n",
       "  </thead>\n",
       "  <tbody>\n",
       "    <tr>\n",
       "      <th>U1</th>\n",
       "      <td>2.00</td>\n",
       "      <td>2.55</td>\n",
       "      <td>5.00</td>\n",
       "      <td>5.00</td>\n",
       "    </tr>\n",
       "    <tr>\n",
       "      <th>U2</th>\n",
       "      <td>1.55</td>\n",
       "      <td>1.00</td>\n",
       "      <td>4.00</td>\n",
       "      <td>4.00</td>\n",
       "    </tr>\n",
       "    <tr>\n",
       "      <th>U3</th>\n",
       "      <td>3.00</td>\n",
       "      <td>3.14</td>\n",
       "      <td>1.00</td>\n",
       "      <td>0.84</td>\n",
       "    </tr>\n",
       "    <tr>\n",
       "      <th>U4</th>\n",
       "      <td>4.22</td>\n",
       "      <td>5.00</td>\n",
       "      <td>1.00</td>\n",
       "      <td>1.84</td>\n",
       "    </tr>\n",
       "    <tr>\n",
       "      <th>U5</th>\n",
       "      <td>1.00</td>\n",
       "      <td>1.00</td>\n",
       "      <td>4.00</td>\n",
       "      <td>2.91</td>\n",
       "    </tr>\n",
       "    <tr>\n",
       "      <th>U6</th>\n",
       "      <td>5.00</td>\n",
       "      <td>4.14</td>\n",
       "      <td>1.85</td>\n",
       "      <td>1.00</td>\n",
       "    </tr>\n",
       "  </tbody>\n",
       "</table>\n",
       "</div>"
      ],
      "text/plain": [
       "item_id    M1    M2    M3    M4\n",
       "user_id                        \n",
       "U1       2.00  2.55  5.00  5.00\n",
       "U2       1.55  1.00  4.00  4.00\n",
       "U3       3.00  3.14  1.00  0.84\n",
       "U4       4.22  5.00  1.00  1.84\n",
       "U5       1.00  1.00  4.00  2.91\n",
       "U6       5.00  4.14  1.85  1.00"
      ]
     },
     "execution_count": 11,
     "metadata": {},
     "output_type": "execute_result"
    }
   ],
   "source": [
    "utility_matrix_imputed.add(re.utility_matrix.mean(axis=1), axis=0)"
   ]
  },
  {
   "cell_type": "markdown",
   "metadata": {},
   "source": [
    "## Train iterative model using `fit`"
   ]
  },
  {
   "cell_type": "markdown",
   "metadata": {},
   "source": [
    "#### Create model object (load from sklearn)"
   ]
  },
  {
   "cell_type": "markdown",
   "metadata": {},
   "source": [
    "#### Train model"
   ]
  },
  {
   "cell_type": "code",
   "execution_count": 12,
   "metadata": {
    "ExecuteTime": {
     "end_time": "2021-10-09T15:07:20.771804Z",
     "start_time": "2021-10-09T15:07:19.798313Z"
    }
   },
   "outputs": [],
   "source": [
    "re.fit(rs_model1, method='iterative', return_models=True)"
   ]
  },
  {
   "cell_type": "markdown",
   "metadata": {},
   "source": [
    "#### Prediction"
   ]
  },
  {
   "cell_type": "code",
   "execution_count": 13,
   "metadata": {
    "ExecuteTime": {
     "end_time": "2021-10-09T15:07:20.801544Z",
     "start_time": "2021-10-09T15:07:20.774009Z"
    }
   },
   "outputs": [
    {
     "data": {
      "text/html": [
       "<div>\n",
       "<style scoped>\n",
       "    .dataframe tbody tr th:only-of-type {\n",
       "        vertical-align: middle;\n",
       "    }\n",
       "\n",
       "    .dataframe tbody tr th {\n",
       "        vertical-align: top;\n",
       "    }\n",
       "\n",
       "    .dataframe thead th {\n",
       "        text-align: right;\n",
       "    }\n",
       "</style>\n",
       "<table border=\"1\" class=\"dataframe\">\n",
       "  <thead>\n",
       "    <tr style=\"text-align: right;\">\n",
       "      <th>item_id</th>\n",
       "      <th>M1</th>\n",
       "      <th>M2</th>\n",
       "      <th>M3</th>\n",
       "      <th>M4</th>\n",
       "    </tr>\n",
       "    <tr>\n",
       "      <th>user_id</th>\n",
       "      <th></th>\n",
       "      <th></th>\n",
       "      <th></th>\n",
       "      <th></th>\n",
       "    </tr>\n",
       "  </thead>\n",
       "  <tbody>\n",
       "    <tr>\n",
       "      <th>U1</th>\n",
       "      <td>-2.00</td>\n",
       "      <td>-1.45</td>\n",
       "      <td>1.00</td>\n",
       "      <td>1.00</td>\n",
       "    </tr>\n",
       "    <tr>\n",
       "      <th>U2</th>\n",
       "      <td>-1.45</td>\n",
       "      <td>-2.00</td>\n",
       "      <td>1.00</td>\n",
       "      <td>1.00</td>\n",
       "    </tr>\n",
       "    <tr>\n",
       "      <th>U3</th>\n",
       "      <td>1.00</td>\n",
       "      <td>1.14</td>\n",
       "      <td>-1.00</td>\n",
       "      <td>-1.16</td>\n",
       "    </tr>\n",
       "    <tr>\n",
       "      <th>U4</th>\n",
       "      <td>1.22</td>\n",
       "      <td>2.00</td>\n",
       "      <td>-2.00</td>\n",
       "      <td>-1.16</td>\n",
       "    </tr>\n",
       "    <tr>\n",
       "      <th>U5</th>\n",
       "      <td>-1.00</td>\n",
       "      <td>-1.00</td>\n",
       "      <td>2.00</td>\n",
       "      <td>0.91</td>\n",
       "    </tr>\n",
       "    <tr>\n",
       "      <th>U6</th>\n",
       "      <td>2.00</td>\n",
       "      <td>1.14</td>\n",
       "      <td>-1.15</td>\n",
       "      <td>-2.00</td>\n",
       "    </tr>\n",
       "  </tbody>\n",
       "</table>\n",
       "</div>"
      ],
      "text/plain": [
       "item_id    M1    M2    M3    M4\n",
       "user_id                        \n",
       "U1      -2.00 -1.45  1.00  1.00\n",
       "U2      -1.45 -2.00  1.00  1.00\n",
       "U3       1.00  1.14 -1.00 -1.16\n",
       "U4       1.22  2.00 -2.00 -1.16\n",
       "U5      -1.00 -1.00  2.00  0.91\n",
       "U6       2.00  1.14 -1.15 -2.00"
      ]
     },
     "execution_count": 13,
     "metadata": {},
     "output_type": "execute_result"
    }
   ],
   "source": [
    "re.utility_matrix_preds"
   ]
  },
  {
   "cell_type": "markdown",
   "metadata": {},
   "source": [
    "#### Trained models"
   ]
  },
  {
   "cell_type": "code",
   "execution_count": 14,
   "metadata": {
    "ExecuteTime": {
     "end_time": "2021-10-09T15:07:20.823207Z",
     "start_time": "2021-10-09T15:07:20.803308Z"
    }
   },
   "outputs": [
    {
     "data": {
      "text/plain": [
       "{'M1': RandomForestRegressor(random_state=202109),\n",
       " 'M2': RandomForestRegressor(random_state=202109),\n",
       " 'M3': RandomForestRegressor(random_state=202109),\n",
       " 'M4': RandomForestRegressor(random_state=202109)}"
      ]
     },
     "execution_count": 14,
     "metadata": {},
     "output_type": "execute_result"
    }
   ],
   "source": [
    "re.trained_models"
   ]
  },
  {
   "cell_type": "markdown",
   "metadata": {},
   "source": [
    "### Unit test"
   ]
  },
  {
   "cell_type": "code",
   "execution_count": 15,
   "metadata": {
    "ExecuteTime": {
     "end_time": "2021-10-09T15:07:28.253464Z",
     "start_time": "2021-10-09T15:07:20.824963Z"
    }
   },
   "outputs": [
    {
     "name": "stderr",
     "output_type": "stream",
     "text": [
      "test_eval_convergence_criterion (__main__.TestTrainIterativeModel) ... ok\n",
      "test_fit (__main__.TestTrainIterativeModel) ... ok\n",
      "test_initialize_models_itemwise (__main__.TestTrainIterativeModel) ... ok\n",
      "test_initialize_models_userwise (__main__.TestTrainIterativeModel) ... ok\n",
      "test_train_model_iterative (__main__.TestTrainIterativeModel) ... ok\n",
      "\n",
      "----------------------------------------------------------------------\n",
      "Ran 5 tests in 7.376s\n",
      "\n",
      "OK\n"
     ]
    },
    {
     "data": {
      "text/plain": [
       "<unittest.main.TestProgram at 0x7f26f01024f0>"
      ]
     },
     "execution_count": 15,
     "metadata": {},
     "output_type": "execute_result"
    }
   ],
   "source": [
    "import unittest\n",
    "import pandas as pd\n",
    "from pandas._testing import assert_index_equal\n",
    "from pandas._testing import assert_frame_equal\n",
    "\n",
    "\n",
    "class TestTrainIterativeModel(unittest.TestCase):\n",
    "    from collab_filtering import CollabFilteringModel\n",
    "    movies_df = pd.DataFrame({'M1': [2, None, 3, None, 1, 5],\n",
    "                              'M2': [None, 1, None, 5, 1, None],\n",
    "                              'M3': [5, 4, 1, 1, 4, None],\n",
    "                              'M4': [5, 4, None, None, None, 1]},\n",
    "                             index=[f'U{i+1}' for i in range(6)])\n",
    "    movie_transactions = pd.melt(\n",
    "        movies_df.reset_index(), id_vars=['index'],\n",
    "        value_vars=movies_df.columns).dropna().reset_index(drop=True)\n",
    "    movie_transactions.columns = [\"user_id\", 'item_id', 'rating']\n",
    "\n",
    "    def test_initialize_models_itemwise(self):\n",
    "        re_test = CollabFilteringModel(movie_transactions)\n",
    "        um = re_test.construct_utility_matrix()\n",
    "        rf = RandomForestRegressor(random_state=202109)\n",
    "        self.assertEqual(len(\n",
    "            re_test.initialize_models_itemwise(um, rf)), um.shape[1])\n",
    "        self.assertListEqual(sorted(um.columns),\n",
    "                             sorted(re_test.initialize_models_itemwise(\n",
    "                                 um, rf, suffix=\"\").keys()))\n",
    "        self.assertEqual(sorted(um.columns)[0]+'model',\n",
    "                         sorted(re_test.initialize_models_itemwise(\n",
    "                             um, rf).keys())[0])\n",
    "\n",
    "    def test_initialize_models_userwise(self):\n",
    "        re_test = CollabFilteringModel(movie_transactions)\n",
    "        um = re_test.construct_utility_matrix()\n",
    "        rf = RandomForestRegressor(random_state=202109)\n",
    "        self.assertEqual(len(\n",
    "            re_test.initialize_models_userwise(um, rf)), um.shape[0])\n",
    "        self.assertListEqual(sorted(um.index),\n",
    "                             sorted(re_test.initialize_models_userwise(\n",
    "                                 um, rf, suffix=\"\").keys()))\n",
    "        self.assertEqual(sorted(um.index)[0]+'model',\n",
    "                         sorted(re_test.initialize_models_userwise(\n",
    "                             um, rf).keys())[0])\n",
    "\n",
    "    def test_eval_convergence_criterion(self):\n",
    "        from sklearn.metrics import mean_squared_error\n",
    "        re_test = CollabFilteringModel(movie_transactions)\n",
    "        um = re_test.construct_utility_matrix()\n",
    "        pred_curr = [0, 0, 1]\n",
    "        pred_prev = [1, 0, 1]\n",
    "        pred_curr2 = [0, 0, 0.5]\n",
    "\n",
    "        self.assertAlmostEqual(mean_squared_error(pred_curr, pred_prev),\n",
    "                               re.eval_convergence_criterion(\n",
    "                                   pred_curr, pred_prev, stopping_criterion='mse')[0])\n",
    "        self.assertFalse(re.eval_convergence_criterion(\n",
    "            pred_curr, pred_prev, stopping_criterion='mse')[1])\n",
    "        self.assertFalse(re.eval_convergence_criterion(\n",
    "            pred_curr, pred_prev, stopping_criterion='mse',\n",
    "            mse_threshold=0.1)[1])\n",
    "        self.assertTrue(re.eval_convergence_criterion(\n",
    "            pred_curr, pred_prev, stopping_criterion='mse',\n",
    "            mse_threshold=0.4)[1])\n",
    "        self.assertTrue(re.eval_convergence_criterion(\n",
    "            pred_curr, pred_curr2, stopping_criterion='mse',\n",
    "            mse_threshold=0.1)[1])\n",
    "        self.assertTrue(re.eval_convergence_criterion(\n",
    "            pred_curr, pred_curr2, stopping_criterion='mse')[1])\n",
    "        self.assertFalse(re.eval_convergence_criterion(\n",
    "            pred_curr, pred_prev,  scaled=True, rating_max=1)[1])\n",
    "        self.assertTrue(re.eval_convergence_criterion(\n",
    "            pred_curr, pred_prev,  scaled=True, rating_max=5)[1])\n",
    "        self.assertEqual(0, re.eval_convergence_criterion(\n",
    "            pred_curr, pred_curr, stopping_criterion='stdev_abs',\n",
    "            stdev_threshold=0.5)[0])\n",
    "        self.assertTrue(re.eval_convergence_criterion(\n",
    "            pred_curr, pred_prev, stopping_criterion='stdev_abs',\n",
    "            stdev_threshold=0.5)[1])\n",
    "        self.assertFalse(re.eval_convergence_criterion(\n",
    "            pred_curr, pred_prev, stopping_criterion='stdev_abs',\n",
    "            stdev_threshold=0.4)[1])\n",
    "        self.assertFalse(re.eval_convergence_criterion(\n",
    "            pred_curr, pred_prev, stopping_criterion='stdev_abs',\n",
    "            stdev_threshold=0.1, scaled=True,\n",
    "            scaling_method='max', rating_max=1)[1])\n",
    "\n",
    "    def test_train_model_iterative(self):\n",
    "        re_test = CollabFilteringModel(movie_transactions)\n",
    "        um = re_test.construct_utility_matrix()\n",
    "        rf = RandomForestRegressor(random_state=202109)\n",
    "\n",
    "        self.assertEqual(len(re_test.train_model_iterative(um, rf)), 3)\n",
    "        self.assertEqual(\n",
    "            len(re_test.train_model_iterative(um, rf, return_models=True)), 3)\n",
    "        self.assertEqual(\n",
    "            len(re_test.train_model_iterative(um, rf, return_models=True)[2]),\n",
    "            um.shape[1])\n",
    "        self.assertEqual(\n",
    "            len(re_test.train_model_iterative(um, rf, return_models=False)), 2)\n",
    "        self.assertEqual(um.shape,\n",
    "                         re_test.train_model_iterative(\n",
    "                             um, rf, return_models=False)[0].shape)\n",
    "        self.assertEqual(um.shape,\n",
    "                         re_test.train_model_iterative(\n",
    "                             um, rf, return_models=True)[0].shape)\n",
    "\n",
    "    def test_fit(self):\n",
    "        re_test = CollabFilteringModel(movie_transactions)\n",
    "        um = re_test.construct_utility_matrix()\n",
    "        rf = RandomForestRegressor(random_state=202109)\n",
    "        re_test.fit(rf, method='iterative')\n",
    "        um_preds = re_test.utility_matrix_preds\n",
    "        self.assertFalse(um_preds.isnull().any().any())\n",
    "        \n",
    "        rf = RandomForestRegressor(random_state=202109)\n",
    "        re_test.fit(rf, method='iterative', return_models=True)\n",
    "        um_preds = re_test.utility_matrix_preds\n",
    "        self.assertFalse(um_preds.isnull().any().any())\n",
    "        self.assertEqual(len(re_test.trained_models), um.shape[1])\n",
    "\n",
    "unittest.main(argv=[''], verbosity=2, exit=False)"
   ]
  }
 ],
 "metadata": {
  "kernelspec": {
   "display_name": "Python 3 (ipykernel)",
   "language": "python",
   "name": "python3"
  },
  "language_info": {
   "codemirror_mode": {
    "name": "ipython",
    "version": 3
   },
   "file_extension": ".py",
   "mimetype": "text/x-python",
   "name": "python",
   "nbconvert_exporter": "python",
   "pygments_lexer": "ipython3",
   "version": "3.9.6"
  },
  "latex_envs": {
   "LaTeX_envs_menu_present": true,
   "autoclose": false,
   "autocomplete": true,
   "bibliofile": "biblio.bib",
   "cite_by": "apalike",
   "current_citInitial": 1,
   "eqLabelWithNumbers": true,
   "eqNumInitial": 1,
   "hotkeys": {
    "equation": "Ctrl-E",
    "itemize": "Ctrl-I"
   },
   "labels_anchors": false,
   "latex_user_defs": false,
   "report_style_numbering": false,
   "user_envs_cfg": false
  },
  "toc": {
   "base_numbering": 1,
   "nav_menu": {},
   "number_sections": true,
   "sideBar": true,
   "skip_h1_title": false,
   "title_cell": "Table of Contents",
   "title_sidebar": "Contents",
   "toc_cell": false,
   "toc_position": {},
   "toc_section_display": true,
   "toc_window_display": false
  }
 },
 "nbformat": 4,
 "nbformat_minor": 4
}
