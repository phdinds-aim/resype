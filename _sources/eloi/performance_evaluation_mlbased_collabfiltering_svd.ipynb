{
 "cells": [
  {
   "cell_type": "markdown",
   "metadata": {},
   "source": [
    "# ML-Based Collaborative Filtering: Performance Evaluation\n",
    "This notebook shows the evaluation of performance the SVD-based machine learning collaborative filtering. "
   ]
  },
  {
   "cell_type": "code",
   "execution_count": 1,
   "metadata": {
    "ExecuteTime": {
     "end_time": "2021-10-09T15:49:50.228645Z",
     "start_time": "2021-10-09T15:49:49.794644Z"
    }
   },
   "outputs": [],
   "source": [
    "import pandas as pd\n",
    "import numpy as np\n",
    "import sys\n",
    "sys.path.insert(1, '../resype')\n",
    "%load_ext autoreload\n",
    "%autoreload 2 "
   ]
  },
  {
   "cell_type": "markdown",
   "metadata": {},
   "source": [
    "## Prepare data"
   ]
  },
  {
   "cell_type": "code",
   "execution_count": 2,
   "metadata": {
    "ExecuteTime": {
     "end_time": "2021-10-09T15:49:50.252574Z",
     "start_time": "2021-10-09T15:49:50.230861Z"
    }
   },
   "outputs": [],
   "source": [
    "# load transaction list\n",
    "transaction_train = pd.read_csv(\"../sample_data/train_set.csv\")[['userId', 'movieId', 'rating']]\n",
    "transaction_train.columns = [\"user_id\", 'item_id', 'rating']\n",
    "transaction_test = pd.read_csv(\"../sample_data/test_set.csv\")[['userId', 'movieId', 'rating']]\n",
    "transaction_test.columns = [\"user_id\", 'item_id', 'rating']"
   ]
  },
  {
   "cell_type": "code",
   "execution_count": 3,
   "metadata": {
    "ExecuteTime": {
     "end_time": "2021-10-09T15:49:50.273218Z",
     "start_time": "2021-10-09T15:49:50.254270Z"
    }
   },
   "outputs": [
    {
     "data": {
      "text/plain": [
       "((3499, 3), (1501, 3))"
      ]
     },
     "execution_count": 3,
     "metadata": {},
     "output_type": "execute_result"
    }
   ],
   "source": [
    "transaction_train.shape, transaction_test.shape"
   ]
  },
  {
   "cell_type": "code",
   "execution_count": 4,
   "metadata": {
    "ExecuteTime": {
     "end_time": "2021-10-09T15:49:50.294250Z",
     "start_time": "2021-10-09T15:49:50.275735Z"
    }
   },
   "outputs": [
    {
     "data": {
      "text/html": [
       "<div>\n",
       "<style scoped>\n",
       "    .dataframe tbody tr th:only-of-type {\n",
       "        vertical-align: middle;\n",
       "    }\n",
       "\n",
       "    .dataframe tbody tr th {\n",
       "        vertical-align: top;\n",
       "    }\n",
       "\n",
       "    .dataframe thead th {\n",
       "        text-align: right;\n",
       "    }\n",
       "</style>\n",
       "<table border=\"1\" class=\"dataframe\">\n",
       "  <thead>\n",
       "    <tr style=\"text-align: right;\">\n",
       "      <th></th>\n",
       "      <th>user_id</th>\n",
       "      <th>item_id</th>\n",
       "      <th>rating</th>\n",
       "    </tr>\n",
       "  </thead>\n",
       "  <tbody>\n",
       "    <tr>\n",
       "      <th>0</th>\n",
       "      <td>1</td>\n",
       "      <td>2090</td>\n",
       "      <td>5.0</td>\n",
       "    </tr>\n",
       "    <tr>\n",
       "      <th>1</th>\n",
       "      <td>1</td>\n",
       "      <td>216</td>\n",
       "      <td>5.0</td>\n",
       "    </tr>\n",
       "    <tr>\n",
       "      <th>2</th>\n",
       "      <td>1</td>\n",
       "      <td>1967</td>\n",
       "      <td>4.0</td>\n",
       "    </tr>\n",
       "    <tr>\n",
       "      <th>3</th>\n",
       "      <td>1</td>\n",
       "      <td>1029</td>\n",
       "      <td>5.0</td>\n",
       "    </tr>\n",
       "    <tr>\n",
       "      <th>4</th>\n",
       "      <td>1</td>\n",
       "      <td>2253</td>\n",
       "      <td>2.0</td>\n",
       "    </tr>\n",
       "  </tbody>\n",
       "</table>\n",
       "</div>"
      ],
      "text/plain": [
       "   user_id  item_id  rating\n",
       "0        1     2090     5.0\n",
       "1        1      216     5.0\n",
       "2        1     1967     4.0\n",
       "3        1     1029     5.0\n",
       "4        1     2253     2.0"
      ]
     },
     "execution_count": 4,
     "metadata": {},
     "output_type": "execute_result"
    }
   ],
   "source": [
    "transaction_train.head()"
   ]
  },
  {
   "cell_type": "code",
   "execution_count": 5,
   "metadata": {
    "ExecuteTime": {
     "end_time": "2021-10-09T15:49:50.312150Z",
     "start_time": "2021-10-09T15:49:50.295919Z"
    }
   },
   "outputs": [
    {
     "data": {
      "text/html": [
       "<div>\n",
       "<style scoped>\n",
       "    .dataframe tbody tr th:only-of-type {\n",
       "        vertical-align: middle;\n",
       "    }\n",
       "\n",
       "    .dataframe tbody tr th {\n",
       "        vertical-align: top;\n",
       "    }\n",
       "\n",
       "    .dataframe thead th {\n",
       "        text-align: right;\n",
       "    }\n",
       "</style>\n",
       "<table border=\"1\" class=\"dataframe\">\n",
       "  <thead>\n",
       "    <tr style=\"text-align: right;\">\n",
       "      <th></th>\n",
       "      <th>user_id</th>\n",
       "      <th>item_id</th>\n",
       "      <th>rating</th>\n",
       "    </tr>\n",
       "  </thead>\n",
       "  <tbody>\n",
       "    <tr>\n",
       "      <th>0</th>\n",
       "      <td>1</td>\n",
       "      <td>101</td>\n",
       "      <td>5.0</td>\n",
       "    </tr>\n",
       "    <tr>\n",
       "      <th>1</th>\n",
       "      <td>1</td>\n",
       "      <td>163</td>\n",
       "      <td>5.0</td>\n",
       "    </tr>\n",
       "    <tr>\n",
       "      <th>2</th>\n",
       "      <td>1</td>\n",
       "      <td>231</td>\n",
       "      <td>5.0</td>\n",
       "    </tr>\n",
       "    <tr>\n",
       "      <th>3</th>\n",
       "      <td>1</td>\n",
       "      <td>296</td>\n",
       "      <td>3.0</td>\n",
       "    </tr>\n",
       "    <tr>\n",
       "      <th>4</th>\n",
       "      <td>1</td>\n",
       "      <td>356</td>\n",
       "      <td>4.0</td>\n",
       "    </tr>\n",
       "  </tbody>\n",
       "</table>\n",
       "</div>"
      ],
      "text/plain": [
       "   user_id  item_id  rating\n",
       "0        1      101     5.0\n",
       "1        1      163     5.0\n",
       "2        1      231     5.0\n",
       "3        1      296     3.0\n",
       "4        1      356     4.0"
      ]
     },
     "execution_count": 5,
     "metadata": {},
     "output_type": "execute_result"
    }
   ],
   "source": [
    "transaction_test.head()"
   ]
  },
  {
   "cell_type": "code",
   "execution_count": 6,
   "metadata": {
    "ExecuteTime": {
     "end_time": "2021-10-09T15:49:50.591847Z",
     "start_time": "2021-10-09T15:49:50.313858Z"
    }
   },
   "outputs": [],
   "source": [
    "from collab_filtering import CollabFilteringModel"
   ]
  },
  {
   "cell_type": "code",
   "execution_count": 7,
   "metadata": {
    "ExecuteTime": {
     "end_time": "2021-10-09T15:49:50.702504Z",
     "start_time": "2021-10-09T15:49:50.593811Z"
    }
   },
   "outputs": [],
   "source": [
    "from sklearn.ensemble import RandomForestRegressor"
   ]
  },
  {
   "cell_type": "code",
   "execution_count": 8,
   "metadata": {
    "ExecuteTime": {
     "end_time": "2021-10-09T15:56:41.692303Z",
     "start_time": "2021-10-09T15:49:50.704663Z"
    },
    "scrolled": false
   },
   "outputs": [
    {
     "name": "stdout",
     "output_type": "stream",
     "text": [
      "(32, 2427)\n",
      "Done training 100 out of 2427\n",
      "Done training 200 out of 2427\n",
      "Done training 300 out of 2427\n",
      "Done training 400 out of 2427\n",
      "Done training 500 out of 2427\n",
      "Done training 600 out of 2427\n",
      "Done training 700 out of 2427\n",
      "Done training 800 out of 2427\n",
      "Done training 900 out of 2427\n",
      "Done training 1000 out of 2427\n",
      "Done training 1100 out of 2427\n",
      "Done training 1200 out of 2427\n",
      "Done training 1300 out of 2427\n",
      "Done training 1400 out of 2427\n",
      "Done training 1500 out of 2427\n",
      "Done training 1600 out of 2427\n",
      "Done training 1700 out of 2427\n",
      "Done training 1800 out of 2427\n",
      "Done training 1900 out of 2427\n",
      "Done training 2000 out of 2427\n",
      "Done training 2100 out of 2427\n",
      "Done training 2200 out of 2427\n",
      "Done training 2300 out of 2427\n",
      "Done training 2400 out of 2427\n",
      "Done training 2427 out of 2427\n",
      "CPU times: user 1h 42min 23s, sys: 7min 8s, total: 1h 49min 31s\n",
      "Wall time: 6min 50s\n"
     ]
    }
   ],
   "source": [
    "%%time\n",
    "\n",
    "df_test_fin_nans = transaction_test.copy()\n",
    "df_test_fin_nans['rating'] = np.nan\n",
    "\n",
    "re = CollabFilteringModel(pd.concat([transaction_train, df_test_fin_nans], axis=0))\n",
    "utility_matrix = re.construct_utility_matrix()\n",
    "print(utility_matrix.shape)\n",
    "rs_model = RandomForestRegressor(random_state=202109)\n",
    "\n",
    "outputs = re.train_model_svd(\n",
    "    re.utility_matrix, rs_model, d=20, return_models=True)\n"
   ]
  },
  {
   "cell_type": "code",
   "execution_count": 12,
   "metadata": {
    "ExecuteTime": {
     "end_time": "2021-10-09T15:56:41.825968Z",
     "start_time": "2021-10-09T15:56:41.775305Z"
    }
   },
   "outputs": [],
   "source": [
    "from sklearn.metrics import mean_absolute_error, mean_squared_error\n",
    "\n",
    "utility_matrix_imputed, trained_model = outputs\n",
    "utility_matrix_imputed = re.mean_filled_utilmat(utility_matrix_imputed)\n",
    "imputed_transactions = utility_matrix_imputed.stack().reset_index()\n",
    "test_data = transaction_test.copy()\n",
    "merged_test_data = test_data.merge(\n",
    "    imputed_transactions, \n",
    "    on=imputed_transactions.columns.tolist()[:2],\n",
    "    how='left').dropna()\n",
    "mse = mean_squared_error(merged_test_data.rating, merged_test_data[0].values)\n",
    "mae = mean_absolute_error(merged_test_data.rating, merged_test_data[0].values)"
   ]
  },
  {
   "cell_type": "code",
   "execution_count": 13,
   "metadata": {
    "ExecuteTime": {
     "end_time": "2021-10-09T15:56:41.845461Z",
     "start_time": "2021-10-09T15:56:41.827641Z"
    }
   },
   "outputs": [
    {
     "name": "stdout",
     "output_type": "stream",
     "text": [
      "MSE:1.3433272948932116, MAE:0.9071479727188221\n"
     ]
    }
   ],
   "source": [
    "print(f'MSE:{mse}, MAE:{mae}')"
   ]
  },
  {
   "cell_type": "code",
   "execution_count": null,
   "metadata": {},
   "outputs": [],
   "source": []
  }
 ],
 "metadata": {
  "kernelspec": {
   "display_name": "Python 3 (ipykernel)",
   "language": "python",
   "name": "python3"
  },
  "language_info": {
   "codemirror_mode": {
    "name": "ipython",
    "version": 3
   },
   "file_extension": ".py",
   "mimetype": "text/x-python",
   "name": "python",
   "nbconvert_exporter": "python",
   "pygments_lexer": "ipython3",
   "version": "3.9.6"
  },
  "latex_envs": {
   "LaTeX_envs_menu_present": true,
   "autoclose": false,
   "autocomplete": true,
   "bibliofile": "biblio.bib",
   "cite_by": "apalike",
   "current_citInitial": 1,
   "eqLabelWithNumbers": true,
   "eqNumInitial": 1,
   "hotkeys": {
    "equation": "Ctrl-E",
    "itemize": "Ctrl-I"
   },
   "labels_anchors": false,
   "latex_user_defs": false,
   "report_style_numbering": false,
   "user_envs_cfg": false
  },
  "toc": {
   "base_numbering": 1,
   "nav_menu": {},
   "number_sections": true,
   "sideBar": true,
   "skip_h1_title": false,
   "title_cell": "Table of Contents",
   "title_sidebar": "Contents",
   "toc_cell": false,
   "toc_position": {},
   "toc_section_display": true,
   "toc_window_display": false
  }
 },
 "nbformat": 4,
 "nbformat_minor": 4
}
