{
 "cells": [
  {
   "cell_type": "code",
   "execution_count": 1,
   "id": "c8110e07",
   "metadata": {
    "ExecuteTime": {
     "end_time": "2021-09-20T15:15:46.775410Z",
     "start_time": "2021-09-20T15:15:46.764660Z"
    }
   },
   "outputs": [],
   "source": [
    "fname = 'Data/user_movie.csv'\n",
    "state = 1337\n",
    "drop_cols = ['userId']"
   ]
  },
  {
   "cell_type": "markdown",
   "id": "eca93967",
   "metadata": {},
   "source": [
    "# User Clustering"
   ]
  },
  {
   "cell_type": "code",
   "execution_count": 8,
   "id": "f52942a0",
   "metadata": {
    "ExecuteTime": {
     "end_time": "2021-09-23T14:23:34.474504Z",
     "start_time": "2021-09-23T14:23:34.470296Z"
    }
   },
   "outputs": [],
   "source": [
    "from sklearn.cluster import (KMeans, SpectralClustering,\n",
    "                             AgglomerativeClustering, DBSCAN, OPTICS,\n",
    "                             cluster_optics_dbscan, Birch)\n",
    "\n",
    "model1 = KMeans(n_clusters = 20)\n",
    "model2 = KMeans(n_clusters = 35)"
   ]
  },
  {
   "cell_type": "code",
   "execution_count": 33,
   "id": "633af2a3",
   "metadata": {
    "ExecuteTime": {
     "end_time": "2021-09-23T14:49:36.234674Z",
     "start_time": "2021-09-23T14:49:36.227221Z"
    }
   },
   "outputs": [],
   "source": [
    "def u_cluster(fname, model_fname, model, drop_cols=drop_cols):\n",
    "    \"\"\"\n",
    "    Perform user-wise clustering and assign each user to a cluster.\n",
    "    \n",
    "    Parameters\n",
    "    ---------\n",
    "    fname        : pandas DataFrame or string\n",
    "                   The initial utility matrix with each row corresponding \n",
    "                   to a user and the columns as their rating of each item\n",
    "                   \n",
    "    model_fname  : string\n",
    "                   The name of the model's pickle file when saved.\n",
    "                   \n",
    "    model        : an sklearn model object\n",
    "                   An object with a fit_predict method. Used to cluster the\n",
    "                   users into groups with similar ratings of items.\n",
    "\n",
    "    drop_cols    : list\n",
    "                   Columns to be dropped in fname\n",
    "\n",
    "    Returns\n",
    "    -------\n",
    "    model         : an sklearn model object\n",
    "                    The fitted version of the model input used to predict the\n",
    "                    clusters of users from fname\n",
    "    \n",
    "    result        : dict\n",
    "                    A mapping of each user's cluster with the keys being the\n",
    "                    user_id and the values their cluster membership\n",
    "    \n",
    "    df            : pandas DataFrame\n",
    "                    Utility matrix derived from fname with the final column\n",
    "                    corresponding to the cluster membership of that user\n",
    "    \"\"\"\n",
    "    import pandas as pd\n",
    "    import numpy as np\n",
    "    from sklearn.cluster import (KMeans, SpectralClustering,\n",
    "                                 AgglomerativeClustering, DBSCAN, OPTICS,\n",
    "                                 cluster_optics_dbscan, Birch)\n",
    "    import pickle\n",
    "    # Aggregation through tables\n",
    "\n",
    "    if isinstance(fname, str):\n",
    "        df = pd.read_csv(fname)\n",
    "    else:\n",
    "        df = fname\n",
    "\n",
    "    if drop_cols != None:\n",
    "        df = df.drop(columns=drop_cols)\n",
    "        \n",
    "    u_clusterer = model\n",
    "\n",
    "    u_predict = u_clusterer.fit_predict(df)\n",
    "    df['u_cluster'] = u_predict\n",
    "\n",
    "    model = u_clusterer\n",
    "    result = dict(df['u_cluster'])\n",
    "    with open(model_fname,'wb') as f:\n",
    "        pickle.dump(model, f)\n",
    "    return model, result, df"
   ]
  },
  {
   "cell_type": "markdown",
   "id": "06eed4ce",
   "metadata": {},
   "source": [
    "# Item Clustering"
   ]
  },
  {
   "cell_type": "code",
   "execution_count": 34,
   "id": "8e440470",
   "metadata": {
    "ExecuteTime": {
     "end_time": "2021-09-23T14:49:37.005636Z",
     "start_time": "2021-09-23T14:49:36.998034Z"
    }
   },
   "outputs": [],
   "source": [
    "def i_cluster(fname, model_fname, model, drop_cols=drop_cols):\n",
    "    \"\"\"\n",
    "    Perform item-wise clustering and assign each item to a cluster of similar\n",
    "    items based on the users that \n",
    "    \n",
    "    Parameters\n",
    "    ---------\n",
    "    fname        : pandas DataFrame or string\n",
    "                   The initial utility matrix with each row corresponding \n",
    "                   to a user and the columns as their rating of each item\n",
    "                   \n",
    "    model_fname  : string\n",
    "                   The name of the model's pickle file when saved.\n",
    "                   \n",
    "    model        : an sklearn model object\n",
    "                   An object with a fit_predict method. Used to cluster the\n",
    "                   users into groups with similar ratings of items.\n",
    "\n",
    "    drop_cols    : list\n",
    "                   Columns to be dropped in fname\n",
    "\n",
    "    Returns\n",
    "    -------\n",
    "    model         : an sklearn model object\n",
    "                    The fitted version of the model input used to predict the\n",
    "                    clusters of items from fname\n",
    "    \n",
    "    result        : dict\n",
    "                    A mapping of each item's cluster with the keys being the\n",
    "                    item_id and the values their cluster membership\n",
    "    \n",
    "    df_items      : pandas DataFrame\n",
    "                    Utility matrix derived from fname with the final column\n",
    "                    corresponding to the cluster membership of that item\n",
    "    \"\"\"\n",
    "    import pandas as pd\n",
    "    import numpy as np\n",
    "    from sklearn.cluster import (KMeans, SpectralClustering, \n",
    "                                 AgglomerativeClustering, DBSCAN, OPTICS, \n",
    "                                 cluster_optics_dbscan, Birch)\n",
    "    import pickle\n",
    "    if isinstance(fname, str):\n",
    "        df = pd.read_csv(fname)\n",
    "    else:\n",
    "        df = fname\n",
    "\n",
    "    if drop_cols != None:\n",
    "        df = df.drop(columns=drop_cols)\n",
    "\n",
    "    df_items = df.T\n",
    "\n",
    "    i_clusterer = model\n",
    "\n",
    "    i_predict = i_clusterer.fit_predict(df_items)\n",
    "    df_items['i_cluster'] = i_predict\n",
    "\n",
    "    model = i_clusterer\n",
    "    result = dict(df_items['i_cluster'])\n",
    "    with open(model_fname,'wb') as f:\n",
    "        pickle.dump(model, f)\n",
    "    return model, result, df_items"
   ]
  },
  {
   "cell_type": "code",
   "execution_count": 35,
   "id": "57398f93",
   "metadata": {
    "ExecuteTime": {
     "end_time": "2021-09-23T14:49:54.336888Z",
     "start_time": "2021-09-23T14:49:37.701309Z"
    }
   },
   "outputs": [],
   "source": [
    "x_u,y_u, df = u_cluster(fname,'u_cluster.pkl',model1)\n",
    "x_i,y_i, df_items = i_cluster(fname,'i_cluster.pkl',model2)"
   ]
  },
  {
   "cell_type": "markdown",
   "id": "b9da4751",
   "metadata": {},
   "source": [
    "# Code for testing"
   ]
  },
  {
   "cell_type": "code",
   "execution_count": null,
   "id": "0c87c57c",
   "metadata": {
    "ExecuteTime": {
     "start_time": "2021-09-23T14:49:57.570Z"
    }
   },
   "outputs": [
    {
     "name": "stderr",
     "output_type": "stream",
     "text": [
      "test_i_c (__main__.TestGetRec) ... ok\n",
      "test_u_c (__main__.TestGetRec) ... "
     ]
    }
   ],
   "source": [
    "import unittest\n",
    "\n",
    "\n",
    "class TestGetRec(unittest.TestCase):\n",
    "    from sklearn.cluster import KMeans\n",
    "    import os \n",
    "    def test_u_c(self):\n",
    "        n_clusters = 20\n",
    "        model1 = KMeans(n_clusters=n_clusters)\n",
    "        x_u, y_u, df = u_cluster(fname, 'u_cluster.pkl', model1)\n",
    "        self.assertEqual(df['u_cluster'].nunique(), n_clusters)\n",
    "        self.assertEqual(len(df), len(pd.read_csv(fname)))\n",
    "        self.assertEqual(os.path.exists('u_cluster.pkl'), True)\n",
    "        \n",
    "    def test_i_c(self):\n",
    "        n_clusters = 35\n",
    "        model2 = KMeans(n_clusters=n_clusters)\n",
    "        x_u, y_u, df_items = i_cluster(fname, 'i_cluster.pkl', model2)\n",
    "        self.assertEqual(df_items['i_cluster'].nunique(), n_clusters)\n",
    "        self.assertEqual(len(df), len(pd.read_csv(fname)))\n",
    "        self.assertEqual(os.path.exists('i_cluster.pkl'), True)\n",
    "        \n",
    "unittest.main(argv=[''], verbosity=2, exit=False)"
   ]
  }
 ],
 "metadata": {
  "kernelspec": {
   "display_name": "Python 3 (ipykernel)",
   "language": "python",
   "name": "python3"
  },
  "language_info": {
   "codemirror_mode": {
    "name": "ipython",
    "version": 3
   },
   "file_extension": ".py",
   "mimetype": "text/x-python",
   "name": "python",
   "nbconvert_exporter": "python",
   "pygments_lexer": "ipython3",
   "version": "3.9.5"
  },
  "latex_envs": {
   "LaTeX_envs_menu_present": true,
   "autoclose": false,
   "autocomplete": true,
   "bibliofile": "biblio.bib",
   "cite_by": "apalike",
   "current_citInitial": 1,
   "eqLabelWithNumbers": true,
   "eqNumInitial": 1,
   "hotkeys": {
    "equation": "Ctrl-E",
    "itemize": "Ctrl-I"
   },
   "labels_anchors": false,
   "latex_user_defs": false,
   "report_style_numbering": false,
   "user_envs_cfg": false
  }
 },
 "nbformat": 4,
 "nbformat_minor": 5
}
