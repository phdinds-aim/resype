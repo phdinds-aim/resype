{
 "cells": [
  {
   "cell_type": "markdown",
   "id": "a269e9e0",
   "metadata": {},
   "source": [
    "# Item Clustering"
   ]
  },
  {
   "cell_type": "code",
   "execution_count": 1,
   "id": "c8110e07",
   "metadata": {
    "ExecuteTime": {
     "end_time": "2021-09-24T07:18:37.435911Z",
     "start_time": "2021-09-24T07:18:37.432648Z"
    }
   },
   "outputs": [],
   "source": [
    "fname = 'user_movie.csv'\n",
    "state = 1337\n",
    "drop_cols = ['userId']"
   ]
  },
  {
   "cell_type": "code",
   "execution_count": 2,
   "id": "fd17fa71",
   "metadata": {
    "ExecuteTime": {
     "end_time": "2021-09-24T07:18:38.386487Z",
     "start_time": "2021-09-24T07:18:37.437512Z"
    }
   },
   "outputs": [],
   "source": [
    "from sklearn.cluster import (KMeans, SpectralClustering,\n",
    "                             AgglomerativeClustering, DBSCAN, OPTICS,\n",
    "                             cluster_optics_dbscan, Birch)\n",
    "\n",
    "model2 = KMeans(n_clusters = 35)"
   ]
  },
  {
   "cell_type": "code",
   "execution_count": 3,
   "id": "8e440470",
   "metadata": {
    "ExecuteTime": {
     "end_time": "2021-09-24T07:18:38.401650Z",
     "start_time": "2021-09-24T07:18:38.389364Z"
    }
   },
   "outputs": [],
   "source": [
    "def i_cluster(fname, model_fname, model, drop_cols=drop_cols):\n",
    "    \"\"\"\n",
    "    Perform item-wise clustering and assign each item to a cluster of similar\n",
    "    items based on the users that \n",
    "    \n",
    "    Parameters\n",
    "    ---------\n",
    "    fname        : pandas DataFrame or string\n",
    "                   The initial utility matrix with each row corresponding \n",
    "                   to a user and the columns as their rating of each item\n",
    "                   \n",
    "    model_fname  : string\n",
    "                   The name of the model's pickle file when saved.\n",
    "                   \n",
    "    model        : an sklearn model object\n",
    "                   An object with a fit_predict method. Used to cluster the\n",
    "                   users into groups with similar ratings of items.\n",
    "\n",
    "    drop_cols    : list\n",
    "                   Columns to be dropped in fname\n",
    "\n",
    "    Returns\n",
    "    -------\n",
    "    model         : an sklearn model object\n",
    "                    The fitted version of the model input used to predict the\n",
    "                    clusters of items from fname\n",
    "    \n",
    "    result        : dict\n",
    "                    A mapping of each item's cluster with the keys being the\n",
    "                    item_id and the values their cluster membership\n",
    "    \n",
    "    df_items      : pandas DataFrame\n",
    "                    Utility matrix derived from fname with the final column\n",
    "                    corresponding to the cluster membership of that item\n",
    "    \"\"\"\n",
    "    import pandas as pd\n",
    "    import numpy as np\n",
    "    from sklearn.cluster import (KMeans, SpectralClustering, \n",
    "                                 AgglomerativeClustering, DBSCAN, OPTICS, \n",
    "                                 cluster_optics_dbscan, Birch)\n",
    "    import pickle\n",
    "    if isinstance(fname, str):\n",
    "        df = pd.read_csv(fname)\n",
    "    else:\n",
    "        df = fname\n",
    "\n",
    "    if drop_cols != None:\n",
    "        df = df.drop(columns=drop_cols)\n",
    "\n",
    "    df_items = df.T\n",
    "\n",
    "    i_clusterer = model\n",
    "\n",
    "    i_predict = i_clusterer.fit_predict(df_items)\n",
    "    df_items['i_cluster'] = i_predict\n",
    "\n",
    "    model = i_clusterer\n",
    "    result = dict(df_items['i_cluster'])\n",
    "    with open(model_fname,'wb') as f:\n",
    "        pickle.dump(model, f)\n",
    "    return model, result, df_items"
   ]
  },
  {
   "cell_type": "code",
   "execution_count": 4,
   "id": "ce6eda31",
   "metadata": {
    "ExecuteTime": {
     "end_time": "2021-09-24T07:18:59.505107Z",
     "start_time": "2021-09-24T07:18:38.404491Z"
    }
   },
   "outputs": [],
   "source": [
    "x_i,y_i, df_items = i_cluster(fname,'i_cluster.pkl',model2)"
   ]
  },
  {
   "cell_type": "markdown",
   "id": "3c0466d0",
   "metadata": {},
   "source": [
    "## Unit Test"
   ]
  },
  {
   "cell_type": "code",
   "execution_count": 5,
   "id": "764e2527",
   "metadata": {
    "ExecuteTime": {
     "end_time": "2021-09-24T07:19:22.309112Z",
     "start_time": "2021-09-24T07:18:59.509540Z"
    }
   },
   "outputs": [
    {
     "name": "stderr",
     "output_type": "stream",
     "text": [
      "test_i_c (__main__.TestGetRec) ... ok\n",
      "\n",
      "----------------------------------------------------------------------\n",
      "Ran 1 test in 22.761s\n",
      "\n",
      "OK\n"
     ]
    },
    {
     "data": {
      "text/plain": [
       "<unittest.main.TestProgram at 0x7f4b8fa714f0>"
      ]
     },
     "execution_count": 5,
     "metadata": {},
     "output_type": "execute_result"
    }
   ],
   "source": [
    "import unittest\n",
    "import pandas as pd\n",
    "import os\n",
    "\n",
    "\n",
    "class TestGetRec(unittest.TestCase):\n",
    "    from sklearn.cluster import KMeans\n",
    "    def test_i_c(self):\n",
    "        n_clusters = 35\n",
    "        model2 = KMeans(n_clusters=n_clusters)\n",
    "        x_u, y_u, df_items = i_cluster(fname, 'i_cluster.pkl', model2)\n",
    "        self.assertEqual(df_items['i_cluster'].nunique(), n_clusters)\n",
    "        self.assertEqual(len(df_items), len(pd.read_csv(fname)\n",
    "                                            .drop(columns=drop_cols)\n",
    "                                            .columns))\n",
    "        self.assertEqual(os.path.exists('i_cluster.pkl'), True)\n",
    "        \n",
    "unittest.main(argv=[''], verbosity=2, exit=False)"
   ]
  },
  {
   "cell_type": "code",
   "execution_count": null,
   "id": "6455f3f1",
   "metadata": {},
   "outputs": [],
   "source": []
  }
 ],
 "metadata": {
  "kernelspec": {
   "display_name": "Python 3",
   "language": "python",
   "name": "python3"
  },
  "language_info": {
   "codemirror_mode": {
    "name": "ipython",
    "version": 3
   },
   "file_extension": ".py",
   "mimetype": "text/x-python",
   "name": "python",
   "nbconvert_exporter": "python",
   "pygments_lexer": "ipython3",
   "version": "3.8.8"
  },
  "latex_envs": {
   "LaTeX_envs_menu_present": true,
   "autoclose": false,
   "autocomplete": true,
   "bibliofile": "biblio.bib",
   "cite_by": "apalike",
   "current_citInitial": 1,
   "eqLabelWithNumbers": true,
   "eqNumInitial": 1,
   "hotkeys": {
    "equation": "Ctrl-E",
    "itemize": "Ctrl-I"
   },
   "labels_anchors": false,
   "latex_user_defs": false,
   "report_style_numbering": false,
   "user_envs_cfg": false
  }
 },
 "nbformat": 4,
 "nbformat_minor": 5
}
