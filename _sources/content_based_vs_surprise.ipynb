{
 "cells": [
  {
   "cell_type": "markdown",
   "id": "61de54cc",
   "metadata": {},
   "source": [
    "# Performance Comparison with Surprise"
   ]
  },
  {
   "cell_type": "code",
   "execution_count": 1,
   "id": "51424007",
   "metadata": {
    "ExecuteTime": {
     "end_time": "2021-10-09T15:52:30.006640Z",
     "start_time": "2021-10-09T15:52:28.777107Z"
    },
    "tags": [
     "remove-cell"
    ]
   },
   "outputs": [
    {
     "name": "stderr",
     "output_type": "stream",
     "text": [
      "[nltk_data] Downloading package stopwords to\n",
      "[nltk_data]     /home/phd/gchua/nltk_data...\n",
      "[nltk_data]   Package stopwords is already up-to-date!\n",
      "[nltk_data] Downloading package punkt to /home/phd/gchua/nltk_data...\n",
      "[nltk_data]   Package punkt is already up-to-date!\n"
     ]
    },
    {
     "data": {
      "text/plain": [
       "True"
      ]
     },
     "execution_count": 1,
     "metadata": {},
     "output_type": "execute_result"
    }
   ],
   "source": [
    "from resype.preprocessing import *\n",
    "from resype.content_based import ContentBasedModel\n",
    "from sklearn.ensemble import RandomForestRegressor\n",
    "import nltk\n",
    "nltk.download('stopwords')\n",
    "nltk.download('punkt')"
   ]
  },
  {
   "cell_type": "markdown",
   "id": "4bb25a8a",
   "metadata": {
    "tags": [
     "remove-cell"
    ]
   },
   "source": [
    "## Loading the Data"
   ]
  },
  {
   "cell_type": "code",
   "execution_count": 2,
   "id": "7fff59ef",
   "metadata": {
    "ExecuteTime": {
     "end_time": "2021-10-09T15:52:39.719114Z",
     "start_time": "2021-10-09T15:52:30.009510Z"
    },
    "tags": [
     "remove-cell"
    ]
   },
   "outputs": [],
   "source": [
    "transaction_list, user_df = create_user_feature() # for example only\n",
    "item_df = create_item_feature(num_features = 300)\n",
    "transaction_list = pd.read_csv(\"sample_data/ratings_5k.csv\")\n",
    "# transaction_list = transaction_list[:1000]\n",
    "unique_users = transaction_list.userId.unique()\n",
    "unique_items= item_df.movieId.unique()\n",
    "item_df = item_df.set_index('movieId')\n",
    "item_df = item_df.loc[unique_items, :]\n",
    "item_df = item_df.reset_index()\n",
    "user_df = user_df.set_index('userId')\n",
    "user_df = user_df.loc[unique_users, :]\n",
    "user_df = user_df.reset_index()"
   ]
  },
  {
   "cell_type": "markdown",
   "id": "2fbd23fb",
   "metadata": {
    "tags": [
     "remove-cell"
    ]
   },
   "source": [
    "## Loading Resype's Content-based Recommend"
   ]
  },
  {
   "cell_type": "code",
   "execution_count": 3,
   "id": "302b0417",
   "metadata": {
    "ExecuteTime": {
     "end_time": "2021-10-09T15:52:53.858300Z",
     "start_time": "2021-10-09T15:52:39.721624Z"
    },
    "scrolled": false,
    "tags": [
     "remove-cell"
    ]
   },
   "outputs": [
    {
     "name": "stdout",
     "output_type": "stream",
     "text": [
      "proceed\n"
     ]
    }
   ],
   "source": [
    "cb = ContentBasedModel(user_df,\n",
    "                        item_df,\n",
    "                        transaction_list,\n",
    "                        item_id_name='movieId',\n",
    "                        user_id_name='userId',\n",
    "                        target_name='rating',\n",
    "                        timestamp_name='timestamp')\n",
    "cb.split_train_test(train_ratio = 0.7)\n",
    "model = RandomForestRegressor(random_state=202109)\n",
    "cb.fit_ml_cb(model)\n",
    "preds_array = cb.reco_ml_cb_tt() #To make predictions as an array\n",
    "resype_mse, resype_mae = cb.evaluate_test_set()\n",
    "cb.df_train[['userId','movieId','rating','timestamp']].to_csv('train_set.csv', index=False)\n",
    "cb.df_test[['userId','movieId','rating','timestamp']].to_csv('test_set.csv', index=False)"
   ]
  },
  {
   "cell_type": "markdown",
   "id": "354de765",
   "metadata": {
    "tags": [
     "remove-cell"
    ]
   },
   "source": [
    "## Loading Surprise"
   ]
  },
  {
   "cell_type": "code",
   "execution_count": 4,
   "id": "8e81bb03",
   "metadata": {
    "ExecuteTime": {
     "end_time": "2021-10-09T15:52:54.139526Z",
     "start_time": "2021-10-09T15:52:53.860942Z"
    },
    "tags": [
     "remove-cell"
    ]
   },
   "outputs": [],
   "source": [
    "from surprise import SVD\n",
    "from surprise import Dataset, Reader\n",
    "from surprise import accuracy\n",
    "from surprise.model_selection import train_test_split\n",
    "from sklearn.metrics import mean_absolute_error, mean_squared_error\n",
    "\n",
    "reader = Reader(rating_scale=(1, 5))\n",
    "data = Dataset.load_from_df(pd.read_csv(\n",
    "    'train_set.csv').drop(columns='timestamp'), reader=reader)\n",
    "# sample random trainset and testset\n",
    "# test set is made of 25% of the ratings.\n",
    "trainset, testset = train_test_split(data, test_size=0.000001)\n",
    "\n",
    "algo = SVD()\n",
    "\n",
    "algo.fit(trainset)\n",
    "predictions = []\n",
    "for i, x in cb.df_test.iterrows():\n",
    "    predictions.append(algo.predict(x['userId'], x['movieId']).est)\n",
    "svd_mae = mean_absolute_error(predictions, cb.df_test['rating'].values)\n",
    "svd_mse = mean_squared_error(predictions, cb.df_test['rating'].values)"
   ]
  },
  {
   "cell_type": "code",
   "execution_count": 5,
   "id": "76e99f78",
   "metadata": {
    "ExecuteTime": {
     "end_time": "2021-10-09T15:52:55.800372Z",
     "start_time": "2021-10-09T15:52:54.141721Z"
    },
    "scrolled": true,
    "tags": [
     "remove-cell"
    ]
   },
   "outputs": [
    {
     "name": "stdout",
     "output_type": "stream",
     "text": [
      "Estimating biases using als...\n",
      "Computing the msd similarity matrix...\n",
      "Done computing similarity matrix.\n",
      "Computing the msd similarity matrix...\n",
      "Done computing similarity matrix.\n",
      "Computing the msd similarity matrix...\n",
      "Done computing similarity matrix.\n",
      "Estimating biases using als...\n",
      "Computing the msd similarity matrix...\n",
      "Done computing similarity matrix.\n"
     ]
    },
    {
     "name": "stderr",
     "output_type": "stream",
     "text": [
      "/tmp/ipykernel_35840/1662397949.py:20: DeprecationWarning: `np.int` is a deprecated alias for the builtin `int`. To silence this warning, use `int` by itself. Doing this will not modify any behavior and is safe. When replacing `np.int`, you may wish to use e.g. `np.int64` or `np.int32` to specify the precision. If you wish to review your current use, check the release note link for additional information.\n",
      "Deprecated in NumPy 1.20; for more details and guidance: https://numpy.org/devdocs/release/1.20.0-notes.html#deprecations\n",
      "  algo.fit(trainset)\n",
      "/tmp/ipykernel_35840/1662397949.py:20: DeprecationWarning: `np.int` is a deprecated alias for the builtin `int`. To silence this warning, use `int` by itself. Doing this will not modify any behavior and is safe. When replacing `np.int`, you may wish to use e.g. `np.int64` or `np.int32` to specify the precision. If you wish to review your current use, check the release note link for additional information.\n",
      "Deprecated in NumPy 1.20; for more details and guidance: https://numpy.org/devdocs/release/1.20.0-notes.html#deprecations\n",
      "  algo.fit(trainset)\n"
     ]
    }
   ],
   "source": [
    "from surprise import (NormalPredictor, BaselineOnly, KNNBasic, KNNWithMeans,\n",
    "                      KNNWithZScore, KNNBaseline, NMF, SlopeOne, CoClustering)\n",
    "import pandas as pd\n",
    "import numpy as np\n",
    "\n",
    "\n",
    "\n",
    "algos = [NormalPredictor(), BaselineOnly(), KNNBasic(), KNNWithMeans(), \n",
    "         KNNWithZScore(), KNNBaseline(), SVD(), NMF(), SlopeOne(),\n",
    "         CoClustering()]\n",
    "algo_names = [\"NormalPredictor\", \"BaselineOnly\", \"KNNBasic\", \"KNNWithMeans\",\n",
    "              \"KNNWithZScore\", \"KNNBaseline\", \"SVD\", \"NMF\", \"SlopeOne\",\n",
    "              \"CoClustering\"]\n",
    "\n",
    "rmses = np.zeros(len(algos))\n",
    "mses = np.zeros(len(algos))\n",
    "maes = np.zeros(len(algos))\n",
    "\n",
    "for i, algo in enumerate(algos):\n",
    "    algo.fit(trainset)\n",
    "    predictions = []\n",
    "    for u, x in cb.df_test.iterrows():\n",
    "        predictions.append(algo.predict(x['userId'], x['movieId']).est)\n",
    "    mae = mean_absolute_error(predictions, cb.df_test['rating'].values)\n",
    "    mse = mean_squared_error(predictions, cb.df_test['rating'].values)\n",
    "    mses[i] = mse\n",
    "    maes[i] = mae"
   ]
  },
  {
   "cell_type": "markdown",
   "id": "e3f99b5b",
   "metadata": {},
   "source": [
    "## Performance Results"
   ]
  },
  {
   "cell_type": "code",
   "execution_count": 6,
   "id": "17022eab",
   "metadata": {
    "ExecuteTime": {
     "end_time": "2021-10-09T15:52:55.817179Z",
     "start_time": "2021-10-09T15:52:55.802573Z"
    },
    "scrolled": true,
    "tags": [
     "remove-input"
    ]
   },
   "outputs": [
    {
     "data": {
      "text/html": [
       "<div>\n",
       "<style scoped>\n",
       "    .dataframe tbody tr th:only-of-type {\n",
       "        vertical-align: middle;\n",
       "    }\n",
       "\n",
       "    .dataframe tbody tr th {\n",
       "        vertical-align: top;\n",
       "    }\n",
       "\n",
       "    .dataframe thead th {\n",
       "        text-align: right;\n",
       "    }\n",
       "</style>\n",
       "<table border=\"1\" class=\"dataframe\">\n",
       "  <thead>\n",
       "    <tr style=\"text-align: right;\">\n",
       "      <th></th>\n",
       "      <th>Prediction Algorithm</th>\n",
       "      <th>MSE</th>\n",
       "      <th>MAE</th>\n",
       "    </tr>\n",
       "  </thead>\n",
       "  <tbody>\n",
       "    <tr>\n",
       "      <th>0</th>\n",
       "      <td>NormalPredictor</td>\n",
       "      <td>2.051080</td>\n",
       "      <td>1.135742</td>\n",
       "    </tr>\n",
       "    <tr>\n",
       "      <th>1</th>\n",
       "      <td>BaselineOnly</td>\n",
       "      <td>0.858667</td>\n",
       "      <td>0.735921</td>\n",
       "    </tr>\n",
       "    <tr>\n",
       "      <th>2</th>\n",
       "      <td>KNNBasic</td>\n",
       "      <td>1.362782</td>\n",
       "      <td>0.906558</td>\n",
       "    </tr>\n",
       "    <tr>\n",
       "      <th>3</th>\n",
       "      <td>KNNWithMeans</td>\n",
       "      <td>1.173480</td>\n",
       "      <td>0.850230</td>\n",
       "    </tr>\n",
       "    <tr>\n",
       "      <th>4</th>\n",
       "      <td>KNNWithZScore</td>\n",
       "      <td>1.185011</td>\n",
       "      <td>0.842193</td>\n",
       "    </tr>\n",
       "    <tr>\n",
       "      <th>5</th>\n",
       "      <td>KNNBaseline</td>\n",
       "      <td>1.057957</td>\n",
       "      <td>0.796983</td>\n",
       "    </tr>\n",
       "    <tr>\n",
       "      <th>6</th>\n",
       "      <td>SVD</td>\n",
       "      <td>0.862225</td>\n",
       "      <td>0.730675</td>\n",
       "    </tr>\n",
       "    <tr>\n",
       "      <th>7</th>\n",
       "      <td>NMF</td>\n",
       "      <td>1.360950</td>\n",
       "      <td>0.921752</td>\n",
       "    </tr>\n",
       "    <tr>\n",
       "      <th>8</th>\n",
       "      <td>SlopeOne</td>\n",
       "      <td>1.222082</td>\n",
       "      <td>0.869121</td>\n",
       "    </tr>\n",
       "    <tr>\n",
       "      <th>9</th>\n",
       "      <td>CoClustering</td>\n",
       "      <td>1.299210</td>\n",
       "      <td>0.900984</td>\n",
       "    </tr>\n",
       "    <tr>\n",
       "      <th>10</th>\n",
       "      <td>Resype (Random Forest)</td>\n",
       "      <td>0.955075</td>\n",
       "      <td>0.757576</td>\n",
       "    </tr>\n",
       "  </tbody>\n",
       "</table>\n",
       "</div>"
      ],
      "text/plain": [
       "      Prediction Algorithm       MSE       MAE\n",
       "0          NormalPredictor  2.051080  1.135742\n",
       "1             BaselineOnly  0.858667  0.735921\n",
       "2                 KNNBasic  1.362782  0.906558\n",
       "3             KNNWithMeans  1.173480  0.850230\n",
       "4            KNNWithZScore  1.185011  0.842193\n",
       "5              KNNBaseline  1.057957  0.796983\n",
       "6                      SVD  0.862225  0.730675\n",
       "7                      NMF  1.360950  0.921752\n",
       "8                 SlopeOne  1.222082  0.869121\n",
       "9             CoClustering  1.299210  0.900984\n",
       "10  Resype (Random Forest)  0.955075  0.757576"
      ]
     },
     "execution_count": 6,
     "metadata": {},
     "output_type": "execute_result"
    }
   ],
   "source": [
    "cols = ['Prediction Algorithm', 'MSE', 'MAE']\n",
    "df = pd.DataFrame(columns=cols)\n",
    "df['Prediction Algorithm'] = algo_names +['Resype (Random Forest)']\n",
    "df['MSE'] = list(mses) + [resype_mse]\n",
    "df['MAE'] = list(maes) + [resype_mae]\n",
    "df"
   ]
  }
 ],
 "metadata": {
  "celltoolbar": "Tags",
  "kernelspec": {
   "display_name": "Python 3 (ipykernel)",
   "language": "python",
   "name": "python3"
  },
  "language_info": {
   "codemirror_mode": {
    "name": "ipython",
    "version": 3
   },
   "file_extension": ".py",
   "mimetype": "text/x-python",
   "name": "python",
   "nbconvert_exporter": "python",
   "pygments_lexer": "ipython3",
   "version": "3.9.6"
  }
 },
 "nbformat": 4,
 "nbformat_minor": 5
}
