{
 "cells": [
  {
   "cell_type": "markdown",
   "id": "929447e0",
   "metadata": {},
   "source": [
    "## Splitting transaction table chronologically to train and test sets\n",
    "This notebook contains the first function but with inclusion of the timestamp of the ratings:\n",
    "1. split_train_test: creates train and test sets by splitting the raw data 'user_feature.csv'.\n",
    "2. evaluate: calculates the mse and mae of the final recommendations to the actual recommendations based on the test set.\n",
    "3. append_error_to_df: for visualization purposes and for further exploration of the errors.\n",
    "\n",
    "The current function now returns the train, test, utility matrix-form of test set, and the indices of the train and test sets that will be used as input for the content-based recsys pipeline."
   ]
  },
  {
   "cell_type": "code",
   "execution_count": 1,
   "id": "88806b9f-9bb1-4435-8884-2ec80b34d0e5",
   "metadata": {
    "ExecuteTime": {
     "end_time": "2021-10-05T02:53:19.473565Z",
     "start_time": "2021-10-05T02:53:18.976180Z"
    }
   },
   "outputs": [],
   "source": [
    "# import pandas as pd\n",
    "# import numpy as np"
   ]
  },
  {
   "cell_type": "code",
   "execution_count": 3,
   "id": "e68969d3",
   "metadata": {
    "ExecuteTime": {
     "end_time": "2021-10-05T02:53:27.369726Z",
     "start_time": "2021-10-05T02:53:27.191401Z"
    }
   },
   "outputs": [
    {
     "data": {
      "text/html": [
       "<div>\n",
       "<style scoped>\n",
       "    .dataframe tbody tr th:only-of-type {\n",
       "        vertical-align: middle;\n",
       "    }\n",
       "\n",
       "    .dataframe tbody tr th {\n",
       "        vertical-align: top;\n",
       "    }\n",
       "\n",
       "    .dataframe thead th {\n",
       "        text-align: right;\n",
       "    }\n",
       "</style>\n",
       "<table border=\"1\" class=\"dataframe\">\n",
       "  <thead>\n",
       "    <tr style=\"text-align: right;\">\n",
       "      <th></th>\n",
       "      <th>userId</th>\n",
       "      <th>movieId</th>\n",
       "      <th>rating</th>\n",
       "      <th>timestamp</th>\n",
       "    </tr>\n",
       "  </thead>\n",
       "  <tbody>\n",
       "    <tr>\n",
       "      <th>0</th>\n",
       "      <td>1</td>\n",
       "      <td>1</td>\n",
       "      <td>4.0</td>\n",
       "      <td>964982703</td>\n",
       "    </tr>\n",
       "    <tr>\n",
       "      <th>1</th>\n",
       "      <td>1</td>\n",
       "      <td>3</td>\n",
       "      <td>4.0</td>\n",
       "      <td>964981247</td>\n",
       "    </tr>\n",
       "    <tr>\n",
       "      <th>2</th>\n",
       "      <td>1</td>\n",
       "      <td>6</td>\n",
       "      <td>4.0</td>\n",
       "      <td>964982224</td>\n",
       "    </tr>\n",
       "    <tr>\n",
       "      <th>3</th>\n",
       "      <td>1</td>\n",
       "      <td>47</td>\n",
       "      <td>5.0</td>\n",
       "      <td>964983815</td>\n",
       "    </tr>\n",
       "    <tr>\n",
       "      <th>4</th>\n",
       "      <td>1</td>\n",
       "      <td>50</td>\n",
       "      <td>5.0</td>\n",
       "      <td>964982931</td>\n",
       "    </tr>\n",
       "    <tr>\n",
       "      <th>...</th>\n",
       "      <td>...</td>\n",
       "      <td>...</td>\n",
       "      <td>...</td>\n",
       "      <td>...</td>\n",
       "    </tr>\n",
       "    <tr>\n",
       "      <th>100831</th>\n",
       "      <td>610</td>\n",
       "      <td>166534</td>\n",
       "      <td>4.0</td>\n",
       "      <td>1493848402</td>\n",
       "    </tr>\n",
       "    <tr>\n",
       "      <th>100832</th>\n",
       "      <td>610</td>\n",
       "      <td>168248</td>\n",
       "      <td>5.0</td>\n",
       "      <td>1493850091</td>\n",
       "    </tr>\n",
       "    <tr>\n",
       "      <th>100833</th>\n",
       "      <td>610</td>\n",
       "      <td>168250</td>\n",
       "      <td>5.0</td>\n",
       "      <td>1494273047</td>\n",
       "    </tr>\n",
       "    <tr>\n",
       "      <th>100834</th>\n",
       "      <td>610</td>\n",
       "      <td>168252</td>\n",
       "      <td>5.0</td>\n",
       "      <td>1493846352</td>\n",
       "    </tr>\n",
       "    <tr>\n",
       "      <th>100835</th>\n",
       "      <td>610</td>\n",
       "      <td>170875</td>\n",
       "      <td>3.0</td>\n",
       "      <td>1493846415</td>\n",
       "    </tr>\n",
       "  </tbody>\n",
       "</table>\n",
       "<p>100836 rows × 4 columns</p>\n",
       "</div>"
      ],
      "text/plain": [
       "        userId  movieId  rating   timestamp\n",
       "0            1        1     4.0   964982703\n",
       "1            1        3     4.0   964981247\n",
       "2            1        6     4.0   964982224\n",
       "3            1       47     5.0   964983815\n",
       "4            1       50     5.0   964982931\n",
       "...        ...      ...     ...         ...\n",
       "100831     610   166534     4.0  1493848402\n",
       "100832     610   168248     5.0  1493850091\n",
       "100833     610   168250     5.0  1494273047\n",
       "100834     610   168252     5.0  1493846352\n",
       "100835     610   170875     3.0  1493846415\n",
       "\n",
       "[100836 rows x 4 columns]"
      ]
     },
     "execution_count": 3,
     "metadata": {},
     "output_type": "execute_result"
    }
   ],
   "source": [
    "# data = pd.read_csv('user_feature.csv')\n",
    "# features = ['userId', 'movieId', 'rating', 'timestamp']\n",
    "# # data\n",
    "# new_data=data[features]\n",
    "# new_data"
   ]
  },
  {
   "cell_type": "markdown",
   "id": "1f3d4b7a",
   "metadata": {},
   "source": [
    "## Splitting chronologically"
   ]
  },
  {
   "cell_type": "code",
   "execution_count": 4,
   "id": "1c9aefc0",
   "metadata": {
    "ExecuteTime": {
     "end_time": "2021-10-05T02:53:30.314555Z",
     "start_time": "2021-10-05T02:53:30.290071Z"
    }
   },
   "outputs": [],
   "source": [
    "import pandas as pd\n",
    "\n",
    "def split_train_test_chronological(data, train_ratio=0.7):\n",
    "    \"\"\"\n",
    "    Splits the transaction data into train and test sets based on chronological order.\n",
    "    \n",
    "    Parameters\n",
    "    ----------\n",
    "    data         : pandas DataFrame for transaction table containing user, item, and ratings\n",
    "    \n",
    "    train_ratio  : the desired ratio of training set, while 1-train ratio is automatically set for the test set \n",
    "    \n",
    "    \n",
    "    Returns\n",
    "    ---------\n",
    "    df_train_fin : dataframe for the training set\n",
    "    \n",
    "    df_test_fin  : dataframe for the test set\n",
    "    \n",
    "    df_test_fin* : possible option is a pivoted df ready as the util matrix input of the recsys. In our case, the\n",
    "                   index='userId', columns='movieId', values='rating'. To generalize a transaction table, \n",
    "                   index=column[0], columns=itemId, values=rating.\n",
    "    \"\"\"\n",
    "    \n",
    "    # 1. check if the data has timestamp\n",
    "    col = 'timestamp'\n",
    "    if col not in data.columns:\n",
    "    #     print('column does not exist')\n",
    "        raise ValueError('could not find %s in %s' % (col,list(data.columns)))\n",
    "    \n",
    "    # 2. split data into train and test. test set is automatically the last 30% of the data set\n",
    "    list_df_train = []\n",
    "    list_df_test = []\n",
    "    \n",
    "    #group by user id\n",
    "    d = dict(tuple(data.groupby(data.columns[0]))) #assuming column[0] is the userId\n",
    "    \n",
    "    #splitting randomly per user\n",
    "    for i in (d):\n",
    "        if len(d[i])<2:\n",
    "            print(len(d[i]))\n",
    "            list_df_test.append(d[i])\n",
    "            \n",
    "        else:\n",
    "            d[i].sort_values('timestamp', inplace=True)\n",
    "            df_train = d[i].iloc[0:int(train_ratio*len(d[i])),:]\n",
    "            \n",
    "            ind = df_train.index\n",
    "            df_test = d[i].drop(ind)\n",
    "            \n",
    "            list_df_train.append(df_train) \n",
    "            list_df_test.append(df_test)\n",
    "\n",
    "    # 3. merge selected train set per user to a single dataframe\n",
    "    df_train_fin = pd.concat(list_df_train)\n",
    "    df_test_fin = pd.concat(list_df_test)\n",
    "    \n",
    "    # 4. Option to pivot it to create the utility matrix ready as input for recsys\n",
    "    df_test_um = df_test_fin.pivot(index=df_test_fin.columns[0], columns=df_test_fin.columns[1], values=df_test_fin.columns[2])\n",
    "    \n",
    "    # 5. get indices of train and test sets\n",
    "    indx_train = df_train_fin.index\n",
    "    indx_test = df_test_fin.index\n",
    "\n",
    "    return df_train_fin, df_test_fin, df_test_um, indx_train, indx_test "
   ]
  },
  {
   "cell_type": "code",
   "execution_count": 5,
   "id": "5b6efd89",
   "metadata": {
    "ExecuteTime": {
     "end_time": "2021-10-05T02:53:32.560239Z",
     "start_time": "2021-10-05T02:53:31.747260Z"
    }
   },
   "outputs": [],
   "source": [
    "df_train, df_test, df_test_um, ind_train, ind_test = split_train_test_chronological(new_data, 0.70)"
   ]
  },
  {
   "cell_type": "code",
   "execution_count": 6,
   "id": "733498d7",
   "metadata": {
    "ExecuteTime": {
     "end_time": "2021-10-05T02:53:33.563865Z",
     "start_time": "2021-10-05T02:53:33.539204Z"
    }
   },
   "outputs": [
    {
     "data": {
      "text/html": [
       "<div>\n",
       "<style scoped>\n",
       "    .dataframe tbody tr th:only-of-type {\n",
       "        vertical-align: middle;\n",
       "    }\n",
       "\n",
       "    .dataframe tbody tr th {\n",
       "        vertical-align: top;\n",
       "    }\n",
       "\n",
       "    .dataframe thead th {\n",
       "        text-align: right;\n",
       "    }\n",
       "</style>\n",
       "<table border=\"1\" class=\"dataframe\">\n",
       "  <thead>\n",
       "    <tr style=\"text-align: right;\">\n",
       "      <th></th>\n",
       "      <th>userId</th>\n",
       "      <th>movieId</th>\n",
       "      <th>rating</th>\n",
       "      <th>timestamp</th>\n",
       "    </tr>\n",
       "  </thead>\n",
       "  <tbody>\n",
       "    <tr>\n",
       "      <th>73</th>\n",
       "      <td>1</td>\n",
       "      <td>1210</td>\n",
       "      <td>5.0</td>\n",
       "      <td>964980499</td>\n",
       "    </tr>\n",
       "    <tr>\n",
       "      <th>43</th>\n",
       "      <td>1</td>\n",
       "      <td>804</td>\n",
       "      <td>4.0</td>\n",
       "      <td>964980499</td>\n",
       "    </tr>\n",
       "    <tr>\n",
       "      <th>120</th>\n",
       "      <td>1</td>\n",
       "      <td>2018</td>\n",
       "      <td>5.0</td>\n",
       "      <td>964980523</td>\n",
       "    </tr>\n",
       "    <tr>\n",
       "      <th>171</th>\n",
       "      <td>1</td>\n",
       "      <td>2628</td>\n",
       "      <td>4.0</td>\n",
       "      <td>964980523</td>\n",
       "    </tr>\n",
       "    <tr>\n",
       "      <th>183</th>\n",
       "      <td>1</td>\n",
       "      <td>2826</td>\n",
       "      <td>4.0</td>\n",
       "      <td>964980523</td>\n",
       "    </tr>\n",
       "    <tr>\n",
       "      <th>...</th>\n",
       "      <td>...</td>\n",
       "      <td>...</td>\n",
       "      <td>...</td>\n",
       "      <td>...</td>\n",
       "    </tr>\n",
       "    <tr>\n",
       "      <th>100610</th>\n",
       "      <td>610</td>\n",
       "      <td>101112</td>\n",
       "      <td>3.0</td>\n",
       "      <td>1493847967</td>\n",
       "    </tr>\n",
       "    <tr>\n",
       "      <th>100022</th>\n",
       "      <td>610</td>\n",
       "      <td>7369</td>\n",
       "      <td>2.5</td>\n",
       "      <td>1493847980</td>\n",
       "    </tr>\n",
       "    <tr>\n",
       "      <th>100603</th>\n",
       "      <td>610</td>\n",
       "      <td>100163</td>\n",
       "      <td>3.0</td>\n",
       "      <td>1493847984</td>\n",
       "    </tr>\n",
       "    <tr>\n",
       "      <th>99808</th>\n",
       "      <td>610</td>\n",
       "      <td>4153</td>\n",
       "      <td>3.0</td>\n",
       "      <td>1493847986</td>\n",
       "    </tr>\n",
       "    <tr>\n",
       "      <th>100565</th>\n",
       "      <td>610</td>\n",
       "      <td>95558</td>\n",
       "      <td>3.5</td>\n",
       "      <td>1493847991</td>\n",
       "    </tr>\n",
       "  </tbody>\n",
       "</table>\n",
       "<p>70312 rows × 4 columns</p>\n",
       "</div>"
      ],
      "text/plain": [
       "        userId  movieId  rating   timestamp\n",
       "73           1     1210     5.0   964980499\n",
       "43           1      804     4.0   964980499\n",
       "120          1     2018     5.0   964980523\n",
       "171          1     2628     4.0   964980523\n",
       "183          1     2826     4.0   964980523\n",
       "...        ...      ...     ...         ...\n",
       "100610     610   101112     3.0  1493847967\n",
       "100022     610     7369     2.5  1493847980\n",
       "100603     610   100163     3.0  1493847984\n",
       "99808      610     4153     3.0  1493847986\n",
       "100565     610    95558     3.5  1493847991\n",
       "\n",
       "[70312 rows x 4 columns]"
      ]
     },
     "execution_count": 6,
     "metadata": {},
     "output_type": "execute_result"
    }
   ],
   "source": [
    "df_train"
   ]
  },
  {
   "cell_type": "markdown",
   "id": "43a58632",
   "metadata": {},
   "source": [
    "## Unittest"
   ]
  },
  {
   "cell_type": "code",
   "execution_count": 7,
   "id": "606d1fca",
   "metadata": {
    "ExecuteTime": {
     "end_time": "2021-10-05T02:53:35.823316Z",
     "start_time": "2021-10-05T02:53:35.779879Z"
    }
   },
   "outputs": [
    {
     "name": "stderr",
     "output_type": "stream",
     "text": [
      "test_shape (__main__.Test_split) ... "
     ]
    },
    {
     "name": "stdout",
     "output_type": "stream",
     "text": [
      "1\n"
     ]
    },
    {
     "name": "stderr",
     "output_type": "stream",
     "text": [
      "ok\n",
      "\n",
      "----------------------------------------------------------------------\n",
      "Ran 1 test in 0.011s\n",
      "\n",
      "OK\n"
     ]
    },
    {
     "data": {
      "text/plain": [
       "<unittest.main.TestProgram at 0x7f9e61734220>"
      ]
     },
     "execution_count": 7,
     "metadata": {},
     "output_type": "execute_result"
    }
   ],
   "source": [
    "import unittest\n",
    "import pandas as pd\n",
    "\n",
    "class Test_split(unittest.TestCase):\n",
    "    \n",
    "    def test_shape(self):\n",
    "        df = pd.DataFrame({'u': [1,1,2,2,3,3,3,5,5,6], 'i': [3,4,5,6,7,1,2,3,1,0], 'r':[5,6,7,8,9,3,2,1,0,9], 'timestamp':[0,1,3,9,3,2,1,4,6,5]}) \n",
    "        df_train1, df_test1, df_test_um, ind_train, ind_test = split_train_test_chronological(df, 0.70)\n",
    "        cdf = pd.concat([df_train1, df_test1])\n",
    "        s1=df.shape\n",
    "        s2=cdf.shape\n",
    "\n",
    "        self.assertEqual(s1,s2)\n",
    "    \n",
    "\n",
    "unittest.main(argv=[''], verbosity=2, exit=False)\n",
    "    \n"
   ]
  },
  {
   "cell_type": "code",
   "execution_count": null,
   "id": "ae8d5f63",
   "metadata": {},
   "outputs": [],
   "source": []
  }
 ],
 "metadata": {
  "kernelspec": {
   "display_name": "Python 3 (ipykernel)",
   "language": "python",
   "name": "python3"
  },
  "language_info": {
   "codemirror_mode": {
    "name": "ipython",
    "version": 3
   },
   "file_extension": ".py",
   "mimetype": "text/x-python",
   "name": "python",
   "nbconvert_exporter": "python",
   "pygments_lexer": "ipython3",
   "version": "3.9.6"
  }
 },
 "nbformat": 4,
 "nbformat_minor": 5
}
