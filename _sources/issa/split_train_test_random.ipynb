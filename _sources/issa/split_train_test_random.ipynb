{
 "cells": [
  {
   "cell_type": "markdown",
   "id": "929447e0",
   "metadata": {},
   "source": [
    "## Splitting transaction table to train and test sets\n",
    "This notebook contains the first function:\n",
    "1. split_train_test: creates train and test sets by splitting the raw data 'user_feature.csv'.\n",
    "2. evaluate: calculates the mse and mae of the final recommendations to the actual recommendations based on the test set.\n",
    "3. append_error_to_df: for visualization purposes and for further exploration of the errors.\n"
   ]
  },
  {
   "cell_type": "code",
   "execution_count": 58,
   "id": "88806b9f-9bb1-4435-8884-2ec80b34d0e5",
   "metadata": {
    "ExecuteTime": {
     "end_time": "2021-10-05T01:43:49.282434Z",
     "start_time": "2021-10-05T01:43:49.275871Z"
    }
   },
   "outputs": [],
   "source": [
    "# import pandas as pd\n",
    "# import numpy as np"
   ]
  },
  {
   "cell_type": "code",
   "execution_count": 59,
   "id": "e68969d3",
   "metadata": {
    "ExecuteTime": {
     "end_time": "2021-10-05T01:43:56.594202Z",
     "start_time": "2021-10-05T01:43:56.433558Z"
    }
   },
   "outputs": [
    {
     "data": {
      "text/html": [
       "<div>\n",
       "<style scoped>\n",
       "    .dataframe tbody tr th:only-of-type {\n",
       "        vertical-align: middle;\n",
       "    }\n",
       "\n",
       "    .dataframe tbody tr th {\n",
       "        vertical-align: top;\n",
       "    }\n",
       "\n",
       "    .dataframe thead th {\n",
       "        text-align: right;\n",
       "    }\n",
       "</style>\n",
       "<table border=\"1\" class=\"dataframe\">\n",
       "  <thead>\n",
       "    <tr style=\"text-align: right;\">\n",
       "      <th></th>\n",
       "      <th>userId</th>\n",
       "      <th>movieId</th>\n",
       "      <th>rating</th>\n",
       "    </tr>\n",
       "  </thead>\n",
       "  <tbody>\n",
       "    <tr>\n",
       "      <th>0</th>\n",
       "      <td>1</td>\n",
       "      <td>1</td>\n",
       "      <td>4.0</td>\n",
       "    </tr>\n",
       "    <tr>\n",
       "      <th>1</th>\n",
       "      <td>1</td>\n",
       "      <td>3</td>\n",
       "      <td>4.0</td>\n",
       "    </tr>\n",
       "    <tr>\n",
       "      <th>2</th>\n",
       "      <td>1</td>\n",
       "      <td>6</td>\n",
       "      <td>4.0</td>\n",
       "    </tr>\n",
       "    <tr>\n",
       "      <th>3</th>\n",
       "      <td>1</td>\n",
       "      <td>47</td>\n",
       "      <td>5.0</td>\n",
       "    </tr>\n",
       "    <tr>\n",
       "      <th>4</th>\n",
       "      <td>1</td>\n",
       "      <td>50</td>\n",
       "      <td>5.0</td>\n",
       "    </tr>\n",
       "    <tr>\n",
       "      <th>...</th>\n",
       "      <td>...</td>\n",
       "      <td>...</td>\n",
       "      <td>...</td>\n",
       "    </tr>\n",
       "    <tr>\n",
       "      <th>100831</th>\n",
       "      <td>610</td>\n",
       "      <td>166534</td>\n",
       "      <td>4.0</td>\n",
       "    </tr>\n",
       "    <tr>\n",
       "      <th>100832</th>\n",
       "      <td>610</td>\n",
       "      <td>168248</td>\n",
       "      <td>5.0</td>\n",
       "    </tr>\n",
       "    <tr>\n",
       "      <th>100833</th>\n",
       "      <td>610</td>\n",
       "      <td>168250</td>\n",
       "      <td>5.0</td>\n",
       "    </tr>\n",
       "    <tr>\n",
       "      <th>100834</th>\n",
       "      <td>610</td>\n",
       "      <td>168252</td>\n",
       "      <td>5.0</td>\n",
       "    </tr>\n",
       "    <tr>\n",
       "      <th>100835</th>\n",
       "      <td>610</td>\n",
       "      <td>170875</td>\n",
       "      <td>3.0</td>\n",
       "    </tr>\n",
       "  </tbody>\n",
       "</table>\n",
       "<p>100836 rows × 3 columns</p>\n",
       "</div>"
      ],
      "text/plain": [
       "        userId  movieId  rating\n",
       "0            1        1     4.0\n",
       "1            1        3     4.0\n",
       "2            1        6     4.0\n",
       "3            1       47     5.0\n",
       "4            1       50     5.0\n",
       "...        ...      ...     ...\n",
       "100831     610   166534     4.0\n",
       "100832     610   168248     5.0\n",
       "100833     610   168250     5.0\n",
       "100834     610   168252     5.0\n",
       "100835     610   170875     3.0\n",
       "\n",
       "[100836 rows x 3 columns]"
      ]
     },
     "execution_count": 59,
     "metadata": {},
     "output_type": "execute_result"
    }
   ],
   "source": [
    "# data = pd.read_csv('user_feature.csv')\n",
    "# features = ['userId', 'movieId', 'rating']\n",
    "# # data\n",
    "# new_data=data[features]\n",
    "# new_data"
   ]
  },
  {
   "cell_type": "markdown",
   "id": "1f3d4b7a",
   "metadata": {},
   "source": [
    "## Splitting"
   ]
  },
  {
   "cell_type": "code",
   "execution_count": 60,
   "id": "1c9aefc0",
   "metadata": {
    "ExecuteTime": {
     "end_time": "2021-10-05T01:44:01.402394Z",
     "start_time": "2021-10-05T01:44:01.381278Z"
    }
   },
   "outputs": [],
   "source": [
    "import pandas as pd\n",
    "\n",
    "def split_train_test(data, train_ratio=0.7):\n",
    "    \"\"\"\n",
    "    Splits the transaction data into train and test sets.\n",
    "    \n",
    "    Parameters\n",
    "    ----------\n",
    "    data         : pandas DataFrame for transaction table containing user, item, and ratings\n",
    "    \n",
    "    train_ratio  : the desired ratio of training set, while 1-train ratio is automatically set for the test set \n",
    "    \n",
    "    \n",
    "    Returns\n",
    "    ---------\n",
    "    df_train_fin : dataframe for the training set\n",
    "    \n",
    "    df_test_fin  : dataframe for the test set\n",
    "    \n",
    "    df_test_fin* : possible option is a pivoted df ready as the util matrix input of the recsys. In our case, the\n",
    "                   index='userId', columns='movieId', values='rating'. To generalize a transaction table, \n",
    "                   index=column[0], columns=itemId, values=rating.\n",
    "    \"\"\"\n",
    "    \n",
    "    list_df_train = []\n",
    "    list_df_test = []\n",
    "    \n",
    "    #group by user id\n",
    "    d = dict(tuple(data.groupby(data.columns[0]))) #assuming column[0] is the userId\n",
    "    \n",
    "    #splitting randomly per user\n",
    "    for i in (d):\n",
    "        if len(d[i])<2:\n",
    "            print(len(d[i]))\n",
    "            list_df_test.append(d[i])\n",
    "            \n",
    "        else:            \n",
    "            df_train = d[i].sample(frac=train_ratio)  \n",
    "            ind = df_train.index\n",
    "            df_test = d[i].drop(ind)\n",
    "            list_df_train.append(df_train) \n",
    "            list_df_test.append(df_test)\n",
    "\n",
    "    # 2. merge selected train set per user to a single dataframe\n",
    "    df_train_fin = pd.concat(list_df_train)\n",
    "    df_test_fin = pd.concat(list_df_test)\n",
    "    \n",
    "    # 3. Option to pivot it to create the utility matrix ready as input for recsys\n",
    "    df_test_um = df_test_fin.pivot(index=df_test_fin.columns[0], columns=df_test_fin.columns[1], values=df_test_fin.columns[2])\n",
    "    \n",
    "    # 4. get indices of train and test sets\n",
    "    indx_train = df_train_fin.index\n",
    "    indx_test = df_test_fin.index\n",
    "\n",
    "    return df_train_fin, df_test_fin, df_test_um, indx_train, indx_test #return indices"
   ]
  },
  {
   "cell_type": "code",
   "execution_count": 61,
   "id": "5b6efd89",
   "metadata": {
    "ExecuteTime": {
     "end_time": "2021-10-05T01:44:03.805997Z",
     "start_time": "2021-10-05T01:44:03.337050Z"
    }
   },
   "outputs": [],
   "source": [
    "df_train, df_test, df_test_um, ind_train, ind_test = split_train_test(new_data, 0.70)"
   ]
  },
  {
   "cell_type": "markdown",
   "id": "43a58632",
   "metadata": {},
   "source": [
    "## Unittest"
   ]
  },
  {
   "cell_type": "code",
   "execution_count": 62,
   "id": "606d1fca",
   "metadata": {
    "ExecuteTime": {
     "end_time": "2021-10-05T01:44:06.701349Z",
     "start_time": "2021-10-05T01:44:06.649715Z"
    }
   },
   "outputs": [
    {
     "name": "stderr",
     "output_type": "stream",
     "text": [
      "test_shape (__main__.Test_split) ... "
     ]
    },
    {
     "name": "stdout",
     "output_type": "stream",
     "text": [
      "1\n"
     ]
    },
    {
     "name": "stderr",
     "output_type": "stream",
     "text": [
      "ok\n",
      "\n",
      "----------------------------------------------------------------------\n",
      "Ran 1 test in 0.021s\n",
      "\n",
      "OK\n"
     ]
    },
    {
     "data": {
      "text/plain": [
       "<unittest.main.TestProgram at 0x7fcb61ec35e0>"
      ]
     },
     "execution_count": 62,
     "metadata": {},
     "output_type": "execute_result"
    }
   ],
   "source": [
    "import unittest\n",
    "import pandas as pd\n",
    "\n",
    "class Test_split(unittest.TestCase):\n",
    "    \n",
    "    def test_shape(self):\n",
    "        df = pd.DataFrame({'u': [1,1,2,2,3,3,3,5,5,6], 'i': [3,4,5,6,7,1,2,3,1,0], 'r':[5,6,7,8,9,3,2,1,0,9]}) \n",
    "        df_train1, df_test1, df_test_um, ind_train, ind_test = split_train_test(df, 0.70)\n",
    "        cdf = pd.concat([df_train1, df_test1])\n",
    "        s1=df.shape\n",
    "        s2=cdf.shape\n",
    "\n",
    "        self.assertEqual(s1,s2)\n",
    "    \n",
    "\n",
    "unittest.main(argv=[''], verbosity=2, exit=False)\n",
    "    \n"
   ]
  },
  {
   "cell_type": "code",
   "execution_count": null,
   "id": "ae8d5f63",
   "metadata": {},
   "outputs": [],
   "source": []
  }
 ],
 "metadata": {
  "kernelspec": {
   "display_name": "Python 3 (ipykernel)",
   "language": "python",
   "name": "python3"
  },
  "language_info": {
   "codemirror_mode": {
    "name": "ipython",
    "version": 3
   },
   "file_extension": ".py",
   "mimetype": "text/x-python",
   "name": "python",
   "nbconvert_exporter": "python",
   "pygments_lexer": "ipython3",
   "version": "3.9.6"
  }
 },
 "nbformat": 4,
 "nbformat_minor": 5
}
