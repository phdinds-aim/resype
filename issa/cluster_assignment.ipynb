{
 "cells": [
  {
   "cell_type": "markdown",
   "id": "cbca1e6c",
   "metadata": {},
   "source": [
    "This notebook continues from VP Gilbert's output in clustering. I just modified his outputs in functions __u_cluster__ and __i_cluster__ to include the dataframes. The addditions to his notebook start from function __cluster_assignment__. The functions from Gilbert are commented out and are used for unit testing.\n",
    "\n",
    "September 24, 2021"
   ]
  },
  {
   "cell_type": "code",
   "execution_count": 1,
   "id": "c8110e07",
   "metadata": {
    "ExecuteTime": {
     "end_time": "2021-09-24T05:05:55.552248Z",
     "start_time": "2021-09-24T05:05:55.545906Z"
    }
   },
   "outputs": [],
   "source": [
    "# fname = 'user_movie.csv'\n",
    "# state = 1337\n",
    "# drop_cols = ['userId']\n",
    "\n",
    "# u_clusters = 5\n",
    "# i_clusters = 5"
   ]
  },
  {
   "cell_type": "markdown",
   "id": "eca93967",
   "metadata": {},
   "source": [
    "# User Clustering"
   ]
  },
  {
   "cell_type": "code",
   "execution_count": 2,
   "id": "633af2a3",
   "metadata": {
    "ExecuteTime": {
     "end_time": "2021-09-24T05:05:56.647253Z",
     "start_time": "2021-09-24T05:05:56.626467Z"
    }
   },
   "outputs": [],
   "source": [
    "# def u_cluster(fname, model_fname, random_state=state, drop_cols=drop_cols, \n",
    "#               u_clusters=5, u_method='kmeans', **kwargs):\n",
    "#     \"\"\"\n",
    "#     pre_cluster\n",
    "\n",
    "#     Perform item-wise and user-wise clustering\n",
    "\n",
    "\n",
    "#     fname        : pandas DataFrame or string\n",
    "#                    The initial utility matrix with each row corresponding \n",
    "#                    to a user and the columns be \n",
    "\n",
    "#     random_state : int\n",
    "#                    The state to be used by the clustering algorithm to ensure\n",
    "#                    the consistency of results across runs\n",
    "\n",
    "#     drop_cols    : list\n",
    "#                    Columns to be dropped in fname\n",
    "\n",
    "#     u_clusters   : int\n",
    "#                    Number of clusters to be used for hard clustering of users\n",
    "\n",
    "#     Returns\n",
    "#     -------\n",
    "#     utility_matrix : pandas DataFrame\n",
    "#     \"\"\"\n",
    "#     import pandas as pd\n",
    "#     import numpy as np\n",
    "#     from sklearn.cluster import (KMeans, SpectralClustering,\n",
    "#                                  AgglomerativeClustering, DBSCAN, OPTICS,\n",
    "#                                  cluster_optics_dbscan, Birch)\n",
    "#     import pickle\n",
    "#     # Aggregation through tables\n",
    "\n",
    "#     if isinstance(fname, str):\n",
    "#         df = pd.read_csv(fname)\n",
    "#     else:\n",
    "#         df = fname\n",
    "\n",
    "#     if drop_cols != None:\n",
    "#         df = df.drop(columns=drop_cols)\n",
    "\n",
    "#     if u_method == 'kmeans':\n",
    "#         u_clusterer = KMeans(n_clusters=u_clusters, random_state=state)\n",
    "#     if u_method == 'spectral':\n",
    "#         u_clusterer = SpectralClustering(u_clusters, random_state=state)\n",
    "#     if u_method == 'ward':\n",
    "#         u_clusterer = AgglomerativeClustering(n_clusters=u_clusters,\n",
    "#                                               **kwargs)\n",
    "#     if u_method == 'single':\n",
    "#         u_clusterer = AgglomerativeClustering(n_clusters=u_clusters,\n",
    "#                                               linkage='single', **kwargs)\n",
    "#     if u_method == 'complete':\n",
    "#         u_clusterer = AgglomerativeClustering(n_clusters=u_clusters,\n",
    "#                                               linkage='complete', **kwargs)\n",
    "#     if u_method == 'average':\n",
    "#         u_clusterer = AgglomerativeClustering(n_clusters=u_clusters,\n",
    "#                                               linkage='average', **kwargs)\n",
    "#     if u_method == 'dbscan':\n",
    "#         u_clusterer = DBScan(**kwargs)\n",
    "#     if u_method == 'optics':\n",
    "#         u_clusterer = OPTICS(**kwargs)\n",
    "#     if u_method == 'birch':\n",
    "#         u_clusterer = Birch(n_clusters=u_clusters, **kwargs)\n",
    "\n",
    "#     u_predict = u_clusterer.fit_predict(df)\n",
    "#     df['u_cluster'] = u_predict\n",
    "\n",
    "#     model = u_clusterer\n",
    "#     result = dict(df['u_cluster'])\n",
    "#     with open(model_fname,'wb') as f:\n",
    "#         pickle.dump(model, f)\n",
    "#     return model, result, df"
   ]
  },
  {
   "cell_type": "markdown",
   "id": "06eed4ce",
   "metadata": {},
   "source": [
    "# Item Clustering"
   ]
  },
  {
   "cell_type": "code",
   "execution_count": 3,
   "id": "8e440470",
   "metadata": {
    "ExecuteTime": {
     "end_time": "2021-09-24T05:05:57.835479Z",
     "start_time": "2021-09-24T05:05:57.817794Z"
    }
   },
   "outputs": [],
   "source": [
    "# def i_cluster(fname, model_fname, random_state=state, drop_cols=drop_cols,\n",
    "#               i_clusters=5, i_method='kmeans', **kwargs):\n",
    "#     \"\"\"\n",
    "#     pre_cluster\n",
    "\n",
    "#     Perform item-wise and user-wise clustering\n",
    "\n",
    "\n",
    "#     fname        : pandas DataFrame or string\n",
    "#                    The initial utility matrix with each row corresponding \n",
    "#                    to a user and the columns be \n",
    "\n",
    "#     random_state : int\n",
    "#                    The state to be used by the clustering algorithm to ensure\n",
    "#                    the consistency of results across runs\n",
    "\n",
    "#     drop_cols    : list\n",
    "#                    Columns to be dropped in fname\n",
    "\n",
    "#     i_clusters   : int\n",
    "#                    Number of clusters to be used for hard clustering of items\n",
    "\n",
    "#     Returns\n",
    "#     -------\n",
    "#     model         : sklearn model\n",
    "\n",
    "#     result        : dict\n",
    "\n",
    "#     \"\"\"\n",
    "    \n",
    "    \n",
    "    \n",
    "#     import pandas as pd\n",
    "#     import numpy as np\n",
    "#     from sklearn.cluster import (KMeans, SpectralClustering, \n",
    "#                                  AgglomerativeClustering, DBSCAN, OPTICS, \n",
    "#                                  cluster_optics_dbscan, Birch)\n",
    "#     import pickle\n",
    "#     if isinstance(fname, str):\n",
    "#         df = pd.read_csv(fname)\n",
    "#     else:\n",
    "#         df = fname\n",
    "\n",
    "#     if drop_cols != None:\n",
    "#         df = df.drop(columns=drop_cols)\n",
    "\n",
    "#     df_items = df.T\n",
    "\n",
    "#     if i_method == 'kmeans':\n",
    "#         i_clusterer = KMeans(n_clusters=i_clusters, random_state=state)\n",
    "#     if i_method == 'spectral':\n",
    "#         i_clusterer = SpectralClustering(i_clusters, random_state=state)\n",
    "#     if i_method == 'ward':\n",
    "#         i_clusterer = AgglomerativeClustering(n_clusters=i_clusters,\n",
    "#                                               **kwargs)\n",
    "#     if i_method == 'single':\n",
    "#         i_clusterer = AgglomerativeClustering(n_clusters=i_clusters,\n",
    "#                                               linkage='single', **kwargs)\n",
    "#     if i_method == 'complete':\n",
    "#         i_clusterer = AgglomerativeClustering(n_clusters=i_clusters,\n",
    "#                                               linkage='complete', **kwargs)\n",
    "#     if i_method == 'average':\n",
    "#         i_clusterer = AgglomerativeClustering(n_clusters=i_clusters,\n",
    "#                                               linkage='average', **kwargs)\n",
    "#     if i_method == 'dbscan':\n",
    "#         i_clusterer = DBScan(**kwargs)\n",
    "#     if i_method == 'optics':\n",
    "#         i_clusterer = OPTICS(**kwargs)\n",
    "#     if i_method == 'birch':\n",
    "#         i_clusterer = Birch(n_clusters=i_clusters, **kwargs)\n",
    "\n",
    "#     i_predict = i_clusterer.fit_predict(df_items)\n",
    "#     df_items['i_cluster'] = i_predict\n",
    "\n",
    "#     model = i_clusterer\n",
    "#     result = dict(df_items['i_cluster'])\n",
    "#     with open(model_fname,'wb') as f:\n",
    "#         pickle.dump(model, f)\n",
    "#     return model, result, df_items"
   ]
  },
  {
   "cell_type": "code",
   "execution_count": 4,
   "id": "57398f93",
   "metadata": {
    "ExecuteTime": {
     "end_time": "2021-09-24T05:06:18.340445Z",
     "start_time": "2021-09-24T05:05:59.293787Z"
    }
   },
   "outputs": [],
   "source": [
    "# x_u,y_u, df_u = u_cluster(fname,'u_cluster.pkl', u_method='ward')\n",
    "# x_i,y_i, df_i = i_cluster(fname,'i_cluster.pkl', u_method='ward')"
   ]
  },
  {
   "cell_type": "markdown",
   "id": "aa3692f4",
   "metadata": {
    "ExecuteTime": {
     "end_time": "2021-09-21T07:45:47.076919Z",
     "start_time": "2021-09-21T07:45:47.072760Z"
    }
   },
   "source": [
    "# Cluster Assignments"
   ]
  },
  {
   "cell_type": "code",
   "execution_count": 5,
   "id": "250e3fc8",
   "metadata": {
    "ExecuteTime": {
     "end_time": "2021-09-24T05:06:18.355031Z",
     "start_time": "2021-09-24T05:06:18.346243Z"
    }
   },
   "outputs": [],
   "source": [
    "def cluster_assignment(cluster_res, data_name='user_id'):\n",
    "    \"\"\"\n",
    "    Converts the dictionary containing user_id and user_cluster assignment  \n",
    "    to a pandas DataFrame.\n",
    "\n",
    "    cluster_res : dictionary\n",
    "                  Result from clustering function with keys being the\n",
    "                  user_id and values their cluster membership\n",
    "\n",
    "    col         : string\n",
    "                  Column name of the user or item\n",
    "\n",
    "    Returns\n",
    "    -------\n",
    "    result      : pandas DataFrame\n",
    "                  Two columns representing the user/item and their \n",
    "                  corresponding cluster assignments\n",
    "    \"\"\"\n",
    "    import pandas as pd\n",
    "\n",
    "    if data_name == 'user_id':\n",
    "        cluster_name = 'ucluster'\n",
    "    else:\n",
    "        cluster_name = 'icluster'\n",
    "\n",
    "    c_assignment = pd.DataFrame(list(cluster_res.items()),\n",
    "                                columns=[data_name, cluster_name])\n",
    "    c_assignment.set_index(data_name, inplace=True)\n",
    "    return c_assignment"
   ]
  },
  {
   "cell_type": "code",
   "execution_count": 6,
   "id": "4c3836a6",
   "metadata": {
    "ExecuteTime": {
     "end_time": "2021-09-24T05:06:18.376265Z",
     "start_time": "2021-09-24T05:06:18.357082Z"
    }
   },
   "outputs": [],
   "source": [
    "uc_assignment = cluster_assignment(y_u, data_name='user_id')\n",
    "ic_assignment = cluster_assignment(y_i, data_name='item_id')"
   ]
  },
  {
   "cell_type": "code",
   "execution_count": 7,
   "id": "03d2fc26",
   "metadata": {
    "ExecuteTime": {
     "end_time": "2021-09-24T05:06:18.404658Z",
     "start_time": "2021-09-24T05:06:18.378145Z"
    }
   },
   "outputs": [
    {
     "data": {
      "text/html": [
       "<div>\n",
       "<style scoped>\n",
       "    .dataframe tbody tr th:only-of-type {\n",
       "        vertical-align: middle;\n",
       "    }\n",
       "\n",
       "    .dataframe tbody tr th {\n",
       "        vertical-align: top;\n",
       "    }\n",
       "\n",
       "    .dataframe thead th {\n",
       "        text-align: right;\n",
       "    }\n",
       "</style>\n",
       "<table border=\"1\" class=\"dataframe\">\n",
       "  <thead>\n",
       "    <tr style=\"text-align: right;\">\n",
       "      <th></th>\n",
       "      <th>icluster</th>\n",
       "    </tr>\n",
       "    <tr>\n",
       "      <th>item_id</th>\n",
       "      <th></th>\n",
       "    </tr>\n",
       "  </thead>\n",
       "  <tbody>\n",
       "    <tr>\n",
       "      <th>1</th>\n",
       "      <td>4</td>\n",
       "    </tr>\n",
       "    <tr>\n",
       "      <th>2</th>\n",
       "      <td>4</td>\n",
       "    </tr>\n",
       "    <tr>\n",
       "      <th>3</th>\n",
       "      <td>3</td>\n",
       "    </tr>\n",
       "    <tr>\n",
       "      <th>4</th>\n",
       "      <td>0</td>\n",
       "    </tr>\n",
       "    <tr>\n",
       "      <th>5</th>\n",
       "      <td>3</td>\n",
       "    </tr>\n",
       "    <tr>\n",
       "      <th>...</th>\n",
       "      <td>...</td>\n",
       "    </tr>\n",
       "    <tr>\n",
       "      <th>193581</th>\n",
       "      <td>0</td>\n",
       "    </tr>\n",
       "    <tr>\n",
       "      <th>193583</th>\n",
       "      <td>0</td>\n",
       "    </tr>\n",
       "    <tr>\n",
       "      <th>193585</th>\n",
       "      <td>0</td>\n",
       "    </tr>\n",
       "    <tr>\n",
       "      <th>193587</th>\n",
       "      <td>0</td>\n",
       "    </tr>\n",
       "    <tr>\n",
       "      <th>193609</th>\n",
       "      <td>0</td>\n",
       "    </tr>\n",
       "  </tbody>\n",
       "</table>\n",
       "<p>9742 rows × 1 columns</p>\n",
       "</div>"
      ],
      "text/plain": [
       "         icluster\n",
       "item_id          \n",
       "1               4\n",
       "2               4\n",
       "3               3\n",
       "4               0\n",
       "5               3\n",
       "...           ...\n",
       "193581          0\n",
       "193583          0\n",
       "193585          0\n",
       "193587          0\n",
       "193609          0\n",
       "\n",
       "[9742 rows x 1 columns]"
      ]
     },
     "execution_count": 7,
     "metadata": {},
     "output_type": "execute_result"
    }
   ],
   "source": [
    "ic_assignment"
   ]
  },
  {
   "cell_type": "code",
   "execution_count": 8,
   "id": "c2cf8b9c",
   "metadata": {
    "ExecuteTime": {
     "end_time": "2021-09-24T05:06:51.281039Z",
     "start_time": "2021-09-24T05:06:51.243742Z"
    }
   },
   "outputs": [
    {
     "name": "stderr",
     "output_type": "stream",
     "text": [
      "test_cluster_assignment (__main__.Test_cluster_assign) ... ok\n",
      "\n",
      "----------------------------------------------------------------------\n",
      "Ran 1 test in 0.010s\n",
      "\n",
      "OK\n"
     ]
    },
    {
     "data": {
      "text/plain": [
       "<unittest.main.TestProgram at 0x7f30b8f1eca0>"
      ]
     },
     "execution_count": 8,
     "metadata": {},
     "output_type": "execute_result"
    }
   ],
   "source": [
    "import unittest\n",
    "import pandas as pd\n",
    "from pandas._testing import assert_frame_equal\n",
    "\n",
    "class Test_cluster_assign(unittest.TestCase):\n",
    "    \n",
    "    def test_cluster_assignment(self):\n",
    "        dict_cluster_i = {0: 2, 1: 1, 2: 1, 3: 2, 4: 1, 5: 1, 6: 2, 7: 1, 8: 3, 9: 3}\n",
    "        dict_cluster_u = {0: 1, 1: 1, 2: 1, 3: 2, 4: 3, 5: 2, 6: 2, 7: 3, 8: 1, 9: 2}\n",
    "        \n",
    "        df_ex_u = pd.DataFrame(list(dict_cluster_u.items()), columns=['user_id', 'ucluster'])\n",
    "        df_ex_u.set_index('user_id', inplace=True)\n",
    "        df_ex_i = pd.DataFrame(list(dict_cluster_i.items()), columns=['item_id', 'icluster'])\n",
    "        df_ex_i.set_index('item_id', inplace=True)\n",
    "        \n",
    "        df_assignment_u = cluster_assignment(dict_cluster_u, data_name='user_id')\n",
    "        df_assignment_i = cluster_assignment(dict_cluster_i, data_name='item_id')\n",
    "        \n",
    "        assert_frame_equal(df_ex_u, df_assignment_u)\n",
    "        assert_frame_equal(df_ex_i, df_assignment_i)\n",
    "        \n",
    "unittest.main(argv=[''], verbosity=2, exit=False)"
   ]
  },
  {
   "cell_type": "code",
   "execution_count": null,
   "id": "ce6c7a50",
   "metadata": {},
   "outputs": [],
   "source": []
  }
 ],
 "metadata": {
  "kernelspec": {
   "display_name": "Python 3",
   "language": "python",
   "name": "python3"
  },
  "language_info": {
   "codemirror_mode": {
    "name": "ipython",
    "version": 3
   },
   "file_extension": ".py",
   "mimetype": "text/x-python",
   "name": "python",
   "nbconvert_exporter": "python",
   "pygments_lexer": "ipython3",
   "version": "3.8.8"
  }
 },
 "nbformat": 4,
 "nbformat_minor": 5
}
