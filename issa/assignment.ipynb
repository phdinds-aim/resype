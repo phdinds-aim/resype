{
 "cells": [
  {
   "cell_type": "markdown",
   "id": "aa3692f4",
   "metadata": {
    "ExecuteTime": {
     "end_time": "2021-09-21T07:45:47.076919Z",
     "start_time": "2021-09-21T07:45:47.072760Z"
    }
   },
   "source": [
    "# Cluster Assignments"
   ]
  },
  {
   "cell_type": "code",
   "execution_count": 5,
   "id": "250e3fc8",
   "metadata": {
    "ExecuteTime": {
     "end_time": "2021-09-24T05:06:18.355031Z",
     "start_time": "2021-09-24T05:06:18.346243Z"
    }
   },
   "outputs": [],
   "source": [
    "def cluster_assignment(cluster_res, data_name='user_id'):\n",
    "    \"\"\"\n",
    "    Converts the dictionary containing user_id and user_cluster assignment  \n",
    "    to a pandas DataFrame.\n",
    "\n",
    "    cluster_res : dictionary\n",
    "                  Result from clustering function with keys being the\n",
    "                  user_id and values their cluster membership\n",
    "\n",
    "    col         : string\n",
    "                  Column name of the user or item\n",
    "\n",
    "    Returns\n",
    "    -------\n",
    "    result      : pandas DataFrame\n",
    "                  Two columns representing the user/item and their \n",
    "                  corresponding cluster assignments\n",
    "    \"\"\"\n",
    "    import pandas as pd\n",
    "\n",
    "    if data_name == 'user_id':\n",
    "        cluster_name = 'ucluster'\n",
    "    else:\n",
    "        cluster_name = 'icluster'\n",
    "\n",
    "    c_assignment = pd.DataFrame(list(cluster_res.items()),\n",
    "                                columns=[data_name, cluster_name])\n",
    "    c_assignment.set_index(data_name, inplace=True)\n",
    "    return c_assignment"
   ]
  },
  {
   "cell_type": "code",
   "execution_count": 6,
   "id": "4c3836a6",
   "metadata": {
    "ExecuteTime": {
     "end_time": "2021-09-24T05:06:18.376265Z",
     "start_time": "2021-09-24T05:06:18.357082Z"
    }
   },
   "outputs": [],
   "source": [
    "uc_assignment = cluster_assignment(y_u, data_name='user_id')\n",
    "ic_assignment = cluster_assignment(y_i, data_name='item_id')"
   ]
  },
  {
   "cell_type": "code",
   "execution_count": 7,
   "id": "03d2fc26",
   "metadata": {
    "ExecuteTime": {
     "end_time": "2021-09-24T05:06:18.404658Z",
     "start_time": "2021-09-24T05:06:18.378145Z"
    }
   },
   "outputs": [
    {
     "data": {
      "text/html": [
       "<div>\n",
       "<style scoped>\n",
       "    .dataframe tbody tr th:only-of-type {\n",
       "        vertical-align: middle;\n",
       "    }\n",
       "\n",
       "    .dataframe tbody tr th {\n",
       "        vertical-align: top;\n",
       "    }\n",
       "\n",
       "    .dataframe thead th {\n",
       "        text-align: right;\n",
       "    }\n",
       "</style>\n",
       "<table border=\"1\" class=\"dataframe\">\n",
       "  <thead>\n",
       "    <tr style=\"text-align: right;\">\n",
       "      <th></th>\n",
       "      <th>icluster</th>\n",
       "    </tr>\n",
       "    <tr>\n",
       "      <th>item_id</th>\n",
       "      <th></th>\n",
       "    </tr>\n",
       "  </thead>\n",
       "  <tbody>\n",
       "    <tr>\n",
       "      <th>1</th>\n",
       "      <td>4</td>\n",
       "    </tr>\n",
       "    <tr>\n",
       "      <th>2</th>\n",
       "      <td>4</td>\n",
       "    </tr>\n",
       "    <tr>\n",
       "      <th>3</th>\n",
       "      <td>3</td>\n",
       "    </tr>\n",
       "    <tr>\n",
       "      <th>4</th>\n",
       "      <td>0</td>\n",
       "    </tr>\n",
       "    <tr>\n",
       "      <th>5</th>\n",
       "      <td>3</td>\n",
       "    </tr>\n",
       "    <tr>\n",
       "      <th>...</th>\n",
       "      <td>...</td>\n",
       "    </tr>\n",
       "    <tr>\n",
       "      <th>193581</th>\n",
       "      <td>0</td>\n",
       "    </tr>\n",
       "    <tr>\n",
       "      <th>193583</th>\n",
       "      <td>0</td>\n",
       "    </tr>\n",
       "    <tr>\n",
       "      <th>193585</th>\n",
       "      <td>0</td>\n",
       "    </tr>\n",
       "    <tr>\n",
       "      <th>193587</th>\n",
       "      <td>0</td>\n",
       "    </tr>\n",
       "    <tr>\n",
       "      <th>193609</th>\n",
       "      <td>0</td>\n",
       "    </tr>\n",
       "  </tbody>\n",
       "</table>\n",
       "<p>9742 rows × 1 columns</p>\n",
       "</div>"
      ],
      "text/plain": [
       "         icluster\n",
       "item_id          \n",
       "1               4\n",
       "2               4\n",
       "3               3\n",
       "4               0\n",
       "5               3\n",
       "...           ...\n",
       "193581          0\n",
       "193583          0\n",
       "193585          0\n",
       "193587          0\n",
       "193609          0\n",
       "\n",
       "[9742 rows x 1 columns]"
      ]
     },
     "execution_count": 7,
     "metadata": {},
     "output_type": "execute_result"
    }
   ],
   "source": [
    "ic_assignment"
   ]
  },
  {
   "cell_type": "markdown",
   "id": "f13e4fa9",
   "metadata": {},
   "source": [
    "## Unit Test"
   ]
  },
  {
   "cell_type": "code",
   "execution_count": 8,
   "id": "c2cf8b9c",
   "metadata": {
    "ExecuteTime": {
     "end_time": "2021-09-24T05:06:51.281039Z",
     "start_time": "2021-09-24T05:06:51.243742Z"
    }
   },
   "outputs": [
    {
     "name": "stderr",
     "output_type": "stream",
     "text": [
      "test_cluster_assignment (__main__.Test_cluster_assign) ... ok\n",
      "\n",
      "----------------------------------------------------------------------\n",
      "Ran 1 test in 0.010s\n",
      "\n",
      "OK\n"
     ]
    },
    {
     "data": {
      "text/plain": [
       "<unittest.main.TestProgram at 0x7f30b8f1eca0>"
      ]
     },
     "execution_count": 8,
     "metadata": {},
     "output_type": "execute_result"
    }
   ],
   "source": [
    "import unittest\n",
    "import pandas as pd\n",
    "from pandas._testing import assert_frame_equal\n",
    "\n",
    "class Test_cluster_assign(unittest.TestCase):\n",
    "    \n",
    "    def test_cluster_assignment(self):\n",
    "        dict_cluster_i = {0: 2, 1: 1, 2: 1, 3: 2, 4: 1, 5: 1, 6: 2, 7: 1, 8: 3, 9: 3}\n",
    "        dict_cluster_u = {0: 1, 1: 1, 2: 1, 3: 2, 4: 3, 5: 2, 6: 2, 7: 3, 8: 1, 9: 2}\n",
    "        \n",
    "        df_ex_u = pd.DataFrame(list(dict_cluster_u.items()), columns=['user_id', 'ucluster'])\n",
    "        df_ex_u.set_index('user_id', inplace=True)\n",
    "        df_ex_i = pd.DataFrame(list(dict_cluster_i.items()), columns=['item_id', 'icluster'])\n",
    "        df_ex_i.set_index('item_id', inplace=True)\n",
    "        \n",
    "        df_assignment_u = cluster_assignment(dict_cluster_u, data_name='user_id')\n",
    "        df_assignment_i = cluster_assignment(dict_cluster_i, data_name='item_id')\n",
    "        \n",
    "        assert_frame_equal(df_ex_u, df_assignment_u)\n",
    "        assert_frame_equal(df_ex_i, df_assignment_i)\n",
    "        \n",
    "unittest.main(argv=[''], verbosity=2, exit=False)"
   ]
  },
  {
   "cell_type": "code",
   "execution_count": null,
   "id": "ce6c7a50",
   "metadata": {},
   "outputs": [],
   "source": []
  }
 ],
 "metadata": {
  "kernelspec": {
   "display_name": "Python 3 (ipykernel)",
   "language": "python",
   "name": "python3"
  },
  "language_info": {
   "codemirror_mode": {
    "name": "ipython",
    "version": 3
   },
   "file_extension": ".py",
   "mimetype": "text/x-python",
   "name": "python",
   "nbconvert_exporter": "python",
   "pygments_lexer": "ipython3",
   "version": "3.9.5"
  },
  "latex_envs": {
   "LaTeX_envs_menu_present": true,
   "autoclose": false,
   "autocomplete": true,
   "bibliofile": "biblio.bib",
   "cite_by": "apalike",
   "current_citInitial": 1,
   "eqLabelWithNumbers": true,
   "eqNumInitial": 1,
   "hotkeys": {
    "equation": "Ctrl-E",
    "itemize": "Ctrl-I"
   },
   "labels_anchors": false,
   "latex_user_defs": false,
   "report_style_numbering": false,
   "user_envs_cfg": false
  }
 },
 "nbformat": 4,
 "nbformat_minor": 5
}
