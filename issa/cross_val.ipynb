{
 "cells": [
  {
   "cell_type": "markdown",
   "id": "d3f04820",
   "metadata": {},
   "source": [
    "# Cross-validation \n",
    "This notebook contains the function that performs cross validation tests. This is a dummy function that can be tested with the model/s."
   ]
  },
  {
   "cell_type": "code",
   "execution_count": 1,
   "id": "0eb5dd28",
   "metadata": {},
   "outputs": [],
   "source": [
    "def cross_val(df, k, split_method='random'):\n",
    "    \"\"\"\n",
    "    Performs cross-validation for different train and test sets.\n",
    "    \n",
    "    Parameters\n",
    "    -----------\n",
    "    df                    : the data to be split in the form of vanilla/transaction++ table (uid, iid, rating, timestamp)\n",
    "    \n",
    "    k                     : the number of times splitting and learning with the model is desired\n",
    "    \n",
    "    split_method          : 'random' splitting or 'chronological' splitting of the data\n",
    "    \n",
    "    model/model_result    : result of the collaborative recsys or content-based recsys\n",
    "    \n",
    "    \n",
    "    Returns\n",
    "    --------\n",
    "    mse and mae           : error metrics using sklearn\n",
    "    \n",
    "    \n",
    "    \"\"\"\n",
    "    mse = []\n",
    "    mae = []\n",
    "    \n",
    "    if split_method == 'random':\n",
    "        \n",
    "        for i in range(k):\n",
    "\n",
    "            # 1. split\n",
    "            df_train, df_test, df_test_um, indx_train, indx_test = split_train_test(df, 0.7)\n",
    "\n",
    "            # 2. train with model\n",
    "            model.fit(df_train)\n",
    "            result = model.predic(df_test)\n",
    "\n",
    "\n",
    "            # 3. evaluate results (result is in the form of utility matrix)\n",
    "            mse_i, mae_i = evaluate(result, df_test_um)\n",
    "\n",
    "            mse.append(mse_i)\n",
    "            mae.append(mae_i)\n",
    "    \n",
    "    \n",
    "    elif split_method == 'chronological':\n",
    "        \n",
    "        for i in range(k):\n",
    "\n",
    "            # 1. split\n",
    "            df_train, df_test, df_test_um, indx_train, indx_test = split_train_test_chronological(df, 0.7)\n",
    "\n",
    "            # 2. train with model\n",
    "            model.train(df_train)\n",
    "            result = model.fit(df_test)\n",
    "\n",
    "\n",
    "            # 3. evaluate results (result is in the form of utility matrix)\n",
    "            mse_i, mae_i = evaluate(result, df_test_um)\n",
    "\n",
    "            mse.append(mse_i)\n",
    "            mae.append(mae_i)\n",
    "    \n",
    "\n",
    "    return mse, mae\n",
    "        \n",
    "        "
   ]
  },
  {
   "cell_type": "code",
   "execution_count": null,
   "id": "becbf61f",
   "metadata": {},
   "outputs": [],
   "source": []
  },
  {
   "cell_type": "code",
   "execution_count": null,
   "id": "aa567da1",
   "metadata": {},
   "outputs": [],
   "source": []
  },
  {
   "cell_type": "code",
   "execution_count": null,
   "id": "b32ab152",
   "metadata": {},
   "outputs": [],
   "source": []
  }
 ],
 "metadata": {
  "kernelspec": {
   "display_name": "Python 3 (ipykernel)",
   "language": "python",
   "name": "python3"
  },
  "language_info": {
   "codemirror_mode": {
    "name": "ipython",
    "version": 3
   },
   "file_extension": ".py",
   "mimetype": "text/x-python",
   "name": "python",
   "nbconvert_exporter": "python",
   "pygments_lexer": "ipython3",
   "version": "3.9.6"
  }
 },
 "nbformat": 4,
 "nbformat_minor": 5
}
