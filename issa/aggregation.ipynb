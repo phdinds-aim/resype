{
 "cells": [
  {
   "cell_type": "markdown",
   "id": "b9da4751",
   "metadata": {},
   "source": [
    "# Aggregation"
   ]
  },
  {
   "cell_type": "code",
   "execution_count": 13,
   "id": "3cf7d2b1",
   "metadata": {
    "ExecuteTime": {
     "end_time": "2021-09-24T05:09:02.245118Z",
     "start_time": "2021-09-24T05:09:02.227312Z"
    }
   },
   "outputs": [],
   "source": [
    "def util_mat_agg(df_u, df_i, u_agg='sum', i_agg='sum'):\n",
    "    \"\"\"\n",
    "    Aggregates the results of the clustering with respect to item clusters and user clusters.\n",
    "    \n",
    "    Parameters\n",
    "    ----------\n",
    "    df_u    : pandas DataFrame\n",
    "              Dataframe of the user_ids with cluster assignments and\n",
    "              item ratings of users from the original matrix\n",
    "    \n",
    "    df_i    : pandas DataFrame\n",
    "              Dataframe of the item_ids with cluster assignments and \n",
    "              item ratings of users from the original matrix\n",
    "    \n",
    "    u_agg   : str\n",
    "              Aggregration method to be used for users through 'sum' or 'mean' \n",
    "    \n",
    "    i_agg   : str\n",
    "              Aggregration method to be used for items through 'sum' or 'mean' \n",
    "              \n",
    "    Returns\n",
    "    -------\n",
    "    util_mat   : pandas DataFrame\n",
    "                 utility matrix consisting of the aggregrated user \n",
    "                 clusters as rows and aggregated item clusters as columns\n",
    "    \"\"\"\n",
    "    import numpy as np\n",
    "    import pandas as pd\n",
    "    \n",
    "    u_series = df_u['u_cluster']\n",
    "    i_series = df_i['i_cluster']\n",
    "\n",
    "    u_ids = np.unique(u_series.values)\n",
    "    i_ids = np.unique(i_series.values) \n",
    "\n",
    "    u_feats = {}\n",
    "    for u_id in u_ids: #u_ids are clusters of u_id\n",
    "        sub_df = df_u.groupby('u_cluster').get_group(\n",
    "            u_id).drop(columns=['u_cluster']).T\n",
    "        sub_df = sub_df.merge(i_series, left_index=True, right_index=True)\n",
    "        \n",
    "        if u_agg == 'sum':\n",
    "            df_grp = sub_df.groupby('i_cluster').sum()\n",
    "        if u_agg == 'mean':\n",
    "            df_grp = sub_df.groupby('i_cluster').mean()\n",
    "        if not isinstance(u_agg,str):\n",
    "            df_grp = sub_df.groupby('i_cluster').apply(u_agg)\n",
    "            \n",
    "        if i_agg == 'sum':\n",
    "            df_grp = df_grp.sum(axis=1)\n",
    "        if i_agg == 'mean':\n",
    "            df_grp = df_grp.mean(axis=1)\n",
    "        if not isinstance(i_agg,str):\n",
    "            df_grp = df_grp.apply(i_agg, axis=1)\n",
    "        \n",
    "        u_feats[u_id] = df_grp\n",
    "    \n",
    "\n",
    "    u_matrix = pd.DataFrame()\n",
    "    for k, v in u_feats.items():\n",
    "        u_matrix = u_matrix.merge(v.rename(k), how='outer',\n",
    "                                  left_index=True, right_index=True)\n",
    "\n",
    "    util_mat = u_matrix.fillna(0).T\n",
    "    util_mat.index.rename('u_cluster', inplace=True)\n",
    "    return util_mat"
   ]
  },
  {
   "cell_type": "code",
   "execution_count": 14,
   "id": "dde0dd39",
   "metadata": {
    "ExecuteTime": {
     "end_time": "2021-09-24T05:09:03.801686Z",
     "start_time": "2021-09-24T05:09:03.602780Z"
    }
   },
   "outputs": [
    {
     "data": {
      "text/html": [
       "<div>\n",
       "<style scoped>\n",
       "    .dataframe tbody tr th:only-of-type {\n",
       "        vertical-align: middle;\n",
       "    }\n",
       "\n",
       "    .dataframe tbody tr th {\n",
       "        vertical-align: top;\n",
       "    }\n",
       "\n",
       "    .dataframe thead th {\n",
       "        text-align: right;\n",
       "    }\n",
       "</style>\n",
       "<table border=\"1\" class=\"dataframe\">\n",
       "  <thead>\n",
       "    <tr style=\"text-align: right;\">\n",
       "      <th>i_cluster</th>\n",
       "      <th>0</th>\n",
       "      <th>1</th>\n",
       "      <th>2</th>\n",
       "      <th>3</th>\n",
       "      <th>4</th>\n",
       "    </tr>\n",
       "    <tr>\n",
       "      <th>u_cluster</th>\n",
       "      <th></th>\n",
       "      <th></th>\n",
       "      <th></th>\n",
       "      <th></th>\n",
       "      <th></th>\n",
       "    </tr>\n",
       "  </thead>\n",
       "  <tbody>\n",
       "    <tr>\n",
       "      <th>0</th>\n",
       "      <td>0.155453</td>\n",
       "      <td>0.531532</td>\n",
       "      <td>0.944444</td>\n",
       "      <td>0.727240</td>\n",
       "      <td>0.894180</td>\n",
       "    </tr>\n",
       "    <tr>\n",
       "      <th>1</th>\n",
       "      <td>0.001109</td>\n",
       "      <td>0.010294</td>\n",
       "      <td>0.054167</td>\n",
       "      <td>0.016229</td>\n",
       "      <td>0.187710</td>\n",
       "    </tr>\n",
       "    <tr>\n",
       "      <th>2</th>\n",
       "      <td>0.006609</td>\n",
       "      <td>0.095030</td>\n",
       "      <td>0.302757</td>\n",
       "      <td>0.054039</td>\n",
       "      <td>0.259259</td>\n",
       "    </tr>\n",
       "    <tr>\n",
       "      <th>3</th>\n",
       "      <td>0.034548</td>\n",
       "      <td>0.415233</td>\n",
       "      <td>0.727517</td>\n",
       "      <td>0.235731</td>\n",
       "      <td>0.658730</td>\n",
       "    </tr>\n",
       "    <tr>\n",
       "      <th>4</th>\n",
       "      <td>0.027294</td>\n",
       "      <td>0.056212</td>\n",
       "      <td>0.516762</td>\n",
       "      <td>0.298726</td>\n",
       "      <td>0.580766</td>\n",
       "    </tr>\n",
       "  </tbody>\n",
       "</table>\n",
       "</div>"
      ],
      "text/plain": [
       "i_cluster         0         1         2         3         4\n",
       "u_cluster                                                  \n",
       "0          0.155453  0.531532  0.944444  0.727240  0.894180\n",
       "1          0.001109  0.010294  0.054167  0.016229  0.187710\n",
       "2          0.006609  0.095030  0.302757  0.054039  0.259259\n",
       "3          0.034548  0.415233  0.727517  0.235731  0.658730\n",
       "4          0.027294  0.056212  0.516762  0.298726  0.580766"
      ]
     },
     "execution_count": 14,
     "metadata": {},
     "output_type": "execute_result"
    }
   ],
   "source": [
    "util_mat_agg(df_u, df_i, 'mean', 'mean')"
   ]
  },
  {
   "cell_type": "markdown",
   "id": "beb7fbf1",
   "metadata": {},
   "source": [
    "Aggregation by sum(or mean):\n",
    "1. Users are identified to belong to their respective user clusters. Membership is limited to one user cluster per user.\n",
    "2. Within that user cluster, the items rated are identified and labeled with their respective item clusters.\n",
    "3. The first step of aggregation is done within each cluster where users are grouped according to the clusters of the items. \n",
    "4. The second step is to get the \"sum\" (\"mean\") of each item clusters.\n",
    "5. Steps 3 and 4 are repeated for all clusters.\n",
    "\n",
    "The following diagrams show sample clusters of users, where columns are the users in the cluster and rows are their ratings of the items. For each cluster, steps 3 and 4 are done using \"sum\" as the method of aggregation.\n",
    "![image](cluster0.png)\n",
    "![image](cluster1.png)\n",
    "![image](cluster2.png)\n",
    "\n",
    "6. The result of step 5 for all clusters are aggregated into a final utility matrix.\n",
    "![image](aggregated.png)"
   ]
  },
  {
   "cell_type": "markdown",
   "id": "047a763f",
   "metadata": {},
   "source": [
    "## Unit Test"
   ]
  },
  {
   "cell_type": "code",
   "execution_count": 15,
   "id": "58da6252",
   "metadata": {
    "ExecuteTime": {
     "end_time": "2021-09-24T05:09:08.255353Z",
     "start_time": "2021-09-24T05:09:08.200856Z"
    }
   },
   "outputs": [
    {
     "name": "stderr",
     "output_type": "stream",
     "text": [
      "test_util_mat_agg (__main__.Test_util_matrix_agg) ... ok\n",
      "\n",
      "----------------------------------------------------------------------\n",
      "Ran 1 test in 0.027s\n",
      "\n",
      "OK\n"
     ]
    },
    {
     "data": {
      "text/plain": [
       "<unittest.main.TestProgram at 0x7f3aac133f40>"
      ]
     },
     "execution_count": 15,
     "metadata": {},
     "output_type": "execute_result"
    }
   ],
   "source": [
    "import unittest\n",
    "import pandas as pd\n",
    "from pandas._testing import assert_frame_equal\n",
    "import numpy as np\n",
    "\n",
    "class Test_util_matrix_agg(unittest.TestCase):\n",
    "    \n",
    "    def test_util_mat_agg(self):\n",
    "        arru = np.array([[1,1,1,0,1,0,1],[0,0,0,1,1,0,1],[1,1,1,1,1,1,1],[0,1,1,0,0,1,1],[0,1,1,1,1,1,0],\n",
    "                 [1,1,1,0,0,0,1],[1,1,0,0,0,1,1]])\n",
    "        df_ut = pd.DataFrame(arru, index=[1,2,3,4,5,6,7])\n",
    "        df_ut['u_cluster'] = [0,0,1,2,0,2,1]\n",
    "        \n",
    "        arri = np.transpose(arru)\n",
    "        df_it = pd.DataFrame(arri)\n",
    "        df_it['i_cluster'] = [0,3,1,2,0,2,1]\n",
    "        \n",
    "        agg_arr = np.array([[4,4,3,2],[3,3,3,2],[1,4,1,2]])\n",
    "        agg_arr = np.array([[4,4,3,2],[3,3,3,2],[1,4,1,2]])\n",
    "        df_a = pd.DataFrame(agg_arr, index=[0,1,2])\n",
    "        df_a.index.name='u_cluster'\n",
    "        df_a.columns=[0,1,2,3]\n",
    "        \n",
    "        umt= util_mat_agg(df_ut, df_it, \"sum\", \"sum\")\n",
    "        assert_frame_equal(df_a, umt, check_dtype=True, check_names=False)\n",
    "    \n",
    "unittest.main(argv=[''], verbosity=2, exit=False)"
   ]
  },
  {
   "cell_type": "code",
   "execution_count": null,
   "id": "ce6c7a50",
   "metadata": {},
   "outputs": [],
   "source": []
  }
 ],
 "metadata": {
  "kernelspec": {
   "display_name": "Python 3 (ipykernel)",
   "language": "python",
   "name": "python3"
  },
  "language_info": {
   "codemirror_mode": {
    "name": "ipython",
    "version": 3
   },
   "file_extension": ".py",
   "mimetype": "text/x-python",
   "name": "python",
   "nbconvert_exporter": "python",
   "pygments_lexer": "ipython3",
   "version": "3.9.5"
  },
  "latex_envs": {
   "LaTeX_envs_menu_present": true,
   "autoclose": false,
   "autocomplete": true,
   "bibliofile": "biblio.bib",
   "cite_by": "apalike",
   "current_citInitial": 1,
   "eqLabelWithNumbers": true,
   "eqNumInitial": 1,
   "hotkeys": {
    "equation": "Ctrl-E",
    "itemize": "Ctrl-I"
   },
   "labels_anchors": false,
   "latex_user_defs": false,
   "report_style_numbering": false,
   "user_envs_cfg": false
  }
 },
 "nbformat": 4,
 "nbformat_minor": 5
}
