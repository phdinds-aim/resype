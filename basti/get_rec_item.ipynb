{
 "cells": [
  {
   "cell_type": "markdown",
   "id": "narrow-promotion",
   "metadata": {},
   "source": [
    "# `get_rec_item` Function\n",
    "\n",
    "If the recs are item clusters and you want to get actual items, use this!"
   ]
  },
  {
   "cell_type": "code",
   "execution_count": 13,
   "id": "funky-simple",
   "metadata": {
    "execution": {
     "iopub.execute_input": "2021-09-23T12:57:29.142677Z",
     "iopub.status.busy": "2021-09-23T12:57:29.141677Z",
     "iopub.status.idle": "2021-09-23T12:57:29.146681Z",
     "shell.execute_reply": "2021-09-23T12:57:29.146681Z",
     "shell.execute_reply.started": "2021-09-23T12:57:29.142677Z"
    },
    "tags": []
   },
   "outputs": [],
   "source": [
    "import numpy as np\n",
    "import pandas as pd\n",
    "\n",
    "from random_gen import *\n",
    "from get_rec import *\n",
    "\n",
    "def get_rec_item(df_rec, top_k, ic_assignment):\n",
    "    \n",
    "    \"\"\"Returns the top K item recommendations for each user in the user list\n",
    "    \n",
    "            Parameters:\n",
    "                    df_rec (pandas.DataFrame): Table containing the top N item cluster recommendations for each user in the user list\n",
    "                    ic_assignment (array-like): List containing the cluster assignment of each item\n",
    "                    top_n (int): Number of items to recommend\n",
    "\n",
    "            Returns:\n",
    "                    df_rec_item (pandas.DataFrame): Table containing the top K item recommendations for each user in the user list\n",
    "                    \n",
    "    \"\"\"\n",
    "\n",
    "    # Create recommendation table\n",
    "    df_rec_item = pd.DataFrame()\n",
    "    df_rec_item['user_id'] = df_rec['user_id']\n",
    "    \n",
    "    for i in range(top_k):\n",
    "        df_rec['rank_'+str(i+1)] = np.zeros(df_rec_item.shape[0])\n",
    "        for j in range(df_rec_item.shape[0]):\n",
    "            \n",
    "            \n",
    "            if uc_assignment is None:\n",
    "                df_rec.iloc[j, i+1] = cluster_rec[user_list[j], top_n-i-1]\n",
    "            else:\n",
    "                df_rec.iloc[j, i+1] = cluster_rec[uc_assignment[user_list[j]], top_n-i-1]\n",
    "                \n",
    "    return df_rec_item"
   ]
  },
  {
   "cell_type": "markdown",
   "id": "abc4363a-3c9c-4558-bef2-2fab7053cec4",
   "metadata": {},
   "source": [
    "## Example"
   ]
  },
  {
   "cell_type": "code",
   "execution_count": 14,
   "id": "normal-circumstances",
   "metadata": {
    "execution": {
     "iopub.execute_input": "2021-09-23T12:57:37.025192Z",
     "iopub.status.busy": "2021-09-23T12:57:37.025192Z",
     "iopub.status.idle": "2021-09-23T12:57:37.043209Z",
     "shell.execute_reply": "2021-09-23T12:57:37.043209Z",
     "shell.execute_reply.started": "2021-09-23T12:57:37.025192Z"
    },
    "tags": []
   },
   "outputs": [
    {
     "data": {
      "text/html": [
       "<div>\n",
       "<style scoped>\n",
       "    .dataframe tbody tr th:only-of-type {\n",
       "        vertical-align: middle;\n",
       "    }\n",
       "\n",
       "    .dataframe tbody tr th {\n",
       "        vertical-align: top;\n",
       "    }\n",
       "\n",
       "    .dataframe thead th {\n",
       "        text-align: right;\n",
       "    }\n",
       "</style>\n",
       "<table border=\"1\" class=\"dataframe\">\n",
       "  <thead>\n",
       "    <tr style=\"text-align: right;\">\n",
       "      <th></th>\n",
       "      <th>user_id</th>\n",
       "      <th>rank_1</th>\n",
       "      <th>rank_2</th>\n",
       "      <th>rank_3</th>\n",
       "    </tr>\n",
       "  </thead>\n",
       "  <tbody>\n",
       "    <tr>\n",
       "      <th>0</th>\n",
       "      <td>80</td>\n",
       "      <td>1.0</td>\n",
       "      <td>2.0</td>\n",
       "      <td>4.0</td>\n",
       "    </tr>\n",
       "    <tr>\n",
       "      <th>1</th>\n",
       "      <td>84</td>\n",
       "      <td>3.0</td>\n",
       "      <td>4.0</td>\n",
       "      <td>1.0</td>\n",
       "    </tr>\n",
       "    <tr>\n",
       "      <th>2</th>\n",
       "      <td>33</td>\n",
       "      <td>3.0</td>\n",
       "      <td>4.0</td>\n",
       "      <td>1.0</td>\n",
       "    </tr>\n",
       "    <tr>\n",
       "      <th>3</th>\n",
       "      <td>81</td>\n",
       "      <td>0.0</td>\n",
       "      <td>3.0</td>\n",
       "      <td>1.0</td>\n",
       "    </tr>\n",
       "    <tr>\n",
       "      <th>4</th>\n",
       "      <td>93</td>\n",
       "      <td>3.0</td>\n",
       "      <td>1.0</td>\n",
       "      <td>0.0</td>\n",
       "    </tr>\n",
       "    <tr>\n",
       "      <th>5</th>\n",
       "      <td>17</td>\n",
       "      <td>0.0</td>\n",
       "      <td>3.0</td>\n",
       "      <td>1.0</td>\n",
       "    </tr>\n",
       "    <tr>\n",
       "      <th>6</th>\n",
       "      <td>36</td>\n",
       "      <td>3.0</td>\n",
       "      <td>1.0</td>\n",
       "      <td>0.0</td>\n",
       "    </tr>\n",
       "    <tr>\n",
       "      <th>7</th>\n",
       "      <td>82</td>\n",
       "      <td>1.0</td>\n",
       "      <td>2.0</td>\n",
       "      <td>4.0</td>\n",
       "    </tr>\n",
       "    <tr>\n",
       "      <th>8</th>\n",
       "      <td>69</td>\n",
       "      <td>4.0</td>\n",
       "      <td>2.0</td>\n",
       "      <td>0.0</td>\n",
       "    </tr>\n",
       "    <tr>\n",
       "      <th>9</th>\n",
       "      <td>65</td>\n",
       "      <td>3.0</td>\n",
       "      <td>1.0</td>\n",
       "      <td>0.0</td>\n",
       "    </tr>\n",
       "  </tbody>\n",
       "</table>\n",
       "</div>"
      ],
      "text/plain": [
       "   user_id  rank_1  rank_2  rank_3\n",
       "0       80     1.0     2.0     4.0\n",
       "1       84     3.0     4.0     1.0\n",
       "2       33     3.0     4.0     1.0\n",
       "3       81     0.0     3.0     1.0\n",
       "4       93     3.0     1.0     0.0\n",
       "5       17     0.0     3.0     1.0\n",
       "6       36     3.0     1.0     0.0\n",
       "7       82     1.0     2.0     4.0\n",
       "8       69     4.0     2.0     0.0\n",
       "9       65     3.0     1.0     0.0"
      ]
     },
     "execution_count": 14,
     "metadata": {},
     "output_type": "execute_result"
    }
   ],
   "source": [
    "n_user = 100\n",
    "n_item = 50\n",
    "sample_size = 10\n",
    "n_user_cluster = 5\n",
    "n_item_cluster = 5\n",
    "top_n = 3\n",
    "random_seed = 1\n",
    "\n",
    "user_id_list = list(range(n_user))\n",
    "user_list = random_user_list(n_user, sample_size, random_seed)\n",
    "uc_assignment = random_user_cluster(n_user, n_user_cluster, random_seed)\n",
    "utility_matrix_o, utility_matrix = random_utility_matrix(n_user_cluster, n_item_cluster, random_seed)\n",
    "df_rec = get_rec(utility_matrix, utility_matrix_o, user_list, top_n, uc_assignment)\n",
    "df_rec"
   ]
  },
  {
   "cell_type": "code",
   "execution_count": 15,
   "id": "e122fa45-e8cd-406a-bf09-1e162873d9b3",
   "metadata": {
    "execution": {
     "iopub.execute_input": "2021-09-23T12:57:37.454582Z",
     "iopub.status.busy": "2021-09-23T12:57:37.453581Z",
     "iopub.status.idle": "2021-09-23T12:57:37.458586Z",
     "shell.execute_reply": "2021-09-23T12:57:37.458586Z",
     "shell.execute_reply.started": "2021-09-23T12:57:37.454582Z"
    },
    "tags": []
   },
   "outputs": [
    {
     "data": {
      "text/plain": [
       "array([0, 0, 3, 2, 3, 0, 2, 1, 3, 2, 4, 4, 4, 3, 4, 2, 3, 3, 2, 1, 2, 4,\n",
       "       3, 0, 4, 3, 1, 2, 0, 4, 4, 2, 4, 2, 1, 0, 2, 2, 1, 0, 1, 0, 2, 1,\n",
       "       1, 1, 4, 2, 3, 0])"
      ]
     },
     "execution_count": 15,
     "metadata": {},
     "output_type": "execute_result"
    }
   ],
   "source": [
    "ic_assignment = random_user_cluster(n_item, n_item_cluster, random_seed=2)\n",
    "ic_assignment"
   ]
  },
  {
   "cell_type": "code",
   "execution_count": 19,
   "id": "6c78d7af-1d35-4947-9999-0d6ed3f571d2",
   "metadata": {
    "execution": {
     "iopub.execute_input": "2021-09-23T12:58:23.126104Z",
     "iopub.status.busy": "2021-09-23T12:58:23.126104Z",
     "iopub.status.idle": "2021-09-23T12:58:23.131109Z",
     "shell.execute_reply": "2021-09-23T12:58:23.131109Z",
     "shell.execute_reply.started": "2021-09-23T12:58:23.126104Z"
    },
    "tags": []
   },
   "outputs": [
    {
     "data": {
      "text/html": [
       "<div>\n",
       "<style scoped>\n",
       "    .dataframe tbody tr th:only-of-type {\n",
       "        vertical-align: middle;\n",
       "    }\n",
       "\n",
       "    .dataframe tbody tr th {\n",
       "        vertical-align: top;\n",
       "    }\n",
       "\n",
       "    .dataframe thead th {\n",
       "        text-align: right;\n",
       "    }\n",
       "</style>\n",
       "<table border=\"1\" class=\"dataframe\">\n",
       "  <thead>\n",
       "    <tr style=\"text-align: right;\">\n",
       "      <th></th>\n",
       "      <th>user_id</th>\n",
       "    </tr>\n",
       "  </thead>\n",
       "  <tbody>\n",
       "    <tr>\n",
       "      <th>0</th>\n",
       "      <td>80</td>\n",
       "    </tr>\n",
       "    <tr>\n",
       "      <th>1</th>\n",
       "      <td>84</td>\n",
       "    </tr>\n",
       "    <tr>\n",
       "      <th>2</th>\n",
       "      <td>33</td>\n",
       "    </tr>\n",
       "    <tr>\n",
       "      <th>3</th>\n",
       "      <td>81</td>\n",
       "    </tr>\n",
       "    <tr>\n",
       "      <th>4</th>\n",
       "      <td>93</td>\n",
       "    </tr>\n",
       "    <tr>\n",
       "      <th>5</th>\n",
       "      <td>17</td>\n",
       "    </tr>\n",
       "    <tr>\n",
       "      <th>6</th>\n",
       "      <td>36</td>\n",
       "    </tr>\n",
       "    <tr>\n",
       "      <th>7</th>\n",
       "      <td>82</td>\n",
       "    </tr>\n",
       "    <tr>\n",
       "      <th>8</th>\n",
       "      <td>69</td>\n",
       "    </tr>\n",
       "    <tr>\n",
       "      <th>9</th>\n",
       "      <td>65</td>\n",
       "    </tr>\n",
       "  </tbody>\n",
       "</table>\n",
       "</div>"
      ],
      "text/plain": [
       "   user_id\n",
       "0       80\n",
       "1       84\n",
       "2       33\n",
       "3       81\n",
       "4       93\n",
       "5       17\n",
       "6       36\n",
       "7       82\n",
       "8       69\n",
       "9       65"
      ]
     },
     "execution_count": 19,
     "metadata": {},
     "output_type": "execute_result"
    }
   ],
   "source": [
    "top_k = 10\n",
    "get_rec_item(df_rec, top_k, ic_assignment)"
   ]
  },
  {
   "cell_type": "code",
   "execution_count": null,
   "id": "523183bf-2df4-45f7-b084-02a788a2be5b",
   "metadata": {},
   "outputs": [],
   "source": []
  }
 ],
 "metadata": {
  "kernelspec": {
   "display_name": "Python [conda env:fbprophet]",
   "language": "python",
   "name": "conda-env-fbprophet-py"
  },
  "language_info": {
   "codemirror_mode": {
    "name": "ipython",
    "version": 3
   },
   "file_extension": ".py",
   "mimetype": "text/x-python",
   "name": "python",
   "nbconvert_exporter": "python",
   "pygments_lexer": "ipython3",
   "version": "3.8.8"
  }
 },
 "nbformat": 4,
 "nbformat_minor": 5
}
