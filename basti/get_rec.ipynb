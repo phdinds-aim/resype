{
 "cells": [
  {
   "cell_type": "markdown",
   "id": "narrow-promotion",
   "metadata": {},
   "source": [
    "# `get_rec` Function\n",
    "\n",
    "Assumptions:\n",
    "\n",
    "1. Row indices of the utility matrix corresponds to the user_id\n",
    "\n",
    "2. Column indices of the utility matrix corresponds to the item_id\n",
    "\n",
    "3. id starts from 0\n",
    "\n",
    "Notes:\n",
    "\n",
    "- I don't seem to need the item ids"
   ]
  },
  {
   "cell_type": "code",
   "execution_count": 1,
   "id": "funky-simple",
   "metadata": {
    "execution": {
     "iopub.execute_input": "2021-09-23T12:30:30.773798Z",
     "iopub.status.busy": "2021-09-23T12:30:30.773798Z",
     "iopub.status.idle": "2021-09-23T12:30:31.041042Z",
     "shell.execute_reply": "2021-09-23T12:30:31.041042Z",
     "shell.execute_reply.started": "2021-09-23T12:30:30.773798Z"
    },
    "tags": []
   },
   "outputs": [],
   "source": [
    "import numpy as np\n",
    "import pandas as pd\n",
    "\n",
    "from random_gen import *\n",
    "\n",
    "def get_rec(utility_matrix, utility_matrix_o, user_list, top_n, uc_assignment=None):\n",
    "    \n",
    "    \"\"\"Returns the top N item cluster recommendations for each user in the user list\n",
    "    \n",
    "            Parameters:\n",
    "                    utility_matrix (numpy.ndarray): Matrix of utilities for each user-item pairing\n",
    "                    utility_matrix_o (numpy.ndarray): Original utility matrix, before imputation\n",
    "                    user_list (array-like): List of users\n",
    "                    uc_assignment (array-like): List containing the cluster assignment of each user\n",
    "                    top_n (int): Number of item clusters to recommend\n",
    "\n",
    "            Returns:\n",
    "                    df_rec (pandas.DataFrame): Table containing the top N item cluster recommendations for each user in the user list\n",
    "                    \n",
    "    \"\"\"\n",
    "    \n",
    "    # Don't recommend items that are already rated\n",
    "    utility_matrix[np.where(utility_matrix_o != 0)] = -np.inf\n",
    "    \n",
    "    # Get top N per user cluster\n",
    "    cluster_rec = utility_matrix.argsort()[:, -top_n:]\n",
    "\n",
    "    # Create recommendation table\n",
    "    df_rec = pd.DataFrame()\n",
    "    df_rec['user_id'] = user_list\n",
    "    \n",
    "    for i in range(top_n):\n",
    "        df_rec['rank_'+str(i+1)] = np.zeros(df_rec.shape[0])\n",
    "        for j in range(df_rec.shape[0]):\n",
    "            if uc_assignment is None:\n",
    "                df_rec.iloc[j, i+1] = cluster_rec[user_list[j], top_n-i-1]\n",
    "            else:\n",
    "                df_rec.iloc[j, i+1] = cluster_rec[uc_assignment[user_list[j]], top_n-i-1]\n",
    "                \n",
    "    return df_rec"
   ]
  },
  {
   "cell_type": "markdown",
   "id": "abc4363a-3c9c-4558-bef2-2fab7053cec4",
   "metadata": {},
   "source": [
    "## Example"
   ]
  },
  {
   "cell_type": "code",
   "execution_count": 2,
   "id": "normal-circumstances",
   "metadata": {
    "execution": {
     "iopub.execute_input": "2021-09-23T12:30:31.042042Z",
     "iopub.status.busy": "2021-09-23T12:30:31.042042Z",
     "iopub.status.idle": "2021-09-23T12:30:31.057056Z",
     "shell.execute_reply": "2021-09-23T12:30:31.057056Z",
     "shell.execute_reply.started": "2021-09-23T12:30:31.042042Z"
    },
    "tags": []
   },
   "outputs": [],
   "source": [
    "n_user = 100\n",
    "sample_size = 10\n",
    "n_user_cluster = 5\n",
    "n_item_cluster = 5\n",
    "top_n = 3\n",
    "random_seed = 1\n",
    "\n",
    "user_id_list = list(range(n_user))\n",
    "user_list = random_user_list(n_user, sample_size, random_seed)\n",
    "uc_assignment = random_user_cluster(n_user, n_user_cluster, random_seed)\n",
    "utility_matrix_o, utility_matrix = random_utility_matrix(n_user_cluster, n_item_cluster, random_seed)"
   ]
  },
  {
   "cell_type": "code",
   "execution_count": 3,
   "id": "historic-worker",
   "metadata": {
    "execution": {
     "iopub.execute_input": "2021-09-23T12:30:31.058057Z",
     "iopub.status.busy": "2021-09-23T12:30:31.058057Z",
     "iopub.status.idle": "2021-09-23T12:30:31.073071Z",
     "shell.execute_reply": "2021-09-23T12:30:31.073071Z",
     "shell.execute_reply.started": "2021-09-23T12:30:31.058057Z"
    },
    "tags": []
   },
   "outputs": [
    {
     "data": {
      "text/plain": [
       "array([80, 84, 33, 81, 93, 17, 36, 82, 69, 65])"
      ]
     },
     "execution_count": 3,
     "metadata": {},
     "output_type": "execute_result"
    }
   ],
   "source": [
    "user_list"
   ]
  },
  {
   "cell_type": "code",
   "execution_count": 4,
   "id": "found-toddler",
   "metadata": {
    "execution": {
     "iopub.execute_input": "2021-09-23T12:30:31.074072Z",
     "iopub.status.busy": "2021-09-23T12:30:31.074072Z",
     "iopub.status.idle": "2021-09-23T12:30:31.089085Z",
     "shell.execute_reply": "2021-09-23T12:30:31.089085Z",
     "shell.execute_reply.started": "2021-09-23T12:30:31.074072Z"
    },
    "tags": []
   },
   "outputs": [
    {
     "data": {
      "text/plain": [
       "array([3, 4, 0, 1, 3, 0, 0, 1, 4, 4, 1, 2, 4, 2, 4, 3, 4, 2, 4, 2, 4, 1,\n",
       "       1, 0, 1, 1, 1, 1, 0, 4, 1, 0, 0, 3, 2, 1, 0, 3, 1, 1, 3, 4, 0, 1,\n",
       "       3, 4, 2, 4, 0, 3, 1, 2, 0, 4, 1, 2, 2, 1, 0, 1, 3, 4, 3, 1, 3, 0,\n",
       "       0, 2, 2, 1, 3, 4, 2, 0, 0, 1, 1, 3, 0, 0, 4, 2, 4, 3, 3, 0, 3, 4,\n",
       "       3, 4, 4, 4, 1, 0, 4, 2, 0, 2, 4, 1])"
      ]
     },
     "execution_count": 4,
     "metadata": {},
     "output_type": "execute_result"
    }
   ],
   "source": [
    "uc_assignment"
   ]
  },
  {
   "cell_type": "code",
   "execution_count": 5,
   "id": "equipped-gospel",
   "metadata": {
    "execution": {
     "iopub.execute_input": "2021-09-23T12:30:31.090086Z",
     "iopub.status.busy": "2021-09-23T12:30:31.090086Z",
     "iopub.status.idle": "2021-09-23T12:30:31.105100Z",
     "shell.execute_reply": "2021-09-23T12:30:31.105100Z",
     "shell.execute_reply.started": "2021-09-23T12:30:31.090086Z"
    },
    "tags": []
   },
   "outputs": [
    {
     "data": {
      "text/plain": [
       "array([4, 3, 3, 2, 0, 2, 0, 4, 1, 0])"
      ]
     },
     "execution_count": 5,
     "metadata": {},
     "output_type": "execute_result"
    }
   ],
   "source": [
    "uc_assignment[user_list]"
   ]
  },
  {
   "cell_type": "code",
   "execution_count": 6,
   "id": "healthy-charter",
   "metadata": {
    "execution": {
     "iopub.execute_input": "2021-09-23T12:30:31.106101Z",
     "iopub.status.busy": "2021-09-23T12:30:31.106101Z",
     "iopub.status.idle": "2021-09-23T12:30:31.121115Z",
     "shell.execute_reply": "2021-09-23T12:30:31.121115Z",
     "shell.execute_reply.started": "2021-09-23T12:30:31.106101Z"
    },
    "tags": []
   },
   "outputs": [
    {
     "data": {
      "text/plain": [
       "array([[0., 0., 1., 0., 0.],\n",
       "       [0., 1., 0., 0., 0.],\n",
       "       [0., 0., 0., 0., 1.],\n",
       "       [1., 0., 0., 0., 0.],\n",
       "       [0., 0., 0., 1., 0.]])"
      ]
     },
     "execution_count": 6,
     "metadata": {},
     "output_type": "execute_result"
    }
   ],
   "source": [
    "utility_matrix_o"
   ]
  },
  {
   "cell_type": "code",
   "execution_count": 7,
   "id": "outdoor-condition",
   "metadata": {
    "execution": {
     "iopub.execute_input": "2021-09-23T12:30:31.122115Z",
     "iopub.status.busy": "2021-09-23T12:30:31.122115Z",
     "iopub.status.idle": "2021-09-23T12:30:31.137129Z",
     "shell.execute_reply": "2021-09-23T12:30:31.137129Z",
     "shell.execute_reply.started": "2021-09-23T12:30:31.122115Z"
    },
    "tags": []
   },
   "outputs": [
    {
     "data": {
      "text/plain": [
       "array([[0.3732, 0.3739, 1.    , 0.5149, 0.1519],\n",
       "       [0.0812, 1.    , 0.6708, 0.0519, 0.6888],\n",
       "       [0.6676, 0.1352, 0.0962, 0.1855, 1.    ],\n",
       "       [1.    , 0.1501, 0.0326, 0.5469, 0.3875],\n",
       "       [0.8347, 0.9869, 0.871 , 1.    , 0.8348]])"
      ]
     },
     "execution_count": 7,
     "metadata": {},
     "output_type": "execute_result"
    }
   ],
   "source": [
    "utility_matrix"
   ]
  },
  {
   "cell_type": "code",
   "execution_count": 8,
   "id": "subject-avenue",
   "metadata": {
    "execution": {
     "iopub.execute_input": "2021-09-23T12:30:31.138130Z",
     "iopub.status.busy": "2021-09-23T12:30:31.138130Z",
     "iopub.status.idle": "2021-09-23T12:30:31.153144Z",
     "shell.execute_reply": "2021-09-23T12:30:31.153144Z",
     "shell.execute_reply.started": "2021-09-23T12:30:31.138130Z"
    },
    "tags": []
   },
   "outputs": [
    {
     "data": {
      "text/html": [
       "<div>\n",
       "<style scoped>\n",
       "    .dataframe tbody tr th:only-of-type {\n",
       "        vertical-align: middle;\n",
       "    }\n",
       "\n",
       "    .dataframe tbody tr th {\n",
       "        vertical-align: top;\n",
       "    }\n",
       "\n",
       "    .dataframe thead th {\n",
       "        text-align: right;\n",
       "    }\n",
       "</style>\n",
       "<table border=\"1\" class=\"dataframe\">\n",
       "  <thead>\n",
       "    <tr style=\"text-align: right;\">\n",
       "      <th></th>\n",
       "      <th>user_id</th>\n",
       "      <th>rank_1</th>\n",
       "      <th>rank_2</th>\n",
       "      <th>rank_3</th>\n",
       "    </tr>\n",
       "  </thead>\n",
       "  <tbody>\n",
       "    <tr>\n",
       "      <th>0</th>\n",
       "      <td>80</td>\n",
       "      <td>1.0</td>\n",
       "      <td>2.0</td>\n",
       "      <td>4.0</td>\n",
       "    </tr>\n",
       "    <tr>\n",
       "      <th>1</th>\n",
       "      <td>84</td>\n",
       "      <td>3.0</td>\n",
       "      <td>4.0</td>\n",
       "      <td>1.0</td>\n",
       "    </tr>\n",
       "    <tr>\n",
       "      <th>2</th>\n",
       "      <td>33</td>\n",
       "      <td>3.0</td>\n",
       "      <td>4.0</td>\n",
       "      <td>1.0</td>\n",
       "    </tr>\n",
       "    <tr>\n",
       "      <th>3</th>\n",
       "      <td>81</td>\n",
       "      <td>0.0</td>\n",
       "      <td>3.0</td>\n",
       "      <td>1.0</td>\n",
       "    </tr>\n",
       "    <tr>\n",
       "      <th>4</th>\n",
       "      <td>93</td>\n",
       "      <td>3.0</td>\n",
       "      <td>1.0</td>\n",
       "      <td>0.0</td>\n",
       "    </tr>\n",
       "    <tr>\n",
       "      <th>5</th>\n",
       "      <td>17</td>\n",
       "      <td>0.0</td>\n",
       "      <td>3.0</td>\n",
       "      <td>1.0</td>\n",
       "    </tr>\n",
       "    <tr>\n",
       "      <th>6</th>\n",
       "      <td>36</td>\n",
       "      <td>3.0</td>\n",
       "      <td>1.0</td>\n",
       "      <td>0.0</td>\n",
       "    </tr>\n",
       "    <tr>\n",
       "      <th>7</th>\n",
       "      <td>82</td>\n",
       "      <td>1.0</td>\n",
       "      <td>2.0</td>\n",
       "      <td>4.0</td>\n",
       "    </tr>\n",
       "    <tr>\n",
       "      <th>8</th>\n",
       "      <td>69</td>\n",
       "      <td>4.0</td>\n",
       "      <td>2.0</td>\n",
       "      <td>0.0</td>\n",
       "    </tr>\n",
       "    <tr>\n",
       "      <th>9</th>\n",
       "      <td>65</td>\n",
       "      <td>3.0</td>\n",
       "      <td>1.0</td>\n",
       "      <td>0.0</td>\n",
       "    </tr>\n",
       "  </tbody>\n",
       "</table>\n",
       "</div>"
      ],
      "text/plain": [
       "   user_id  rank_1  rank_2  rank_3\n",
       "0       80     1.0     2.0     4.0\n",
       "1       84     3.0     4.0     1.0\n",
       "2       33     3.0     4.0     1.0\n",
       "3       81     0.0     3.0     1.0\n",
       "4       93     3.0     1.0     0.0\n",
       "5       17     0.0     3.0     1.0\n",
       "6       36     3.0     1.0     0.0\n",
       "7       82     1.0     2.0     4.0\n",
       "8       69     4.0     2.0     0.0\n",
       "9       65     3.0     1.0     0.0"
      ]
     },
     "execution_count": 8,
     "metadata": {},
     "output_type": "execute_result"
    }
   ],
   "source": [
    "df_rec = get_rec(utility_matrix, utility_matrix_o, user_list, top_n, uc_assignment)\n",
    "df_rec"
   ]
  },
  {
   "cell_type": "markdown",
   "id": "consolidated-batch",
   "metadata": {},
   "source": [
    "### Unit Test"
   ]
  },
  {
   "cell_type": "code",
   "execution_count": 9,
   "id": "experienced-insert",
   "metadata": {
    "execution": {
     "iopub.execute_input": "2021-09-23T12:30:31.154145Z",
     "iopub.status.busy": "2021-09-23T12:30:31.154145Z",
     "iopub.status.idle": "2021-09-23T12:30:31.201187Z",
     "shell.execute_reply": "2021-09-23T12:30:31.201187Z",
     "shell.execute_reply.started": "2021-09-23T12:30:31.154145Z"
    },
    "tags": []
   },
   "outputs": [
    {
     "name": "stderr",
     "output_type": "stream",
     "text": [
      "test_1 (__main__.TestGetRec) ... ok\n",
      "test_2 (__main__.TestGetRec) ... FAIL\n",
      "\n",
      "======================================================================\n",
      "FAIL: test_2 (__main__.TestGetRec)\n",
      "----------------------------------------------------------------------\n",
      "Traceback (most recent call last):\n",
      "  File \"<ipython-input-9-8cdbf50c4ca3>\", line 67, in test_2\n",
      "    self.assertEqual(df_rec.to_numpy().tolist(), test_case.tolist())\n",
      "AssertionError: Lists differ: [[83.0, 2.0, 1.0, 4.0], [30.0, 4.0, 1.0, 2.0[180 chars]4.0]] != [[80.0, 1.0, 2.0, 4.0], [84.0, 3.0, 4.0, 1.0[181 chars]0.0]]\n",
      "\n",
      "First differing element 0:\n",
      "[83.0, 2.0, 1.0, 4.0]\n",
      "[80.0, 1.0, 2.0, 4.0]\n",
      "\n",
      "Diff is 802 characters long. Set self.maxDiff to None to see it.\n",
      "\n",
      "----------------------------------------------------------------------\n",
      "Ran 2 tests in 0.019s\n",
      "\n",
      "FAILED (failures=1)\n"
     ]
    },
    {
     "data": {
      "text/plain": [
       "<unittest.main.TestProgram at 0x17429cef4c0>"
      ]
     },
     "execution_count": 9,
     "metadata": {},
     "output_type": "execute_result"
    }
   ],
   "source": [
    "import unittest\n",
    "\n",
    "class TestGetRec(unittest.TestCase):\n",
    "    \n",
    "    def test_1(self):\n",
    "        \n",
    "        # Set-up\n",
    "        n_user = 100\n",
    "        sample_size = 10\n",
    "        n_user_cluster = 5\n",
    "        n_item_cluster = 5\n",
    "        random_seed = 1\n",
    "        top_n = 3\n",
    "\n",
    "        user_id_list = list(range(n_user))\n",
    "        user_list = random_user_list(n_user, sample_size, random_seed)\n",
    "        uc_assignment = random_user_cluster(n_user, n_user_cluster, random_seed)\n",
    "        utility_matrix_o, utility_matrix = random_utility_matrix(n_user_cluster, n_item_cluster, random_seed)\n",
    "\n",
    "        df_rec = get_rec(utility_matrix, utility_matrix_o, user_list, top_n, uc_assignment)\n",
    "        \n",
    "        test_case = np.array([\n",
    "            [80.,  1.,  2.,  4.],\n",
    "            [84.,  3.,  4.,  1.],\n",
    "            [33.,  3.,  4.,  1.],\n",
    "            [81.,  0.,  3.,  1.],\n",
    "            [93.,  3.,  1.,  0.],\n",
    "            [17.,  0.,  3.,  1.],\n",
    "            [36.,  3.,  1.,  0.],\n",
    "            [82.,  1.,  2.,  4.],\n",
    "            [69.,  4.,  2.,  0.],\n",
    "            [65.,  3.,  1.,  0.]\n",
    "        ])\n",
    "        \n",
    "        self.assertEqual(df_rec.to_numpy().tolist(), test_case.tolist())\n",
    "        \n",
    "    def test_2(self):\n",
    "        \n",
    "        # Set-up\n",
    "        n_user = 100\n",
    "        sample_size = 10\n",
    "        n_user_cluster = 5\n",
    "        n_item_cluster = 5\n",
    "        random_seed = 2\n",
    "        top_n = 3\n",
    "\n",
    "        user_id_list = list(range(n_user))\n",
    "        user_list = random_user_list(n_user, sample_size, random_seed)\n",
    "        uc_assignment = random_user_cluster(n_user, n_user_cluster, random_seed)\n",
    "        utility_matrix_o, utility_matrix = random_utility_matrix(n_user_cluster, n_item_cluster, random_seed)\n",
    "\n",
    "        df_rec = get_rec(utility_matrix, utility_matrix_o, user_list, top_n, uc_assignment)\n",
    "        \n",
    "        test_case = np.array([\n",
    "            [80.,  1.,  2.,  4.],\n",
    "            [84.,  3.,  4.,  1.],\n",
    "            [33.,  3.,  4.,  1.],\n",
    "            [81.,  0.,  3.,  1.],\n",
    "            [93.,  3.,  1.,  0.],\n",
    "            [17.,  0.,  3.,  1.],\n",
    "            [36.,  3.,  1.,  0.],\n",
    "            [82.,  1.,  2.,  4.],\n",
    "            [69.,  4.,  2.,  0.],\n",
    "            [65.,  3.,  1.,  0.]\n",
    "        ])\n",
    "        \n",
    "        self.assertEqual(df_rec.to_numpy().tolist(), test_case.tolist())\n",
    "        \n",
    "unittest.main(argv=[''], verbosity=2, exit=False)"
   ]
  },
  {
   "cell_type": "code",
   "execution_count": null,
   "id": "curious-wrist",
   "metadata": {},
   "outputs": [],
   "source": []
  }
 ],
 "metadata": {
  "kernelspec": {
   "display_name": "Python [conda env:fbprophet]",
   "language": "python",
   "name": "conda-env-fbprophet-py"
  },
  "language_info": {
   "codemirror_mode": {
    "name": "ipython",
    "version": 3
   },
   "file_extension": ".py",
   "mimetype": "text/x-python",
   "name": "python",
   "nbconvert_exporter": "python",
   "pygments_lexer": "ipython3",
   "version": "3.8.8"
  }
 },
 "nbformat": 4,
 "nbformat_minor": 5
}
