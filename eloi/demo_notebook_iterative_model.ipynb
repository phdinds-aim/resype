{
 "cells": [
  {
   "cell_type": "code",
   "execution_count": 1,
   "metadata": {},
   "outputs": [],
   "source": [
    "import pandas as pd\n",
    "import numpy as np\n",
    "import os\n",
    "%load_ext autoreload\n",
    "%autoreload 2 "
   ]
  },
  {
   "cell_type": "code",
   "execution_count": 2,
   "metadata": {},
   "outputs": [],
   "source": [
    "from utils import preprocess_utility_matrix as um\n",
    "from method2 import build_iterative_model as im"
   ]
  },
  {
   "cell_type": "code",
   "execution_count": 3,
   "metadata": {},
   "outputs": [
    {
     "data": {
      "text/html": [
       "<div>\n",
       "<style scoped>\n",
       "    .dataframe tbody tr th:only-of-type {\n",
       "        vertical-align: middle;\n",
       "    }\n",
       "\n",
       "    .dataframe tbody tr th {\n",
       "        vertical-align: top;\n",
       "    }\n",
       "\n",
       "    .dataframe thead th {\n",
       "        text-align: right;\n",
       "    }\n",
       "</style>\n",
       "<table border=\"1\" class=\"dataframe\">\n",
       "  <thead>\n",
       "    <tr style=\"text-align: right;\">\n",
       "      <th></th>\n",
       "      <th>M1</th>\n",
       "      <th>M2</th>\n",
       "      <th>M3</th>\n",
       "      <th>M4</th>\n",
       "    </tr>\n",
       "  </thead>\n",
       "  <tbody>\n",
       "    <tr>\n",
       "      <th>U1</th>\n",
       "      <td>2.0</td>\n",
       "      <td>NaN</td>\n",
       "      <td>5.0</td>\n",
       "      <td>5.0</td>\n",
       "    </tr>\n",
       "    <tr>\n",
       "      <th>U2</th>\n",
       "      <td>NaN</td>\n",
       "      <td>1.0</td>\n",
       "      <td>4.0</td>\n",
       "      <td>4.0</td>\n",
       "    </tr>\n",
       "    <tr>\n",
       "      <th>U3</th>\n",
       "      <td>3.0</td>\n",
       "      <td>NaN</td>\n",
       "      <td>1.0</td>\n",
       "      <td>NaN</td>\n",
       "    </tr>\n",
       "    <tr>\n",
       "      <th>U4</th>\n",
       "      <td>NaN</td>\n",
       "      <td>5.0</td>\n",
       "      <td>1.0</td>\n",
       "      <td>NaN</td>\n",
       "    </tr>\n",
       "    <tr>\n",
       "      <th>U5</th>\n",
       "      <td>1.0</td>\n",
       "      <td>1.0</td>\n",
       "      <td>4.0</td>\n",
       "      <td>NaN</td>\n",
       "    </tr>\n",
       "    <tr>\n",
       "      <th>U6</th>\n",
       "      <td>5.0</td>\n",
       "      <td>NaN</td>\n",
       "      <td>NaN</td>\n",
       "      <td>1.0</td>\n",
       "    </tr>\n",
       "  </tbody>\n",
       "</table>\n",
       "</div>"
      ],
      "text/plain": [
       "     M1   M2   M3   M4\n",
       "U1  2.0  NaN  5.0  5.0\n",
       "U2  NaN  1.0  4.0  4.0\n",
       "U3  3.0  NaN  1.0  NaN\n",
       "U4  NaN  5.0  1.0  NaN\n",
       "U5  1.0  1.0  4.0  NaN\n",
       "U6  5.0  NaN  NaN  1.0"
      ]
     },
     "execution_count": 3,
     "metadata": {},
     "output_type": "execute_result"
    }
   ],
   "source": [
    "movies_df = pd.DataFrame({'M1': [2, None, 3, None, 1, 5],\n",
    "                          'M2': [None, 1, None, 5, 1, None],\n",
    "                          'M3': [5, 4, 1, 1, 4, None],\n",
    "                          'M4': [5, 4, None, None, None, 1]},\n",
    "                         index=[f'U{i+1}' for i in range(6)])\n",
    "movies_df"
   ]
  },
  {
   "cell_type": "markdown",
   "metadata": {},
   "source": [
    "# Preprocess Utility Matrix"
   ]
  },
  {
   "cell_type": "code",
   "execution_count": 4,
   "metadata": {},
   "outputs": [
    {
     "data": {
      "text/html": [
       "<div>\n",
       "<style scoped>\n",
       "    .dataframe tbody tr th:only-of-type {\n",
       "        vertical-align: middle;\n",
       "    }\n",
       "\n",
       "    .dataframe tbody tr th {\n",
       "        vertical-align: top;\n",
       "    }\n",
       "\n",
       "    .dataframe thead th {\n",
       "        text-align: right;\n",
       "    }\n",
       "</style>\n",
       "<table border=\"1\" class=\"dataframe\">\n",
       "  <thead>\n",
       "    <tr style=\"text-align: right;\">\n",
       "      <th></th>\n",
       "      <th>M1</th>\n",
       "      <th>M2</th>\n",
       "      <th>M3</th>\n",
       "      <th>M4</th>\n",
       "    </tr>\n",
       "  </thead>\n",
       "  <tbody>\n",
       "    <tr>\n",
       "      <th>U1</th>\n",
       "      <td>2.0</td>\n",
       "      <td>NaN</td>\n",
       "      <td>5.0</td>\n",
       "      <td>5.0</td>\n",
       "    </tr>\n",
       "    <tr>\n",
       "      <th>U2</th>\n",
       "      <td>NaN</td>\n",
       "      <td>1.0</td>\n",
       "      <td>4.0</td>\n",
       "      <td>4.0</td>\n",
       "    </tr>\n",
       "    <tr>\n",
       "      <th>U3</th>\n",
       "      <td>3.0</td>\n",
       "      <td>NaN</td>\n",
       "      <td>1.0</td>\n",
       "      <td>NaN</td>\n",
       "    </tr>\n",
       "    <tr>\n",
       "      <th>U4</th>\n",
       "      <td>NaN</td>\n",
       "      <td>5.0</td>\n",
       "      <td>1.0</td>\n",
       "      <td>NaN</td>\n",
       "    </tr>\n",
       "    <tr>\n",
       "      <th>U5</th>\n",
       "      <td>1.0</td>\n",
       "      <td>1.0</td>\n",
       "      <td>4.0</td>\n",
       "      <td>NaN</td>\n",
       "    </tr>\n",
       "    <tr>\n",
       "      <th>U6</th>\n",
       "      <td>5.0</td>\n",
       "      <td>NaN</td>\n",
       "      <td>NaN</td>\n",
       "      <td>1.0</td>\n",
       "    </tr>\n",
       "  </tbody>\n",
       "</table>\n",
       "</div>"
      ],
      "text/plain": [
       "     M1   M2   M3   M4\n",
       "U1  2.0  NaN  5.0  5.0\n",
       "U2  NaN  1.0  4.0  4.0\n",
       "U3  3.0  NaN  1.0  NaN\n",
       "U4  NaN  5.0  1.0  NaN\n",
       "U5  1.0  1.0  4.0  NaN\n",
       "U6  5.0  NaN  NaN  1.0"
      ]
     },
     "execution_count": 4,
     "metadata": {},
     "output_type": "execute_result"
    }
   ],
   "source": [
    "U_df = movies_df.copy()\n",
    "U_df"
   ]
  },
  {
   "cell_type": "code",
   "execution_count": 5,
   "metadata": {},
   "outputs": [
    {
     "data": {
      "text/html": [
       "<div>\n",
       "<style scoped>\n",
       "    .dataframe tbody tr th:only-of-type {\n",
       "        vertical-align: middle;\n",
       "    }\n",
       "\n",
       "    .dataframe tbody tr th {\n",
       "        vertical-align: top;\n",
       "    }\n",
       "\n",
       "    .dataframe thead th {\n",
       "        text-align: right;\n",
       "    }\n",
       "</style>\n",
       "<table border=\"1\" class=\"dataframe\">\n",
       "  <thead>\n",
       "    <tr style=\"text-align: right;\">\n",
       "      <th></th>\n",
       "      <th>M1</th>\n",
       "      <th>M2</th>\n",
       "      <th>M3</th>\n",
       "      <th>M4</th>\n",
       "    </tr>\n",
       "  </thead>\n",
       "  <tbody>\n",
       "    <tr>\n",
       "      <th>U1</th>\n",
       "      <td>-2.0</td>\n",
       "      <td>0.0</td>\n",
       "      <td>1.0</td>\n",
       "      <td>1.0</td>\n",
       "    </tr>\n",
       "    <tr>\n",
       "      <th>U2</th>\n",
       "      <td>0.0</td>\n",
       "      <td>-2.0</td>\n",
       "      <td>1.0</td>\n",
       "      <td>1.0</td>\n",
       "    </tr>\n",
       "    <tr>\n",
       "      <th>U3</th>\n",
       "      <td>1.0</td>\n",
       "      <td>0.0</td>\n",
       "      <td>-1.0</td>\n",
       "      <td>0.0</td>\n",
       "    </tr>\n",
       "    <tr>\n",
       "      <th>U4</th>\n",
       "      <td>0.0</td>\n",
       "      <td>2.0</td>\n",
       "      <td>-2.0</td>\n",
       "      <td>0.0</td>\n",
       "    </tr>\n",
       "    <tr>\n",
       "      <th>U5</th>\n",
       "      <td>-1.0</td>\n",
       "      <td>-1.0</td>\n",
       "      <td>2.0</td>\n",
       "      <td>0.0</td>\n",
       "    </tr>\n",
       "    <tr>\n",
       "      <th>U6</th>\n",
       "      <td>2.0</td>\n",
       "      <td>0.0</td>\n",
       "      <td>0.0</td>\n",
       "      <td>-2.0</td>\n",
       "    </tr>\n",
       "  </tbody>\n",
       "</table>\n",
       "</div>"
      ],
      "text/plain": [
       "     M1   M2   M3   M4\n",
       "U1 -2.0  0.0  1.0  1.0\n",
       "U2  0.0 -2.0  1.0  1.0\n",
       "U3  1.0  0.0 -1.0  0.0\n",
       "U4  0.0  2.0 -2.0  0.0\n",
       "U5 -1.0 -1.0  2.0  0.0\n",
       "U6  2.0  0.0  0.0 -2.0"
      ]
     },
     "execution_count": 5,
     "metadata": {},
     "output_type": "execute_result"
    }
   ],
   "source": [
    "U_df_mc = um.mean_center_utilmat(U_df, axis=1, fillna=True, fill_val=0)\n",
    "U_df_mc"
   ]
  },
  {
   "cell_type": "code",
   "execution_count": 6,
   "metadata": {},
   "outputs": [],
   "source": [
    "known_index, missing_index = um.known_missing_split_U(\n",
    "    U_df_mc, split_axis=1, missing_val_filled=True, )"
   ]
  },
  {
   "cell_type": "code",
   "execution_count": 7,
   "metadata": {},
   "outputs": [
    {
     "data": {
      "text/plain": [
       "({'M1': Index(['U1', 'U3', 'U5', 'U6'], dtype='object'),\n",
       "  'M2': Index(['U2', 'U4', 'U5'], dtype='object'),\n",
       "  'M3': Index(['U1', 'U2', 'U3', 'U4', 'U5'], dtype='object'),\n",
       "  'M4': Index(['U1', 'U2', 'U6'], dtype='object')},\n",
       " {'M1': Index(['U2', 'U4'], dtype='object'),\n",
       "  'M2': Index(['U1', 'U3', 'U6'], dtype='object'),\n",
       "  'M3': Index(['U6'], dtype='object'),\n",
       "  'M4': Index(['U3', 'U4', 'U5'], dtype='object')})"
      ]
     },
     "execution_count": 7,
     "metadata": {},
     "output_type": "execute_result"
    }
   ],
   "source": [
    "known_index, missing_index"
   ]
  },
  {
   "cell_type": "markdown",
   "metadata": {},
   "source": [
    "## Build Models"
   ]
  },
  {
   "cell_type": "code",
   "execution_count": 8,
   "metadata": {},
   "outputs": [],
   "source": [
    "from sklearn.neural_network import MLPClassifier, MLPRegressor\n",
    "mlp1 = MLPRegressor(hidden_layer_sizes=(100, 100))"
   ]
  },
  {
   "cell_type": "code",
   "execution_count": 9,
   "metadata": {},
   "outputs": [
    {
     "data": {
      "text/plain": [
       "{'M1': MLPRegressor(hidden_layer_sizes=(100, 100)),\n",
       " 'M2': MLPRegressor(hidden_layer_sizes=(100, 100)),\n",
       " 'M3': MLPRegressor(hidden_layer_sizes=(100, 100)),\n",
       " 'M4': MLPRegressor(hidden_layer_sizes=(100, 100))}"
      ]
     },
     "execution_count": 9,
     "metadata": {},
     "output_type": "execute_result"
    }
   ],
   "source": [
    "U = U_df_mc.copy()\n",
    "model_object = mlp1\n",
    "\n",
    "models_item = im.initialize_models_itemwise(model_object, U, suffix='')\n",
    "models_item"
   ]
  },
  {
   "cell_type": "code",
   "execution_count": 10,
   "metadata": {},
   "outputs": [],
   "source": [
    "U_imputed, metrics, models = im.train_model_itemwise(U, mlp1, return_models=True)"
   ]
  },
  {
   "cell_type": "code",
   "execution_count": 11,
   "metadata": {},
   "outputs": [
    {
     "data": {
      "text/plain": [
       "[2.6606449824444933, 0.33328486734034646, 0.04097416915601879]"
      ]
     },
     "execution_count": 11,
     "metadata": {},
     "output_type": "execute_result"
    }
   ],
   "source": [
    "metrics"
   ]
  },
  {
   "cell_type": "code",
   "execution_count": 12,
   "metadata": {
    "scrolled": true
   },
   "outputs": [
    {
     "data": {
      "text/html": [
       "<div>\n",
       "<style scoped>\n",
       "    .dataframe tbody tr th:only-of-type {\n",
       "        vertical-align: middle;\n",
       "    }\n",
       "\n",
       "    .dataframe tbody tr th {\n",
       "        vertical-align: top;\n",
       "    }\n",
       "\n",
       "    .dataframe thead th {\n",
       "        text-align: right;\n",
       "    }\n",
       "</style>\n",
       "<table border=\"1\" class=\"dataframe\">\n",
       "  <thead>\n",
       "    <tr style=\"text-align: right;\">\n",
       "      <th></th>\n",
       "      <th>M1</th>\n",
       "      <th>M2</th>\n",
       "      <th>M3</th>\n",
       "      <th>M4</th>\n",
       "    </tr>\n",
       "  </thead>\n",
       "  <tbody>\n",
       "    <tr>\n",
       "      <th>U1</th>\n",
       "      <td>2.0</td>\n",
       "      <td>NaN</td>\n",
       "      <td>5.0</td>\n",
       "      <td>5.0</td>\n",
       "    </tr>\n",
       "    <tr>\n",
       "      <th>U2</th>\n",
       "      <td>NaN</td>\n",
       "      <td>1.0</td>\n",
       "      <td>4.0</td>\n",
       "      <td>4.0</td>\n",
       "    </tr>\n",
       "    <tr>\n",
       "      <th>U3</th>\n",
       "      <td>3.0</td>\n",
       "      <td>NaN</td>\n",
       "      <td>1.0</td>\n",
       "      <td>NaN</td>\n",
       "    </tr>\n",
       "    <tr>\n",
       "      <th>U4</th>\n",
       "      <td>NaN</td>\n",
       "      <td>5.0</td>\n",
       "      <td>1.0</td>\n",
       "      <td>NaN</td>\n",
       "    </tr>\n",
       "    <tr>\n",
       "      <th>U5</th>\n",
       "      <td>1.0</td>\n",
       "      <td>1.0</td>\n",
       "      <td>4.0</td>\n",
       "      <td>NaN</td>\n",
       "    </tr>\n",
       "    <tr>\n",
       "      <th>U6</th>\n",
       "      <td>5.0</td>\n",
       "      <td>NaN</td>\n",
       "      <td>NaN</td>\n",
       "      <td>1.0</td>\n",
       "    </tr>\n",
       "  </tbody>\n",
       "</table>\n",
       "</div>"
      ],
      "text/plain": [
       "     M1   M2   M3   M4\n",
       "U1  2.0  NaN  5.0  5.0\n",
       "U2  NaN  1.0  4.0  4.0\n",
       "U3  3.0  NaN  1.0  NaN\n",
       "U4  NaN  5.0  1.0  NaN\n",
       "U5  1.0  1.0  4.0  NaN\n",
       "U6  5.0  NaN  NaN  1.0"
      ]
     },
     "execution_count": 12,
     "metadata": {},
     "output_type": "execute_result"
    }
   ],
   "source": [
    "movies_df"
   ]
  },
  {
   "cell_type": "code",
   "execution_count": 13,
   "metadata": {},
   "outputs": [
    {
     "data": {
      "text/html": [
       "<div>\n",
       "<style scoped>\n",
       "    .dataframe tbody tr th:only-of-type {\n",
       "        vertical-align: middle;\n",
       "    }\n",
       "\n",
       "    .dataframe tbody tr th {\n",
       "        vertical-align: top;\n",
       "    }\n",
       "\n",
       "    .dataframe thead th {\n",
       "        text-align: right;\n",
       "    }\n",
       "</style>\n",
       "<table border=\"1\" class=\"dataframe\">\n",
       "  <thead>\n",
       "    <tr style=\"text-align: right;\">\n",
       "      <th></th>\n",
       "      <th>M1</th>\n",
       "      <th>M2</th>\n",
       "      <th>M3</th>\n",
       "      <th>M4</th>\n",
       "    </tr>\n",
       "  </thead>\n",
       "  <tbody>\n",
       "    <tr>\n",
       "      <th>U1</th>\n",
       "      <td>2.000000</td>\n",
       "      <td>1.732974</td>\n",
       "      <td>5.00000</td>\n",
       "      <td>5.000000</td>\n",
       "    </tr>\n",
       "    <tr>\n",
       "      <th>U2</th>\n",
       "      <td>1.325105</td>\n",
       "      <td>1.000000</td>\n",
       "      <td>4.00000</td>\n",
       "      <td>4.000000</td>\n",
       "    </tr>\n",
       "    <tr>\n",
       "      <th>U3</th>\n",
       "      <td>3.000000</td>\n",
       "      <td>2.742979</td>\n",
       "      <td>1.00000</td>\n",
       "      <td>0.535444</td>\n",
       "    </tr>\n",
       "    <tr>\n",
       "      <th>U4</th>\n",
       "      <td>5.634996</td>\n",
       "      <td>5.000000</td>\n",
       "      <td>1.00000</td>\n",
       "      <td>0.011292</td>\n",
       "    </tr>\n",
       "    <tr>\n",
       "      <th>U5</th>\n",
       "      <td>1.000000</td>\n",
       "      <td>1.000000</td>\n",
       "      <td>4.00000</td>\n",
       "      <td>2.490220</td>\n",
       "    </tr>\n",
       "    <tr>\n",
       "      <th>U6</th>\n",
       "      <td>5.000000</td>\n",
       "      <td>4.504799</td>\n",
       "      <td>1.46964</td>\n",
       "      <td>1.000000</td>\n",
       "    </tr>\n",
       "  </tbody>\n",
       "</table>\n",
       "</div>"
      ],
      "text/plain": [
       "          M1        M2       M3        M4\n",
       "U1  2.000000  1.732974  5.00000  5.000000\n",
       "U2  1.325105  1.000000  4.00000  4.000000\n",
       "U3  3.000000  2.742979  1.00000  0.535444\n",
       "U4  5.634996  5.000000  1.00000  0.011292\n",
       "U5  1.000000  1.000000  4.00000  2.490220\n",
       "U6  5.000000  4.504799  1.46964  1.000000"
      ]
     },
     "execution_count": 13,
     "metadata": {},
     "output_type": "execute_result"
    }
   ],
   "source": [
    "U_imputed.add(movies_df.mean(axis=1), axis=0)"
   ]
  },
  {
   "cell_type": "code",
   "execution_count": 14,
   "metadata": {
    "scrolled": true
   },
   "outputs": [
    {
     "data": {
      "text/html": [
       "<div>\n",
       "<style scoped>\n",
       "    .dataframe tbody tr th:only-of-type {\n",
       "        vertical-align: middle;\n",
       "    }\n",
       "\n",
       "    .dataframe tbody tr th {\n",
       "        vertical-align: top;\n",
       "    }\n",
       "\n",
       "    .dataframe thead th {\n",
       "        text-align: right;\n",
       "    }\n",
       "</style>\n",
       "<table border=\"1\" class=\"dataframe\">\n",
       "  <thead>\n",
       "    <tr style=\"text-align: right;\">\n",
       "      <th></th>\n",
       "      <th>M1</th>\n",
       "      <th>M2</th>\n",
       "      <th>M3</th>\n",
       "      <th>M4</th>\n",
       "    </tr>\n",
       "  </thead>\n",
       "  <tbody>\n",
       "    <tr>\n",
       "      <th>U1</th>\n",
       "      <td>2.0</td>\n",
       "      <td>2.0</td>\n",
       "      <td>5.0</td>\n",
       "      <td>5.0</td>\n",
       "    </tr>\n",
       "    <tr>\n",
       "      <th>U2</th>\n",
       "      <td>1.0</td>\n",
       "      <td>1.0</td>\n",
       "      <td>4.0</td>\n",
       "      <td>4.0</td>\n",
       "    </tr>\n",
       "    <tr>\n",
       "      <th>U3</th>\n",
       "      <td>3.0</td>\n",
       "      <td>3.0</td>\n",
       "      <td>1.0</td>\n",
       "      <td>1.0</td>\n",
       "    </tr>\n",
       "    <tr>\n",
       "      <th>U4</th>\n",
       "      <td>6.0</td>\n",
       "      <td>5.0</td>\n",
       "      <td>1.0</td>\n",
       "      <td>0.0</td>\n",
       "    </tr>\n",
       "    <tr>\n",
       "      <th>U5</th>\n",
       "      <td>1.0</td>\n",
       "      <td>1.0</td>\n",
       "      <td>4.0</td>\n",
       "      <td>2.0</td>\n",
       "    </tr>\n",
       "    <tr>\n",
       "      <th>U6</th>\n",
       "      <td>5.0</td>\n",
       "      <td>5.0</td>\n",
       "      <td>1.0</td>\n",
       "      <td>1.0</td>\n",
       "    </tr>\n",
       "  </tbody>\n",
       "</table>\n",
       "</div>"
      ],
      "text/plain": [
       "     M1   M2   M3   M4\n",
       "U1  2.0  2.0  5.0  5.0\n",
       "U2  1.0  1.0  4.0  4.0\n",
       "U3  3.0  3.0  1.0  1.0\n",
       "U4  6.0  5.0  1.0  0.0\n",
       "U5  1.0  1.0  4.0  2.0\n",
       "U6  5.0  5.0  1.0  1.0"
      ]
     },
     "execution_count": 14,
     "metadata": {},
     "output_type": "execute_result"
    }
   ],
   "source": [
    "U_imputed.add(movies_df.mean(axis=1), axis=0).round()"
   ]
  },
  {
   "cell_type": "code",
   "execution_count": 15,
   "metadata": {},
   "outputs": [
    {
     "data": {
      "text/plain": [
       "{'M1': MLPRegressor(hidden_layer_sizes=(100, 100)),\n",
       " 'M2': MLPRegressor(hidden_layer_sizes=(100, 100)),\n",
       " 'M3': MLPRegressor(hidden_layer_sizes=(100, 100)),\n",
       " 'M4': MLPRegressor(hidden_layer_sizes=(100, 100))}"
      ]
     },
     "execution_count": 15,
     "metadata": {},
     "output_type": "execute_result"
    }
   ],
   "source": [
    "models"
   ]
  },
  {
   "cell_type": "markdown",
   "metadata": {},
   "source": [
    "## Cluster based item-wise iterative model"
   ]
  },
  {
   "cell_type": "code",
   "execution_count": 16,
   "metadata": {},
   "outputs": [],
   "source": [
    "np.random.seed(12345678)"
   ]
  },
  {
   "cell_type": "code",
   "execution_count": 17,
   "metadata": {},
   "outputs": [
    {
     "data": {
      "text/html": [
       "<div>\n",
       "<style scoped>\n",
       "    .dataframe tbody tr th:only-of-type {\n",
       "        vertical-align: middle;\n",
       "    }\n",
       "\n",
       "    .dataframe tbody tr th {\n",
       "        vertical-align: top;\n",
       "    }\n",
       "\n",
       "    .dataframe thead th {\n",
       "        text-align: right;\n",
       "    }\n",
       "</style>\n",
       "<table border=\"1\" class=\"dataframe\">\n",
       "  <thead>\n",
       "    <tr style=\"text-align: right;\">\n",
       "      <th></th>\n",
       "      <th>1</th>\n",
       "      <th>2</th>\n",
       "      <th>3</th>\n",
       "      <th>4</th>\n",
       "      <th>5</th>\n",
       "      <th>6</th>\n",
       "      <th>7</th>\n",
       "      <th>8</th>\n",
       "      <th>9</th>\n",
       "      <th>10</th>\n",
       "    </tr>\n",
       "  </thead>\n",
       "  <tbody>\n",
       "    <tr>\n",
       "      <th>1</th>\n",
       "      <td>1.98</td>\n",
       "      <td>3.39</td>\n",
       "      <td>2.44</td>\n",
       "      <td>2.52</td>\n",
       "      <td>1.10</td>\n",
       "      <td>1.95</td>\n",
       "      <td>2.55</td>\n",
       "      <td>3.72</td>\n",
       "      <td>4.36</td>\n",
       "      <td>4.04</td>\n",
       "    </tr>\n",
       "    <tr>\n",
       "      <th>2</th>\n",
       "      <td>1.89</td>\n",
       "      <td>1.25</td>\n",
       "      <td>4.12</td>\n",
       "      <td>3.89</td>\n",
       "      <td>1.78</td>\n",
       "      <td>3.05</td>\n",
       "      <td>1.28</td>\n",
       "      <td>2.58</td>\n",
       "      <td>4.93</td>\n",
       "      <td>2.22</td>\n",
       "    </tr>\n",
       "    <tr>\n",
       "      <th>3</th>\n",
       "      <td>4.13</td>\n",
       "      <td>3.94</td>\n",
       "      <td>4.35</td>\n",
       "      <td>1.49</td>\n",
       "      <td>4.47</td>\n",
       "      <td>3.24</td>\n",
       "      <td>4.35</td>\n",
       "      <td>3.96</td>\n",
       "      <td>4.14</td>\n",
       "      <td>3.73</td>\n",
       "    </tr>\n",
       "    <tr>\n",
       "      <th>4</th>\n",
       "      <td>4.66</td>\n",
       "      <td>1.89</td>\n",
       "      <td>3.29</td>\n",
       "      <td>3.52</td>\n",
       "      <td>1.05</td>\n",
       "      <td>2.05</td>\n",
       "      <td>3.92</td>\n",
       "      <td>4.16</td>\n",
       "      <td>2.30</td>\n",
       "      <td>2.11</td>\n",
       "    </tr>\n",
       "    <tr>\n",
       "      <th>5</th>\n",
       "      <td>1.49</td>\n",
       "      <td>2.64</td>\n",
       "      <td>4.81</td>\n",
       "      <td>1.96</td>\n",
       "      <td>1.04</td>\n",
       "      <td>1.08</td>\n",
       "      <td>3.64</td>\n",
       "      <td>3.73</td>\n",
       "      <td>3.80</td>\n",
       "      <td>3.80</td>\n",
       "    </tr>\n",
       "  </tbody>\n",
       "</table>\n",
       "</div>"
      ],
      "text/plain": [
       "     1     2     3     4     5     6     7     8     9     10\n",
       "1  1.98  3.39  2.44  2.52  1.10  1.95  2.55  3.72  4.36  4.04\n",
       "2  1.89  1.25  4.12  3.89  1.78  3.05  1.28  2.58  4.93  2.22\n",
       "3  4.13  3.94  4.35  1.49  4.47  3.24  4.35  3.96  4.14  3.73\n",
       "4  4.66  1.89  3.29  3.52  1.05  2.05  3.92  4.16  2.30  2.11\n",
       "5  1.49  2.64  4.81  1.96  1.04  1.08  3.64  3.73  3.80  3.80"
      ]
     },
     "execution_count": 17,
     "metadata": {},
     "output_type": "execute_result"
    }
   ],
   "source": [
    "nc = 10\n",
    "nr = 100\n",
    "sample_util_mat = pd.DataFrame(np.random.uniform(1, 5, (nr, nc)), columns=np.arange(1, nc+1),\n",
    "                               index=np.arange(1, nr+1)).round(2)\n",
    "sample_util_mat.head()"
   ]
  },
  {
   "cell_type": "code",
   "execution_count": 18,
   "metadata": {
    "scrolled": true
   },
   "outputs": [
    {
     "data": {
      "text/plain": [
       "(100, 10)"
      ]
     },
     "execution_count": 18,
     "metadata": {},
     "output_type": "execute_result"
    }
   ],
   "source": [
    "Uc = sample_util_mat.copy()\n",
    "Uc_arr = Uc.values\n",
    "Uc_arr.shape"
   ]
  },
  {
   "cell_type": "code",
   "execution_count": 19,
   "metadata": {},
   "outputs": [],
   "source": [
    "def nan_mask(U, p=0.2):\n",
    "    mask = np.ones(np.shape(U))\n",
    "    random_index = np.random.choice(U.size, size=int(U.size*p), replace=False)\n",
    "    np.ravel(mask)[random_index] = np.nan\n",
    "    return U*mask"
   ]
  },
  {
   "cell_type": "code",
   "execution_count": 20,
   "metadata": {},
   "outputs": [],
   "source": [
    "def gen_missing_ratings(U_df, p=0.2, n_masks=10):\n",
    "    cols = U_df.columns\n",
    "    idx = U_df.index\n",
    "    U_arr = U_df.values\n",
    "    masked_um = []\n",
    "    for n in range(n_masks):\n",
    "        masked_um.append(pd.DataFrame(nan_mask(U_arr, p=p),\n",
    "                                      columns=cols,\n",
    "                                      index=idx))\n",
    "    return masked_um"
   ]
  },
  {
   "cell_type": "code",
   "execution_count": 21,
   "metadata": {},
   "outputs": [],
   "source": [
    "def train_model_itemwise_cluster(Uc_df, n_synth_data=100, p=0.3):\n",
    "    synth_data = gen_missing_ratings(Uc_df, p=p, n_masks=n_synth_data)\n",
    "    um_output = []\n",
    "    for n in range(n_synth_data):\n",
    "#         print(n)\n",
    "        U_df = synth_data[n]\n",
    "        U_df_mc = um.mean_center_utilmat(U_df, axis=1, fillna=True, fill_val=0)\n",
    "        U_imputed, metrics, models = im.train_model_itemwise(\n",
    "            U_df_mc, mlp1, return_models=True)\n",
    "        um_output.append(U_imputed)\n",
    "    um_output = pd.concat(um_output)\n",
    "    return um_output.groupby(um_output.index).mean()"
   ]
  },
  {
   "cell_type": "code",
   "execution_count": 22,
   "metadata": {},
   "outputs": [
    {
     "name": "stdout",
     "output_type": "stream",
     "text": [
      "CPU times: user 2min 28s, sys: 17.8 s, total: 2min 46s\n",
      "Wall time: 42.2 s\n"
     ]
    }
   ],
   "source": [
    "%%time\n",
    "Uc_df_output = train_model_itemwise_cluster(Uc, n_synth_data=20, p=0.5)"
   ]
  },
  {
   "cell_type": "code",
   "execution_count": 23,
   "metadata": {},
   "outputs": [
    {
     "data": {
      "text/html": [
       "<div>\n",
       "<style scoped>\n",
       "    .dataframe tbody tr th:only-of-type {\n",
       "        vertical-align: middle;\n",
       "    }\n",
       "\n",
       "    .dataframe tbody tr th {\n",
       "        vertical-align: top;\n",
       "    }\n",
       "\n",
       "    .dataframe thead th {\n",
       "        text-align: right;\n",
       "    }\n",
       "</style>\n",
       "<table border=\"1\" class=\"dataframe\">\n",
       "  <thead>\n",
       "    <tr style=\"text-align: right;\">\n",
       "      <th></th>\n",
       "      <th>1</th>\n",
       "      <th>2</th>\n",
       "      <th>3</th>\n",
       "      <th>4</th>\n",
       "      <th>5</th>\n",
       "      <th>6</th>\n",
       "      <th>7</th>\n",
       "      <th>8</th>\n",
       "      <th>9</th>\n",
       "      <th>10</th>\n",
       "    </tr>\n",
       "  </thead>\n",
       "  <tbody>\n",
       "    <tr>\n",
       "      <th>1</th>\n",
       "      <td>-0.564879</td>\n",
       "      <td>0.444075</td>\n",
       "      <td>0.099880</td>\n",
       "      <td>-0.032477</td>\n",
       "      <td>-0.814170</td>\n",
       "      <td>-0.549418</td>\n",
       "      <td>-0.264714</td>\n",
       "      <td>0.386276</td>\n",
       "      <td>0.732103</td>\n",
       "      <td>0.825674</td>\n",
       "    </tr>\n",
       "    <tr>\n",
       "      <th>2</th>\n",
       "      <td>-0.276745</td>\n",
       "      <td>-0.770119</td>\n",
       "      <td>0.668810</td>\n",
       "      <td>0.628158</td>\n",
       "      <td>-0.515408</td>\n",
       "      <td>0.117801</td>\n",
       "      <td>-0.222044</td>\n",
       "      <td>-0.076345</td>\n",
       "      <td>1.029355</td>\n",
       "      <td>0.032829</td>\n",
       "    </tr>\n",
       "    <tr>\n",
       "      <th>3</th>\n",
       "      <td>0.019099</td>\n",
       "      <td>0.119873</td>\n",
       "      <td>0.324212</td>\n",
       "      <td>-0.759468</td>\n",
       "      <td>0.357400</td>\n",
       "      <td>-0.281754</td>\n",
       "      <td>0.284988</td>\n",
       "      <td>-0.060430</td>\n",
       "      <td>0.119311</td>\n",
       "      <td>-0.119509</td>\n",
       "    </tr>\n",
       "    <tr>\n",
       "      <th>4</th>\n",
       "      <td>0.831349</td>\n",
       "      <td>-0.284369</td>\n",
       "      <td>0.084006</td>\n",
       "      <td>0.538948</td>\n",
       "      <td>-1.174975</td>\n",
       "      <td>-0.667267</td>\n",
       "      <td>0.395567</td>\n",
       "      <td>0.950257</td>\n",
       "      <td>-0.339734</td>\n",
       "      <td>-0.274686</td>\n",
       "    </tr>\n",
       "    <tr>\n",
       "      <th>5</th>\n",
       "      <td>-0.584715</td>\n",
       "      <td>0.132368</td>\n",
       "      <td>1.358636</td>\n",
       "      <td>-0.784919</td>\n",
       "      <td>-0.818388</td>\n",
       "      <td>-0.769652</td>\n",
       "      <td>0.439653</td>\n",
       "      <td>0.186520</td>\n",
       "      <td>0.627836</td>\n",
       "      <td>0.711734</td>\n",
       "    </tr>\n",
       "    <tr>\n",
       "      <th>...</th>\n",
       "      <td>...</td>\n",
       "      <td>...</td>\n",
       "      <td>...</td>\n",
       "      <td>...</td>\n",
       "      <td>...</td>\n",
       "      <td>...</td>\n",
       "      <td>...</td>\n",
       "      <td>...</td>\n",
       "      <td>...</td>\n",
       "      <td>...</td>\n",
       "    </tr>\n",
       "    <tr>\n",
       "      <th>96</th>\n",
       "      <td>-0.628261</td>\n",
       "      <td>0.974417</td>\n",
       "      <td>0.038752</td>\n",
       "      <td>-0.683515</td>\n",
       "      <td>0.384567</td>\n",
       "      <td>-0.633225</td>\n",
       "      <td>-0.237920</td>\n",
       "      <td>-0.723705</td>\n",
       "      <td>0.788922</td>\n",
       "      <td>0.547416</td>\n",
       "    </tr>\n",
       "    <tr>\n",
       "      <th>97</th>\n",
       "      <td>-0.178800</td>\n",
       "      <td>-0.247348</td>\n",
       "      <td>-0.576279</td>\n",
       "      <td>-0.117154</td>\n",
       "      <td>0.518521</td>\n",
       "      <td>-0.190281</td>\n",
       "      <td>0.795683</td>\n",
       "      <td>0.168475</td>\n",
       "      <td>-0.122528</td>\n",
       "      <td>-0.120398</td>\n",
       "    </tr>\n",
       "    <tr>\n",
       "      <th>98</th>\n",
       "      <td>-0.557627</td>\n",
       "      <td>0.543934</td>\n",
       "      <td>0.895406</td>\n",
       "      <td>-0.866473</td>\n",
       "      <td>0.174473</td>\n",
       "      <td>-0.028557</td>\n",
       "      <td>-0.603036</td>\n",
       "      <td>-0.618714</td>\n",
       "      <td>0.125142</td>\n",
       "      <td>0.868991</td>\n",
       "    </tr>\n",
       "    <tr>\n",
       "      <th>99</th>\n",
       "      <td>-0.108538</td>\n",
       "      <td>-0.041217</td>\n",
       "      <td>0.128019</td>\n",
       "      <td>0.298424</td>\n",
       "      <td>-0.437466</td>\n",
       "      <td>-0.358596</td>\n",
       "      <td>-0.386778</td>\n",
       "      <td>-0.312278</td>\n",
       "      <td>0.672422</td>\n",
       "      <td>0.537355</td>\n",
       "    </tr>\n",
       "    <tr>\n",
       "      <th>100</th>\n",
       "      <td>0.119480</td>\n",
       "      <td>-0.913355</td>\n",
       "      <td>-0.180284</td>\n",
       "      <td>0.830303</td>\n",
       "      <td>-0.121085</td>\n",
       "      <td>0.601957</td>\n",
       "      <td>0.466102</td>\n",
       "      <td>0.329433</td>\n",
       "      <td>-0.168438</td>\n",
       "      <td>-0.807765</td>\n",
       "    </tr>\n",
       "  </tbody>\n",
       "</table>\n",
       "<p>100 rows × 10 columns</p>\n",
       "</div>"
      ],
      "text/plain": [
       "           1         2         3         4         5         6         7   \\\n",
       "1   -0.564879  0.444075  0.099880 -0.032477 -0.814170 -0.549418 -0.264714   \n",
       "2   -0.276745 -0.770119  0.668810  0.628158 -0.515408  0.117801 -0.222044   \n",
       "3    0.019099  0.119873  0.324212 -0.759468  0.357400 -0.281754  0.284988   \n",
       "4    0.831349 -0.284369  0.084006  0.538948 -1.174975 -0.667267  0.395567   \n",
       "5   -0.584715  0.132368  1.358636 -0.784919 -0.818388 -0.769652  0.439653   \n",
       "..        ...       ...       ...       ...       ...       ...       ...   \n",
       "96  -0.628261  0.974417  0.038752 -0.683515  0.384567 -0.633225 -0.237920   \n",
       "97  -0.178800 -0.247348 -0.576279 -0.117154  0.518521 -0.190281  0.795683   \n",
       "98  -0.557627  0.543934  0.895406 -0.866473  0.174473 -0.028557 -0.603036   \n",
       "99  -0.108538 -0.041217  0.128019  0.298424 -0.437466 -0.358596 -0.386778   \n",
       "100  0.119480 -0.913355 -0.180284  0.830303 -0.121085  0.601957  0.466102   \n",
       "\n",
       "           8         9         10  \n",
       "1    0.386276  0.732103  0.825674  \n",
       "2   -0.076345  1.029355  0.032829  \n",
       "3   -0.060430  0.119311 -0.119509  \n",
       "4    0.950257 -0.339734 -0.274686  \n",
       "5    0.186520  0.627836  0.711734  \n",
       "..        ...       ...       ...  \n",
       "96  -0.723705  0.788922  0.547416  \n",
       "97   0.168475 -0.122528 -0.120398  \n",
       "98  -0.618714  0.125142  0.868991  \n",
       "99  -0.312278  0.672422  0.537355  \n",
       "100  0.329433 -0.168438 -0.807765  \n",
       "\n",
       "[100 rows x 10 columns]"
      ]
     },
     "execution_count": 23,
     "metadata": {},
     "output_type": "execute_result"
    }
   ],
   "source": [
    "Uc_df_output"
   ]
  },
  {
   "cell_type": "code",
   "execution_count": 24,
   "metadata": {},
   "outputs": [],
   "source": [
    "import matplotlib.pyplot as plt"
   ]
  },
  {
   "cell_type": "code",
   "execution_count": 25,
   "metadata": {},
   "outputs": [
    {
     "data": {
      "text/plain": [
       "<matplotlib.legend.Legend at 0x7f8bcedf0340>"
      ]
     },
     "execution_count": 25,
     "metadata": {},
     "output_type": "execute_result"
    },
    {
     "data": {
      "image/png": "[encoded data removed]",
      "text/plain": [
       "<Figure size 432x288 with 1 Axes>"
      ]
     },
     "metadata": {
      "needs_background": "light"
     },
     "output_type": "display_data"
    }
   ],
   "source": [
    "item=1\n",
    "fig, ax = plt.subplots(1)\n",
    "Uc[item].plot(label='original')\n",
    "Uc_df_output[item].plot(label='model_output')\n",
    "plt.legend()"
   ]
  },
  {
   "cell_type": "code",
   "execution_count": null,
   "metadata": {},
   "outputs": [],
   "source": []
  }
 ],
 "metadata": {
  "kernelspec": {
   "display_name": "Python [conda env:root] *",
   "language": "python",
   "name": "conda-root-py"
  },
  "language_info": {
   "codemirror_mode": {
    "name": "ipython",
    "version": 3
   },
   "file_extension": ".py",
   "mimetype": "text/x-python",
   "name": "python",
   "nbconvert_exporter": "python",
   "pygments_lexer": "ipython3",
   "version": "3.9.5"
  },
  "latex_envs": {
   "LaTeX_envs_menu_present": true,
   "autoclose": false,
   "autocomplete": true,
   "bibliofile": "biblio.bib",
   "cite_by": "apalike",
   "current_citInitial": 1,
   "eqLabelWithNumbers": true,
   "eqNumInitial": 1,
   "hotkeys": {
    "equation": "Ctrl-E",
    "itemize": "Ctrl-I"
   },
   "labels_anchors": false,
   "latex_user_defs": false,
   "report_style_numbering": false,
   "user_envs_cfg": false
  }
 },
 "nbformat": 4,
 "nbformat_minor": 4
}
