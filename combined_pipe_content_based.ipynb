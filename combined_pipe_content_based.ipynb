{
 "cells": [
  {
   "cell_type": "markdown",
   "id": "253eb47b",
   "metadata": {},
   "source": [
    "# Content based pipe"
   ]
  },
  {
   "cell_type": "code",
   "execution_count": 1,
   "id": "de2cb92a",
   "metadata": {
    "ExecuteTime": {
     "end_time": "2021-10-09T11:58:08.642249Z",
     "start_time": "2021-10-09T11:58:06.090673Z"
    },
    "tags": [
     "remove-cell"
    ]
   },
   "outputs": [
    {
     "name": "stderr",
     "output_type": "stream",
     "text": [
      "Matplotlib created a temporary config/cache directory at /tmp/matplotlib-eucy3kvw because the default path (/home/pjavier/.cache/matplotlib) is not a writable directory; it is highly recommended to set the MPLCONFIGDIR environment variable to a writable directory, in particular to speed up the import of Matplotlib and to better support multiprocessing.\n"
     ]
    }
   ],
   "source": [
    "import numpy as np\n",
    "import pandas as pd\n",
    "import matplotlib.pyplot as plt\n",
    "\n",
    "import pickle\n",
    "import joblib\n",
    "import sys\n",
    "import jdc\n",
    "\n",
    "from sklearn.ensemble import RandomForestRegressor\n",
    "\n",
    "%load_ext autoreload\n",
    "%autoreload 2 "
   ]
  },
  {
   "cell_type": "code",
   "execution_count": 4,
   "id": "5081777d",
   "metadata": {
    "ExecuteTime": {
     "end_time": "2021-10-09T11:59:31.047993Z",
     "start_time": "2021-10-09T11:59:31.017066Z"
    }
   },
   "outputs": [],
   "source": [
    "from resype.content_based import ContentBasedModel"
   ]
  },
  {
   "cell_type": "code",
   "execution_count": null,
   "id": "5ed07e2b",
   "metadata": {
    "tags": [
     "remove-cell"
    ]
   },
   "outputs": [],
   "source": [
    "from resype.preprocessing import *"
   ]
  },
  {
   "cell_type": "code",
   "execution_count": 5,
   "id": "1f68b4c6",
   "metadata": {
    "ExecuteTime": {
     "end_time": "2021-10-09T11:59:31.737708Z",
     "start_time": "2021-10-09T11:59:31.704493Z"
    },
    "tags": [
     "remove-cell"
    ]
   },
   "outputs": [],
   "source": [
    "# import nltk\n",
    "# nltk.download('stopwords')\n",
    "# nltk.download('punkt')"
   ]
  },
  {
   "cell_type": "code",
   "execution_count": 6,
   "id": "ac21c47b",
   "metadata": {
    "ExecuteTime": {
     "end_time": "2021-10-09T12:09:26.213846Z",
     "start_time": "2021-10-09T12:09:15.621794Z"
    },
    "scrolled": true,
    "tags": [
     "remove-cell"
    ]
   },
   "outputs": [],
   "source": [
    "transaction_list, user_df = create_user_feature() # for example only\n",
    "item_df = create_item_feature(num_features = 300)"
   ]
  },
  {
   "cell_type": "code",
   "execution_count": 7,
   "id": "b0b33389",
   "metadata": {
    "ExecuteTime": {
     "end_time": "2021-10-09T12:09:26.256601Z",
     "start_time": "2021-10-09T12:09:26.216787Z"
    }
   },
   "outputs": [
    {
     "data": {
      "text/html": [
       "<div>\n",
       "<style scoped>\n",
       "    .dataframe tbody tr th:only-of-type {\n",
       "        vertical-align: middle;\n",
       "    }\n",
       "\n",
       "    .dataframe tbody tr th {\n",
       "        vertical-align: top;\n",
       "    }\n",
       "\n",
       "    .dataframe thead th {\n",
       "        text-align: right;\n",
       "    }\n",
       "</style>\n",
       "<table border=\"1\" class=\"dataframe\">\n",
       "  <thead>\n",
       "    <tr style=\"text-align: right;\">\n",
       "      <th></th>\n",
       "      <th>userId</th>\n",
       "      <th>movieId</th>\n",
       "      <th>rating</th>\n",
       "      <th>timestamp</th>\n",
       "    </tr>\n",
       "  </thead>\n",
       "  <tbody>\n",
       "    <tr>\n",
       "      <th>0</th>\n",
       "      <td>1</td>\n",
       "      <td>1</td>\n",
       "      <td>4.0</td>\n",
       "      <td>964982703</td>\n",
       "    </tr>\n",
       "    <tr>\n",
       "      <th>1</th>\n",
       "      <td>1</td>\n",
       "      <td>3</td>\n",
       "      <td>4.0</td>\n",
       "      <td>964981247</td>\n",
       "    </tr>\n",
       "    <tr>\n",
       "      <th>2</th>\n",
       "      <td>1</td>\n",
       "      <td>6</td>\n",
       "      <td>4.0</td>\n",
       "      <td>964982224</td>\n",
       "    </tr>\n",
       "    <tr>\n",
       "      <th>3</th>\n",
       "      <td>1</td>\n",
       "      <td>47</td>\n",
       "      <td>5.0</td>\n",
       "      <td>964983815</td>\n",
       "    </tr>\n",
       "    <tr>\n",
       "      <th>4</th>\n",
       "      <td>1</td>\n",
       "      <td>50</td>\n",
       "      <td>5.0</td>\n",
       "      <td>964982931</td>\n",
       "    </tr>\n",
       "  </tbody>\n",
       "</table>\n",
       "</div>"
      ],
      "text/plain": [
       "   userId  movieId  rating  timestamp\n",
       "0       1        1     4.0  964982703\n",
       "1       1        3     4.0  964981247\n",
       "2       1        6     4.0  964982224\n",
       "3       1       47     5.0  964983815\n",
       "4       1       50     5.0  964982931"
      ]
     },
     "execution_count": 7,
     "metadata": {},
     "output_type": "execute_result"
    }
   ],
   "source": [
    "transaction_list.head()"
   ]
  },
  {
   "cell_type": "code",
   "execution_count": 8,
   "id": "27a6b45c",
   "metadata": {
    "ExecuteTime": {
     "end_time": "2021-10-09T12:09:26.292241Z",
     "start_time": "2021-10-09T12:09:26.258289Z"
    }
   },
   "outputs": [
    {
     "data": {
      "text/html": [
       "<div>\n",
       "<style scoped>\n",
       "    .dataframe tbody tr th:only-of-type {\n",
       "        vertical-align: middle;\n",
       "    }\n",
       "\n",
       "    .dataframe tbody tr th {\n",
       "        vertical-align: top;\n",
       "    }\n",
       "\n",
       "    .dataframe thead th {\n",
       "        text-align: right;\n",
       "    }\n",
       "</style>\n",
       "<table border=\"1\" class=\"dataframe\">\n",
       "  <thead>\n",
       "    <tr style=\"text-align: right;\">\n",
       "      <th></th>\n",
       "      <th>userId</th>\n",
       "      <th>u_1</th>\n",
       "      <th>u_2</th>\n",
       "      <th>u_3</th>\n",
       "      <th>u_4</th>\n",
       "      <th>u_5</th>\n",
       "      <th>u_6</th>\n",
       "      <th>u_7</th>\n",
       "      <th>u_8</th>\n",
       "      <th>u_9</th>\n",
       "      <th>...</th>\n",
       "      <th>u_11</th>\n",
       "      <th>u_12</th>\n",
       "      <th>u_13</th>\n",
       "      <th>u_14</th>\n",
       "      <th>u_15</th>\n",
       "      <th>u_16</th>\n",
       "      <th>u_17</th>\n",
       "      <th>u_18</th>\n",
       "      <th>u_19</th>\n",
       "      <th>u_20</th>\n",
       "    </tr>\n",
       "  </thead>\n",
       "  <tbody>\n",
       "    <tr>\n",
       "      <th>0</th>\n",
       "      <td>1</td>\n",
       "      <td>85</td>\n",
       "      <td>29</td>\n",
       "      <td>42</td>\n",
       "      <td>83</td>\n",
       "      <td>47</td>\n",
       "      <td>26</td>\n",
       "      <td>90</td>\n",
       "      <td>45</td>\n",
       "      <td>55</td>\n",
       "      <td>...</td>\n",
       "      <td>17</td>\n",
       "      <td>68</td>\n",
       "      <td>22</td>\n",
       "      <td>7</td>\n",
       "      <td>40</td>\n",
       "      <td>22</td>\n",
       "      <td>1</td>\n",
       "      <td>0</td>\n",
       "      <td>0</td>\n",
       "      <td>0</td>\n",
       "    </tr>\n",
       "    <tr>\n",
       "      <th>1</th>\n",
       "      <td>2</td>\n",
       "      <td>3</td>\n",
       "      <td>0</td>\n",
       "      <td>0</td>\n",
       "      <td>7</td>\n",
       "      <td>0</td>\n",
       "      <td>1</td>\n",
       "      <td>11</td>\n",
       "      <td>10</td>\n",
       "      <td>10</td>\n",
       "      <td>...</td>\n",
       "      <td>1</td>\n",
       "      <td>17</td>\n",
       "      <td>1</td>\n",
       "      <td>1</td>\n",
       "      <td>4</td>\n",
       "      <td>0</td>\n",
       "      <td>0</td>\n",
       "      <td>4</td>\n",
       "      <td>3</td>\n",
       "      <td>0</td>\n",
       "    </tr>\n",
       "    <tr>\n",
       "      <th>2</th>\n",
       "      <td>3</td>\n",
       "      <td>11</td>\n",
       "      <td>4</td>\n",
       "      <td>5</td>\n",
       "      <td>9</td>\n",
       "      <td>4</td>\n",
       "      <td>5</td>\n",
       "      <td>14</td>\n",
       "      <td>2</td>\n",
       "      <td>7</td>\n",
       "      <td>...</td>\n",
       "      <td>8</td>\n",
       "      <td>16</td>\n",
       "      <td>5</td>\n",
       "      <td>0</td>\n",
       "      <td>15</td>\n",
       "      <td>1</td>\n",
       "      <td>0</td>\n",
       "      <td>0</td>\n",
       "      <td>0</td>\n",
       "      <td>0</td>\n",
       "    </tr>\n",
       "    <tr>\n",
       "      <th>3</th>\n",
       "      <td>4</td>\n",
       "      <td>29</td>\n",
       "      <td>6</td>\n",
       "      <td>10</td>\n",
       "      <td>104</td>\n",
       "      <td>19</td>\n",
       "      <td>58</td>\n",
       "      <td>25</td>\n",
       "      <td>27</td>\n",
       "      <td>38</td>\n",
       "      <td>...</td>\n",
       "      <td>4</td>\n",
       "      <td>120</td>\n",
       "      <td>7</td>\n",
       "      <td>10</td>\n",
       "      <td>12</td>\n",
       "      <td>16</td>\n",
       "      <td>4</td>\n",
       "      <td>1</td>\n",
       "      <td>2</td>\n",
       "      <td>0</td>\n",
       "    </tr>\n",
       "    <tr>\n",
       "      <th>4</th>\n",
       "      <td>5</td>\n",
       "      <td>8</td>\n",
       "      <td>6</td>\n",
       "      <td>9</td>\n",
       "      <td>15</td>\n",
       "      <td>7</td>\n",
       "      <td>11</td>\n",
       "      <td>9</td>\n",
       "      <td>12</td>\n",
       "      <td>9</td>\n",
       "      <td>...</td>\n",
       "      <td>1</td>\n",
       "      <td>25</td>\n",
       "      <td>3</td>\n",
       "      <td>2</td>\n",
       "      <td>2</td>\n",
       "      <td>5</td>\n",
       "      <td>0</td>\n",
       "      <td>3</td>\n",
       "      <td>0</td>\n",
       "      <td>0</td>\n",
       "    </tr>\n",
       "  </tbody>\n",
       "</table>\n",
       "<p>5 rows × 21 columns</p>\n",
       "</div>"
      ],
      "text/plain": [
       "   userId  u_1  u_2  u_3  u_4  u_5  u_6  u_7  u_8  u_9  ...  u_11  u_12  u_13  \\\n",
       "0       1   85   29   42   83   47   26   90   45   55  ...    17    68    22   \n",
       "1       2    3    0    0    7    0    1   11   10   10  ...     1    17     1   \n",
       "2       3   11    4    5    9    4    5   14    2    7  ...     8    16     5   \n",
       "3       4   29    6   10  104   19   58   25   27   38  ...     4   120     7   \n",
       "4       5    8    6    9   15    7   11    9   12    9  ...     1    25     3   \n",
       "\n",
       "   u_14  u_15  u_16  u_17  u_18  u_19  u_20  \n",
       "0     7    40    22     1     0     0     0  \n",
       "1     1     4     0     0     4     3     0  \n",
       "2     0    15     1     0     0     0     0  \n",
       "3    10    12    16     4     1     2     0  \n",
       "4     2     2     5     0     3     0     0  \n",
       "\n",
       "[5 rows x 21 columns]"
      ]
     },
     "execution_count": 8,
     "metadata": {},
     "output_type": "execute_result"
    }
   ],
   "source": [
    "# user ids and features\n",
    "user_df.head()"
   ]
  },
  {
   "cell_type": "code",
   "execution_count": 9,
   "id": "f7fd0420",
   "metadata": {
    "ExecuteTime": {
     "end_time": "2021-10-09T12:09:26.337175Z",
     "start_time": "2021-10-09T12:09:26.294469Z"
    }
   },
   "outputs": [
    {
     "data": {
      "text/html": [
       "<div>\n",
       "<style scoped>\n",
       "    .dataframe tbody tr th:only-of-type {\n",
       "        vertical-align: middle;\n",
       "    }\n",
       "\n",
       "    .dataframe tbody tr th {\n",
       "        vertical-align: top;\n",
       "    }\n",
       "\n",
       "    .dataframe thead th {\n",
       "        text-align: right;\n",
       "    }\n",
       "</style>\n",
       "<table border=\"1\" class=\"dataframe\">\n",
       "  <thead>\n",
       "    <tr style=\"text-align: right;\">\n",
       "      <th></th>\n",
       "      <th>movieId</th>\n",
       "      <th>i_1</th>\n",
       "      <th>i_2</th>\n",
       "      <th>i_3</th>\n",
       "      <th>i_4</th>\n",
       "      <th>i_5</th>\n",
       "      <th>i_6</th>\n",
       "      <th>i_7</th>\n",
       "      <th>i_8</th>\n",
       "      <th>i_9</th>\n",
       "      <th>...</th>\n",
       "      <th>i_291</th>\n",
       "      <th>i_292</th>\n",
       "      <th>i_293</th>\n",
       "      <th>i_294</th>\n",
       "      <th>i_295</th>\n",
       "      <th>i_296</th>\n",
       "      <th>i_297</th>\n",
       "      <th>i_298</th>\n",
       "      <th>i_299</th>\n",
       "      <th>i_300</th>\n",
       "    </tr>\n",
       "  </thead>\n",
       "  <tbody>\n",
       "    <tr>\n",
       "      <th>0</th>\n",
       "      <td>1</td>\n",
       "      <td>0.0</td>\n",
       "      <td>0.0</td>\n",
       "      <td>0.0</td>\n",
       "      <td>0.0</td>\n",
       "      <td>0.0</td>\n",
       "      <td>0.0</td>\n",
       "      <td>0.0</td>\n",
       "      <td>0.0</td>\n",
       "      <td>0.000000</td>\n",
       "      <td>...</td>\n",
       "      <td>0.0</td>\n",
       "      <td>0.0</td>\n",
       "      <td>0.0</td>\n",
       "      <td>0.0</td>\n",
       "      <td>0.0</td>\n",
       "      <td>0.0</td>\n",
       "      <td>0.0</td>\n",
       "      <td>0.0</td>\n",
       "      <td>0.0</td>\n",
       "      <td>0.0</td>\n",
       "    </tr>\n",
       "    <tr>\n",
       "      <th>1</th>\n",
       "      <td>3</td>\n",
       "      <td>0.0</td>\n",
       "      <td>0.0</td>\n",
       "      <td>0.0</td>\n",
       "      <td>0.0</td>\n",
       "      <td>0.0</td>\n",
       "      <td>0.0</td>\n",
       "      <td>0.0</td>\n",
       "      <td>0.0</td>\n",
       "      <td>0.000000</td>\n",
       "      <td>...</td>\n",
       "      <td>0.0</td>\n",
       "      <td>0.0</td>\n",
       "      <td>0.0</td>\n",
       "      <td>0.0</td>\n",
       "      <td>0.0</td>\n",
       "      <td>0.0</td>\n",
       "      <td>0.0</td>\n",
       "      <td>0.0</td>\n",
       "      <td>0.0</td>\n",
       "      <td>0.0</td>\n",
       "    </tr>\n",
       "    <tr>\n",
       "      <th>2</th>\n",
       "      <td>6</td>\n",
       "      <td>0.0</td>\n",
       "      <td>0.0</td>\n",
       "      <td>0.0</td>\n",
       "      <td>0.0</td>\n",
       "      <td>0.0</td>\n",
       "      <td>0.0</td>\n",
       "      <td>0.0</td>\n",
       "      <td>0.0</td>\n",
       "      <td>0.513025</td>\n",
       "      <td>...</td>\n",
       "      <td>0.0</td>\n",
       "      <td>0.0</td>\n",
       "      <td>0.0</td>\n",
       "      <td>0.0</td>\n",
       "      <td>0.0</td>\n",
       "      <td>0.0</td>\n",
       "      <td>0.0</td>\n",
       "      <td>0.0</td>\n",
       "      <td>0.0</td>\n",
       "      <td>0.0</td>\n",
       "    </tr>\n",
       "    <tr>\n",
       "      <th>3</th>\n",
       "      <td>47</td>\n",
       "      <td>0.0</td>\n",
       "      <td>0.0</td>\n",
       "      <td>0.0</td>\n",
       "      <td>0.0</td>\n",
       "      <td>0.0</td>\n",
       "      <td>0.0</td>\n",
       "      <td>0.0</td>\n",
       "      <td>0.0</td>\n",
       "      <td>0.000000</td>\n",
       "      <td>...</td>\n",
       "      <td>0.0</td>\n",
       "      <td>0.0</td>\n",
       "      <td>0.0</td>\n",
       "      <td>0.0</td>\n",
       "      <td>0.0</td>\n",
       "      <td>0.0</td>\n",
       "      <td>0.0</td>\n",
       "      <td>0.0</td>\n",
       "      <td>0.0</td>\n",
       "      <td>0.0</td>\n",
       "    </tr>\n",
       "    <tr>\n",
       "      <th>4</th>\n",
       "      <td>50</td>\n",
       "      <td>0.0</td>\n",
       "      <td>0.0</td>\n",
       "      <td>0.0</td>\n",
       "      <td>0.0</td>\n",
       "      <td>0.0</td>\n",
       "      <td>0.0</td>\n",
       "      <td>0.0</td>\n",
       "      <td>0.0</td>\n",
       "      <td>0.000000</td>\n",
       "      <td>...</td>\n",
       "      <td>0.0</td>\n",
       "      <td>0.0</td>\n",
       "      <td>0.0</td>\n",
       "      <td>0.0</td>\n",
       "      <td>0.0</td>\n",
       "      <td>0.0</td>\n",
       "      <td>0.0</td>\n",
       "      <td>0.0</td>\n",
       "      <td>0.0</td>\n",
       "      <td>0.0</td>\n",
       "    </tr>\n",
       "  </tbody>\n",
       "</table>\n",
       "<p>5 rows × 301 columns</p>\n",
       "</div>"
      ],
      "text/plain": [
       "   movieId  i_1  i_2  i_3  i_4  i_5  i_6  i_7  i_8       i_9  ...  i_291  \\\n",
       "0        1  0.0  0.0  0.0  0.0  0.0  0.0  0.0  0.0  0.000000  ...    0.0   \n",
       "1        3  0.0  0.0  0.0  0.0  0.0  0.0  0.0  0.0  0.000000  ...    0.0   \n",
       "2        6  0.0  0.0  0.0  0.0  0.0  0.0  0.0  0.0  0.513025  ...    0.0   \n",
       "3       47  0.0  0.0  0.0  0.0  0.0  0.0  0.0  0.0  0.000000  ...    0.0   \n",
       "4       50  0.0  0.0  0.0  0.0  0.0  0.0  0.0  0.0  0.000000  ...    0.0   \n",
       "\n",
       "   i_292  i_293  i_294  i_295  i_296  i_297  i_298  i_299  i_300  \n",
       "0    0.0    0.0    0.0    0.0    0.0    0.0    0.0    0.0    0.0  \n",
       "1    0.0    0.0    0.0    0.0    0.0    0.0    0.0    0.0    0.0  \n",
       "2    0.0    0.0    0.0    0.0    0.0    0.0    0.0    0.0    0.0  \n",
       "3    0.0    0.0    0.0    0.0    0.0    0.0    0.0    0.0    0.0  \n",
       "4    0.0    0.0    0.0    0.0    0.0    0.0    0.0    0.0    0.0  \n",
       "\n",
       "[5 rows x 301 columns]"
      ]
     },
     "execution_count": 9,
     "metadata": {},
     "output_type": "execute_result"
    }
   ],
   "source": [
    "# item ids and features\n",
    "item_df.head()"
   ]
  },
  {
   "cell_type": "code",
   "execution_count": 14,
   "id": "7827f452",
   "metadata": {
    "ExecuteTime": {
     "end_time": "2021-10-09T12:13:29.143101Z",
     "start_time": "2021-10-09T12:13:28.542932Z"
    }
   },
   "outputs": [],
   "source": [
    "cb = ContentBasedModel(user_df, item_df, transaction_list)"
   ]
  },
  {
   "cell_type": "code",
   "execution_count": 15,
   "id": "33514f6a",
   "metadata": {
    "ExecuteTime": {
     "end_time": "2021-10-09T12:13:30.269093Z",
     "start_time": "2021-10-09T12:13:30.186952Z"
    },
    "tags": [
     "remove-cell"
    ]
   },
   "outputs": [
    {
     "data": {
      "text/html": [
       "<div>\n",
       "<style scoped>\n",
       "    .dataframe tbody tr th:only-of-type {\n",
       "        vertical-align: middle;\n",
       "    }\n",
       "\n",
       "    .dataframe tbody tr th {\n",
       "        vertical-align: top;\n",
       "    }\n",
       "\n",
       "    .dataframe thead th {\n",
       "        text-align: right;\n",
       "    }\n",
       "</style>\n",
       "<table border=\"1\" class=\"dataframe\">\n",
       "  <thead>\n",
       "    <tr style=\"text-align: right;\">\n",
       "      <th></th>\n",
       "      <th>userId</th>\n",
       "      <th>movieId</th>\n",
       "      <th>rating</th>\n",
       "      <th>timestamp</th>\n",
       "      <th>u_1</th>\n",
       "      <th>u_2</th>\n",
       "      <th>u_3</th>\n",
       "      <th>u_4</th>\n",
       "      <th>u_5</th>\n",
       "      <th>u_6</th>\n",
       "      <th>...</th>\n",
       "      <th>i_291</th>\n",
       "      <th>i_292</th>\n",
       "      <th>i_293</th>\n",
       "      <th>i_294</th>\n",
       "      <th>i_295</th>\n",
       "      <th>i_296</th>\n",
       "      <th>i_297</th>\n",
       "      <th>i_298</th>\n",
       "      <th>i_299</th>\n",
       "      <th>i_300</th>\n",
       "    </tr>\n",
       "  </thead>\n",
       "  <tbody>\n",
       "    <tr>\n",
       "      <th>0</th>\n",
       "      <td>1</td>\n",
       "      <td>1</td>\n",
       "      <td>4.0</td>\n",
       "      <td>964982703</td>\n",
       "      <td>85</td>\n",
       "      <td>29</td>\n",
       "      <td>42</td>\n",
       "      <td>83</td>\n",
       "      <td>47</td>\n",
       "      <td>26</td>\n",
       "      <td>...</td>\n",
       "      <td>0.0</td>\n",
       "      <td>0.0</td>\n",
       "      <td>0.000000</td>\n",
       "      <td>0.0</td>\n",
       "      <td>0.0</td>\n",
       "      <td>0.000000</td>\n",
       "      <td>0.0</td>\n",
       "      <td>0.0</td>\n",
       "      <td>0.0</td>\n",
       "      <td>0.000000</td>\n",
       "    </tr>\n",
       "    <tr>\n",
       "      <th>1</th>\n",
       "      <td>1</td>\n",
       "      <td>3</td>\n",
       "      <td>4.0</td>\n",
       "      <td>964981247</td>\n",
       "      <td>85</td>\n",
       "      <td>29</td>\n",
       "      <td>42</td>\n",
       "      <td>83</td>\n",
       "      <td>47</td>\n",
       "      <td>26</td>\n",
       "      <td>...</td>\n",
       "      <td>0.0</td>\n",
       "      <td>0.0</td>\n",
       "      <td>0.000000</td>\n",
       "      <td>0.0</td>\n",
       "      <td>0.0</td>\n",
       "      <td>0.000000</td>\n",
       "      <td>0.0</td>\n",
       "      <td>0.0</td>\n",
       "      <td>0.0</td>\n",
       "      <td>0.000000</td>\n",
       "    </tr>\n",
       "    <tr>\n",
       "      <th>2</th>\n",
       "      <td>1</td>\n",
       "      <td>6</td>\n",
       "      <td>4.0</td>\n",
       "      <td>964982224</td>\n",
       "      <td>85</td>\n",
       "      <td>29</td>\n",
       "      <td>42</td>\n",
       "      <td>83</td>\n",
       "      <td>47</td>\n",
       "      <td>26</td>\n",
       "      <td>...</td>\n",
       "      <td>0.0</td>\n",
       "      <td>0.0</td>\n",
       "      <td>0.000000</td>\n",
       "      <td>0.0</td>\n",
       "      <td>0.0</td>\n",
       "      <td>0.000000</td>\n",
       "      <td>0.0</td>\n",
       "      <td>0.0</td>\n",
       "      <td>0.0</td>\n",
       "      <td>0.000000</td>\n",
       "    </tr>\n",
       "    <tr>\n",
       "      <th>3</th>\n",
       "      <td>1</td>\n",
       "      <td>47</td>\n",
       "      <td>5.0</td>\n",
       "      <td>964983815</td>\n",
       "      <td>85</td>\n",
       "      <td>29</td>\n",
       "      <td>42</td>\n",
       "      <td>83</td>\n",
       "      <td>47</td>\n",
       "      <td>26</td>\n",
       "      <td>...</td>\n",
       "      <td>0.0</td>\n",
       "      <td>0.0</td>\n",
       "      <td>0.000000</td>\n",
       "      <td>0.0</td>\n",
       "      <td>0.0</td>\n",
       "      <td>0.000000</td>\n",
       "      <td>0.0</td>\n",
       "      <td>0.0</td>\n",
       "      <td>0.0</td>\n",
       "      <td>0.000000</td>\n",
       "    </tr>\n",
       "    <tr>\n",
       "      <th>4</th>\n",
       "      <td>1</td>\n",
       "      <td>50</td>\n",
       "      <td>5.0</td>\n",
       "      <td>964982931</td>\n",
       "      <td>85</td>\n",
       "      <td>29</td>\n",
       "      <td>42</td>\n",
       "      <td>83</td>\n",
       "      <td>47</td>\n",
       "      <td>26</td>\n",
       "      <td>...</td>\n",
       "      <td>0.0</td>\n",
       "      <td>0.0</td>\n",
       "      <td>0.000000</td>\n",
       "      <td>0.0</td>\n",
       "      <td>0.0</td>\n",
       "      <td>0.000000</td>\n",
       "      <td>0.0</td>\n",
       "      <td>0.0</td>\n",
       "      <td>0.0</td>\n",
       "      <td>0.000000</td>\n",
       "    </tr>\n",
       "    <tr>\n",
       "      <th>...</th>\n",
       "      <td>...</td>\n",
       "      <td>...</td>\n",
       "      <td>...</td>\n",
       "      <td>...</td>\n",
       "      <td>...</td>\n",
       "      <td>...</td>\n",
       "      <td>...</td>\n",
       "      <td>...</td>\n",
       "      <td>...</td>\n",
       "      <td>...</td>\n",
       "      <td>...</td>\n",
       "      <td>...</td>\n",
       "      <td>...</td>\n",
       "      <td>...</td>\n",
       "      <td>...</td>\n",
       "      <td>...</td>\n",
       "      <td>...</td>\n",
       "      <td>...</td>\n",
       "      <td>...</td>\n",
       "      <td>...</td>\n",
       "      <td>...</td>\n",
       "    </tr>\n",
       "    <tr>\n",
       "      <th>100831</th>\n",
       "      <td>610</td>\n",
       "      <td>166534</td>\n",
       "      <td>4.0</td>\n",
       "      <td>1493848402</td>\n",
       "      <td>267</td>\n",
       "      <td>66</td>\n",
       "      <td>56</td>\n",
       "      <td>411</td>\n",
       "      <td>151</td>\n",
       "      <td>119</td>\n",
       "      <td>...</td>\n",
       "      <td>0.0</td>\n",
       "      <td>0.0</td>\n",
       "      <td>0.000000</td>\n",
       "      <td>0.0</td>\n",
       "      <td>0.0</td>\n",
       "      <td>0.000000</td>\n",
       "      <td>0.0</td>\n",
       "      <td>0.0</td>\n",
       "      <td>0.0</td>\n",
       "      <td>0.000000</td>\n",
       "    </tr>\n",
       "    <tr>\n",
       "      <th>100832</th>\n",
       "      <td>610</td>\n",
       "      <td>168248</td>\n",
       "      <td>5.0</td>\n",
       "      <td>1493850091</td>\n",
       "      <td>267</td>\n",
       "      <td>66</td>\n",
       "      <td>56</td>\n",
       "      <td>411</td>\n",
       "      <td>151</td>\n",
       "      <td>119</td>\n",
       "      <td>...</td>\n",
       "      <td>0.0</td>\n",
       "      <td>0.0</td>\n",
       "      <td>0.000000</td>\n",
       "      <td>0.0</td>\n",
       "      <td>0.0</td>\n",
       "      <td>0.245020</td>\n",
       "      <td>0.0</td>\n",
       "      <td>0.0</td>\n",
       "      <td>0.0</td>\n",
       "      <td>0.000000</td>\n",
       "    </tr>\n",
       "    <tr>\n",
       "      <th>100833</th>\n",
       "      <td>610</td>\n",
       "      <td>168250</td>\n",
       "      <td>5.0</td>\n",
       "      <td>1494273047</td>\n",
       "      <td>267</td>\n",
       "      <td>66</td>\n",
       "      <td>56</td>\n",
       "      <td>411</td>\n",
       "      <td>151</td>\n",
       "      <td>119</td>\n",
       "      <td>...</td>\n",
       "      <td>0.0</td>\n",
       "      <td>0.0</td>\n",
       "      <td>0.000000</td>\n",
       "      <td>0.0</td>\n",
       "      <td>0.0</td>\n",
       "      <td>0.000000</td>\n",
       "      <td>0.0</td>\n",
       "      <td>0.0</td>\n",
       "      <td>0.0</td>\n",
       "      <td>0.000000</td>\n",
       "    </tr>\n",
       "    <tr>\n",
       "      <th>100834</th>\n",
       "      <td>610</td>\n",
       "      <td>168252</td>\n",
       "      <td>5.0</td>\n",
       "      <td>1493846352</td>\n",
       "      <td>267</td>\n",
       "      <td>66</td>\n",
       "      <td>56</td>\n",
       "      <td>411</td>\n",
       "      <td>151</td>\n",
       "      <td>119</td>\n",
       "      <td>...</td>\n",
       "      <td>0.0</td>\n",
       "      <td>0.0</td>\n",
       "      <td>0.000000</td>\n",
       "      <td>0.0</td>\n",
       "      <td>0.0</td>\n",
       "      <td>0.291784</td>\n",
       "      <td>0.0</td>\n",
       "      <td>0.0</td>\n",
       "      <td>0.0</td>\n",
       "      <td>0.282198</td>\n",
       "    </tr>\n",
       "    <tr>\n",
       "      <th>100835</th>\n",
       "      <td>610</td>\n",
       "      <td>170875</td>\n",
       "      <td>3.0</td>\n",
       "      <td>1493846415</td>\n",
       "      <td>267</td>\n",
       "      <td>66</td>\n",
       "      <td>56</td>\n",
       "      <td>411</td>\n",
       "      <td>151</td>\n",
       "      <td>119</td>\n",
       "      <td>...</td>\n",
       "      <td>0.0</td>\n",
       "      <td>0.0</td>\n",
       "      <td>0.365896</td>\n",
       "      <td>0.0</td>\n",
       "      <td>0.0</td>\n",
       "      <td>0.313337</td>\n",
       "      <td>0.0</td>\n",
       "      <td>0.0</td>\n",
       "      <td>0.0</td>\n",
       "      <td>0.000000</td>\n",
       "    </tr>\n",
       "  </tbody>\n",
       "</table>\n",
       "<p>100836 rows × 324 columns</p>\n",
       "</div>"
      ],
      "text/plain": [
       "        userId  movieId  rating   timestamp  u_1  u_2  u_3  u_4  u_5  u_6  \\\n",
       "0            1        1     4.0   964982703   85   29   42   83   47   26   \n",
       "1            1        3     4.0   964981247   85   29   42   83   47   26   \n",
       "2            1        6     4.0   964982224   85   29   42   83   47   26   \n",
       "3            1       47     5.0   964983815   85   29   42   83   47   26   \n",
       "4            1       50     5.0   964982931   85   29   42   83   47   26   \n",
       "...        ...      ...     ...         ...  ...  ...  ...  ...  ...  ...   \n",
       "100831     610   166534     4.0  1493848402  267   66   56  411  151  119   \n",
       "100832     610   168248     5.0  1493850091  267   66   56  411  151  119   \n",
       "100833     610   168250     5.0  1494273047  267   66   56  411  151  119   \n",
       "100834     610   168252     5.0  1493846352  267   66   56  411  151  119   \n",
       "100835     610   170875     3.0  1493846415  267   66   56  411  151  119   \n",
       "\n",
       "        ...  i_291  i_292     i_293  i_294  i_295     i_296  i_297  i_298  \\\n",
       "0       ...    0.0    0.0  0.000000    0.0    0.0  0.000000    0.0    0.0   \n",
       "1       ...    0.0    0.0  0.000000    0.0    0.0  0.000000    0.0    0.0   \n",
       "2       ...    0.0    0.0  0.000000    0.0    0.0  0.000000    0.0    0.0   \n",
       "3       ...    0.0    0.0  0.000000    0.0    0.0  0.000000    0.0    0.0   \n",
       "4       ...    0.0    0.0  0.000000    0.0    0.0  0.000000    0.0    0.0   \n",
       "...     ...    ...    ...       ...    ...    ...       ...    ...    ...   \n",
       "100831  ...    0.0    0.0  0.000000    0.0    0.0  0.000000    0.0    0.0   \n",
       "100832  ...    0.0    0.0  0.000000    0.0    0.0  0.245020    0.0    0.0   \n",
       "100833  ...    0.0    0.0  0.000000    0.0    0.0  0.000000    0.0    0.0   \n",
       "100834  ...    0.0    0.0  0.000000    0.0    0.0  0.291784    0.0    0.0   \n",
       "100835  ...    0.0    0.0  0.365896    0.0    0.0  0.313337    0.0    0.0   \n",
       "\n",
       "        i_299     i_300  \n",
       "0         0.0  0.000000  \n",
       "1         0.0  0.000000  \n",
       "2         0.0  0.000000  \n",
       "3         0.0  0.000000  \n",
       "4         0.0  0.000000  \n",
       "...       ...       ...  \n",
       "100831    0.0  0.000000  \n",
       "100832    0.0  0.000000  \n",
       "100833    0.0  0.000000  \n",
       "100834    0.0  0.282198  \n",
       "100835    0.0  0.000000  \n",
       "\n",
       "[100836 rows x 324 columns]"
      ]
     },
     "execution_count": 15,
     "metadata": {},
     "output_type": "execute_result"
    }
   ],
   "source": [
    "cb.df # user-movie"
   ]
  },
  {
   "cell_type": "code",
   "execution_count": null,
   "id": "c898de69",
   "metadata": {},
   "outputs": [],
   "source": []
  },
  {
   "cell_type": "code",
   "execution_count": null,
   "id": "ae0a771e",
   "metadata": {},
   "outputs": [],
   "source": []
  },
  {
   "cell_type": "markdown",
   "id": "b592aed7",
   "metadata": {},
   "source": [
    "## Fit model"
   ]
  },
  {
   "cell_type": "code",
   "execution_count": null,
   "id": "b203e781",
   "metadata": {
    "ExecuteTime": {
     "end_time": "2021-10-09T11:31:21.410282Z",
     "start_time": "2021-10-09T11:31:20.794269Z"
    },
    "scrolled": true
   },
   "outputs": [],
   "source": [
    "#Declare your model\n",
    "rs_model1 = RandomForestRegressor(random_state=202109, n_jobs=-1)\n",
    "\n",
    "#Do your train and test split\n",
    "df_train, df_test, df_test_um, indx_train, indx_test = split_train_test(df, 0.7) #To split the data\n",
    "\n",
    "# df_train = df_train.sample(100)\n",
    "\n",
    "#Fit your model to the train data\n",
    "model_fit = fit_ml_cb(df_train, rs_model1) #To fit the model\n",
    "\n",
    "#Predict on the test data\n",
    "preds_array = reco_ml_cb_tt(df_test, model_fit) #To make predictions as an array"
   ]
  },
  {
   "cell_type": "code",
   "execution_count": null,
   "id": "57517970",
   "metadata": {
    "ExecuteTime": {
     "end_time": "2021-10-09T11:31:21.985704Z",
     "start_time": "2021-10-09T11:31:21.946593Z"
    }
   },
   "outputs": [],
   "source": [
    "preds_array"
   ]
  },
  {
   "cell_type": "markdown",
   "id": "e0c6bc49",
   "metadata": {},
   "source": [
    "## Predict"
   ]
  },
  {
   "cell_type": "code",
   "execution_count": null,
   "id": "149c0ffa",
   "metadata": {
    "ExecuteTime": {
     "end_time": "2021-10-09T11:29:02.909639Z",
     "start_time": "2021-10-09T11:29:02.870603Z"
    }
   },
   "outputs": [],
   "source": [
    "def get_rec(utility_matrix_preds, utility_matrix, user_list, top_n, uc_assignment=None):\n",
    "    \n",
    "    \"\"\"Returns the top N item cluster recommendations for each user in the user list\n",
    "    \n",
    "            Parameters:\n",
    "                    utility_matrix (numpy.ndarray): Matrix of utilities for each user-item pairing\n",
    "                    utility_matrix_o (numpy.ndarray): Original utility matrix, before imputation\n",
    "                    user_list (array-like): List of users\n",
    "                    uc_assignment (array-like): List containing the cluster assignment of each user\n",
    "                    top_n (int): Number of item clusters to recommend\n",
    "\n",
    "            Returns:\n",
    "                    df_rec (pandas.DataFrame): Table containing the top N item cluster recommendations for each user in the user list\n",
    "                    \n",
    "    \"\"\"\n",
    "    \n",
    "    # Class stuff\n",
    "    utility_matrix_o = utility_matrix.fillna(0).values\n",
    "    utility_matrix = utility_matrix_preds.values\n",
    "    \n",
    "    # Don't recommend items that are already rated\n",
    "    utility_matrix[np.where(utility_matrix_o != 0)] = -np.inf\n",
    "    \n",
    "    # Get top N per user cluster\n",
    "    cluster_rec = utility_matrix.argsort()[:, -top_n:]\n",
    "\n",
    "    # Create recommendation table\n",
    "    df_rec = pd.DataFrame()\n",
    "    df_rec['user_id'] = user_list\n",
    "                \n",
    "    for i in range(top_n):\n",
    "        df_rec['rank_'+str(i+1)] = np.zeros(df_rec.shape[0])\n",
    "        for j in range(df_rec.shape[0]):\n",
    "            if uc_assignment is None:\n",
    "                df_rec.iloc[j, i+1] = cluster_rec[user_list[j], top_n-i-1]\n",
    "            else:\n",
    "                df_rec.iloc[j, i+1] = cluster_rec[uc_assignment.iloc[user_list[j], 0], top_n-i-1]\n",
    "    \n",
    "    # look-up tables\n",
    "    if uc_assignment is None:\n",
    "        user_id_lookup = utility_matrix_preds.index\n",
    "        item_id_lookup = utility_matrix_preds.columns\n",
    "        for j in range(df_rec.shape[0]):\n",
    "            df_rec.iloc[j, 0] = user_id_lookup[df_rec.iloc[j, 0].astype('int32')]\n",
    "            for i in range(top_n):\n",
    "                df_rec.iloc[j, i+1] = item_id_lookup[df_rec.iloc[j, i+1].astype('int32')]\n",
    "    \n",
    "    return df_rec"
   ]
  },
  {
   "cell_type": "code",
   "execution_count": null,
   "id": "e1680a6b",
   "metadata": {
    "ExecuteTime": {
     "end_time": "2021-10-09T11:29:03.562421Z",
     "start_time": "2021-10-09T11:29:03.528683Z"
    }
   },
   "outputs": [],
   "source": [
    "from resype.resype import Resype"
   ]
  },
  {
   "cell_type": "code",
   "execution_count": null,
   "id": "8903946a",
   "metadata": {
    "ExecuteTime": {
     "end_time": "2021-10-09T11:29:03.887235Z",
     "start_time": "2021-10-09T11:29:03.852019Z"
    }
   },
   "outputs": [],
   "source": [
    "user_ = user_df.drop(['userId'], axis=1)"
   ]
  },
  {
   "cell_type": "code",
   "execution_count": null,
   "id": "89ae5045",
   "metadata": {
    "ExecuteTime": {
     "end_time": "2021-10-09T11:29:04.268728Z",
     "start_time": "2021-10-09T11:29:04.234488Z"
    }
   },
   "outputs": [],
   "source": [
    "user_ = user_.sample(10)"
   ]
  },
  {
   "cell_type": "code",
   "execution_count": null,
   "id": "afc5d74b",
   "metadata": {
    "ExecuteTime": {
     "end_time": "2021-10-09T11:29:04.618828Z",
     "start_time": "2021-10-09T11:29:04.579319Z"
    }
   },
   "outputs": [],
   "source": [
    "item_ = item_df.drop(['movieId'], axis=1)"
   ]
  },
  {
   "cell_type": "code",
   "execution_count": null,
   "id": "f1cc2e50",
   "metadata": {
    "ExecuteTime": {
     "end_time": "2021-10-09T11:29:09.867172Z",
     "start_time": "2021-10-09T11:29:04.931439Z"
    },
    "scrolled": true
   },
   "outputs": [],
   "source": [
    "reco_mtx = reco_ml_cb(user_, item_, item_ids, model_fit)\n",
    "reco_mtx"
   ]
  },
  {
   "cell_type": "code",
   "execution_count": null,
   "id": "b28d843b",
   "metadata": {
    "ExecuteTime": {
     "end_time": "2021-10-09T11:29:10.865820Z",
     "start_time": "2021-10-09T11:29:10.834834Z"
    }
   },
   "outputs": [],
   "source": [
    "reco_inds = np.array(reco_mtx.index)\n",
    "reco_inds"
   ]
  },
  {
   "cell_type": "code",
   "execution_count": null,
   "id": "23c6c149",
   "metadata": {
    "ExecuteTime": {
     "end_time": "2021-10-09T11:29:11.788464Z",
     "start_time": "2021-10-09T11:29:11.678347Z"
    }
   },
   "outputs": [],
   "source": [
    "um = _.drop('timestamp', axis=1)\n",
    "um.columns = ['user_id', 'item_id', 'rating']\n",
    "\n",
    "rs = Resype(um)\n",
    "original_um = rs.construct_utility_matrix()\n",
    "original_um = original_um.loc[reco_inds[:], :]\n",
    "original_um = original_um[reco_mtx.columns]"
   ]
  },
  {
   "cell_type": "code",
   "execution_count": null,
   "id": "167e79cf",
   "metadata": {
    "ExecuteTime": {
     "end_time": "2021-10-09T11:29:12.215809Z",
     "start_time": "2021-10-09T11:29:12.179334Z"
    }
   },
   "outputs": [],
   "source": [
    "reco_mtx.shape, original_um.shape"
   ]
  },
  {
   "cell_type": "code",
   "execution_count": null,
   "id": "35e89f97",
   "metadata": {
    "ExecuteTime": {
     "end_time": "2021-10-09T11:29:12.837797Z",
     "start_time": "2021-10-09T11:29:12.761966Z"
    }
   },
   "outputs": [],
   "source": [
    "original_um = original_um.fillna(0)\n",
    "original_um"
   ]
  },
  {
   "cell_type": "code",
   "execution_count": null,
   "id": "3dd26082",
   "metadata": {
    "ExecuteTime": {
     "end_time": "2021-10-09T11:29:13.276029Z",
     "start_time": "2021-10-09T11:29:13.207198Z"
    }
   },
   "outputs": [],
   "source": [
    "reco_mtx = reco_mtx.fillna(0)\n",
    "reco_mtx"
   ]
  },
  {
   "cell_type": "markdown",
   "id": "d64ada4a",
   "metadata": {},
   "source": [
    "## Get recommendations"
   ]
  },
  {
   "cell_type": "code",
   "execution_count": null,
   "id": "4e32d1ee",
   "metadata": {
    "ExecuteTime": {
     "end_time": "2021-10-09T11:29:14.200040Z",
     "start_time": "2021-10-09T11:29:14.140621Z"
    }
   },
   "outputs": [],
   "source": [
    "\n",
    "get_rec(reco_mtx, original_um, user_list = [0, 2], top_n = 3)"
   ]
  },
  {
   "cell_type": "markdown",
   "id": "5bb0c0c6",
   "metadata": {},
   "source": [
    "## Evaluate"
   ]
  },
  {
   "cell_type": "code",
   "execution_count": null,
   "id": "2eef0565",
   "metadata": {
    "ExecuteTime": {
     "end_time": "2021-10-09T11:29:15.128305Z",
     "start_time": "2021-10-09T11:29:15.091929Z"
    }
   },
   "outputs": [],
   "source": [
    "evaluate_arrays(preds_array, df, indx_test) #MSE and MAE"
   ]
  },
  {
   "cell_type": "markdown",
   "id": "17696ba4",
   "metadata": {},
   "source": [
    "## Cross Validation"
   ]
  },
  {
   "cell_type": "code",
   "execution_count": null,
   "id": "b16b66e2",
   "metadata": {
    "ExecuteTime": {
     "end_time": "2021-10-09T11:29:16.235525Z",
     "start_time": "2021-10-09T11:29:16.172403Z"
    }
   },
   "outputs": [],
   "source": [
    "df"
   ]
  },
  {
   "cell_type": "code",
   "execution_count": null,
   "id": "a82f7e84",
   "metadata": {
    "ExecuteTime": {
     "end_time": "2021-10-09T11:33:16.994611Z",
     "start_time": "2021-10-09T11:33:13.654252Z"
    },
    "scrolled": true
   },
   "outputs": [],
   "source": [
    "mse, mae = cross_val(df, 5, rs_model1, split_method='random')"
   ]
  },
  {
   "cell_type": "code",
   "execution_count": null,
   "id": "b94047da",
   "metadata": {
    "ExecuteTime": {
     "end_time": "2021-10-09T11:33:19.426392Z",
     "start_time": "2021-10-09T11:33:19.390186Z"
    }
   },
   "outputs": [],
   "source": [
    "mse, mae"
   ]
  },
  {
   "cell_type": "code",
   "execution_count": null,
   "id": "efa71860",
   "metadata": {},
   "outputs": [],
   "source": []
  }
 ],
 "metadata": {
  "celltoolbar": "Tags",
  "kernelspec": {
   "display_name": "Python 3 (ipykernel)",
   "language": "python",
   "name": "python3"
  },
  "language_info": {
   "codemirror_mode": {
    "name": "ipython",
    "version": 3
   },
   "file_extension": ".py",
   "mimetype": "text/x-python",
   "name": "python",
   "nbconvert_exporter": "python",
   "pygments_lexer": "ipython3",
   "version": "3.9.6"
  }
 },
 "nbformat": 4,
 "nbformat_minor": 5
}
